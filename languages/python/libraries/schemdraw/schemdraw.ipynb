{
 "cells": [
  {
   "attachments": {},
   "cell_type": "markdown",
   "metadata": {},
   "source": [
    "# [Schemdraw](schemdraw.md)\n",
    "\n",
    "Schemdraw is a [python](/languages/python/python.md) library for **drawing electrical schematics**. It is designed to be easy to use, and to produce high-quality output."
   ]
  },
  {
   "cell_type": "code",
   "execution_count": 1,
   "metadata": {},
   "outputs": [],
   "source": [
    "import schemdraw\n",
    "import schemdraw.elements as elm  "
   ]
  },
  {
   "cell_type": "code",
   "execution_count": 6,
   "metadata": {},
   "outputs": [
    {
     "data": {
      "image/png": "[encoded data removed]",
      "image/svg+xml": "<?xml version=\"1.0\" encoding=\"utf-8\" standalone=\"no\"?>\n<!DOCTYPE svg PUBLIC \"-//W3C//DTD SVG 1.1//EN\"\n  \"http://www.w3.org/Graphics/SVG/1.1/DTD/svg11.dtd\">\n<svg xmlns:xlink=\"http://www.w3.org/1999/xlink\" width=\"119.97pt\" height=\"164.374pt\" viewBox=\"0 0 119.97 164.374\" xmlns=\"http://www.w3.org/2000/svg\" version=\"1.1\">\n <metadata>\n  <rdf:RDF xmlns:dc=\"http://purl.org/dc/elements/1.1/\" xmlns:cc=\"http://creativecommons.org/ns#\" xmlns:rdf=\"http://www.w3.org/1999/02/22-rdf-syntax-ns#\">\n   <cc:Work>\n    <dc:type rdf:resource=\"http://purl.org/dc/dcmitype/StillImage\"/>\n    <dc:date>2023-02-23T01:43:57.889035</dc:date>\n    <dc:format>image/svg+xml</dc:format>\n    <dc:creator>\n     <cc:Agent>\n      <dc:title>Matplotlib v3.6.3, https://matplotlib.org/</dc:title>\n     </cc:Agent>\n    </dc:creator>\n   </cc:Work>\n  </rdf:RDF>\n </metadata>\n <defs>\n  <style type=\"text/css\">*{stroke-linejoin: round; stroke-linecap: butt}</style>\n </defs>\n <g id=\"figure_1\">\n  <g id=\"patch_1\">\n   <path d=\"M 0 164.374 \nL 119.97 164.374 \nL 119.97 0 \nL 0 0 \nz\n\" style=\"fill: #ffffff\"/>\n  </g>\n  <g id=\"axes_1\">\n   <g id=\"line2d_1\">\n    <path d=\"M 10.26 42.73 \nL 40.86 42.73 \nL 43.41 35.08 \nL 48.51 50.38 \nL 53.61 35.08 \nL 58.71 50.38 \nL 63.81 35.08 \nL 68.91 50.38 \nL 71.46 42.73 \nL 102.06 42.73 \n\" clip-path=\"url(#p279e9f42df)\" style=\"fill: none; stroke: #000000; stroke-width: 2; stroke-linecap: round\"/>\n   </g>\n   <g id=\"line2d_2\">\n    <path d=\"M 102.06 42.73 \nL 102.06 85.876 \nM 109.71 85.876 \nL 94.41 85.876 \nM 109.71 91.384 \nL 94.41 91.384 \nM 102.06 91.384 \nL 102.06 134.53 \n\" clip-path=\"url(#p279e9f42df)\" style=\"fill: none; stroke: #000000; stroke-width: 2; stroke-linecap: round\"/>\n   </g>\n   <g id=\"line2d_3\">\n    <path d=\"M 102.06 134.53 \nL 102.06 146.77 \nL 94.41 146.77 \nL 109.71 146.77 \nM 96.705 150.442 \nL 107.415 150.442 \nM 100.53 154.114 \nL 103.59 154.114 \n\" clip-path=\"url(#p279e9f42df)\" style=\"fill: none; stroke: #000000; stroke-width: 2; stroke-linecap: round\"/>\n   </g>\n   <g id=\"text_1\">\n    <g clip-path=\"url(#p279e9f42df)\">\n     <!-- 10k$\\Omega$ -->\n     <g transform=\"translate(39.785 29.420391) scale(0.125 -0.125)\">\n      <defs>\n       <path id=\"DejaVuSans-31\" d=\"M 794 531 \nL 1825 531 \nL 1825 4091 \nL 703 3866 \nL 703 4441 \nL 1819 4666 \nL 2450 4666 \nL 2450 531 \nL 3481 531 \nL 3481 0 \nL 794 0 \nL 794 531 \nz\n\" transform=\"scale(0.015625)\"/>\n       <path id=\"DejaVuSans-30\" d=\"M 2034 4250 \nQ 1547 4250 1301 3770 \nQ 1056 3291 1056 2328 \nQ 1056 1369 1301 889 \nQ 1547 409 2034 409 \nQ 2525 409 2770 889 \nQ 3016 1369 3016 2328 \nQ 3016 3291 2770 3770 \nQ 2525 4250 2034 4250 \nz\nM 2034 4750 \nQ 2819 4750 3233 4129 \nQ 3647 3509 3647 2328 \nQ 3647 1150 3233 529 \nQ 2819 -91 2034 -91 \nQ 1250 -91 836 529 \nQ 422 1150 422 2328 \nQ 422 3509 836 4129 \nQ 1250 4750 2034 4750 \nz\n\" transform=\"scale(0.015625)\"/>\n       <path id=\"DejaVuSans-6b\" d=\"M 581 4863 \nL 1159 4863 \nL 1159 1991 \nL 2875 3500 \nL 3609 3500 \nL 1753 1863 \nL 3688 0 \nL 2938 0 \nL 1159 1709 \nL 1159 0 \nL 581 0 \nL 581 4863 \nz\n\" transform=\"scale(0.015625)\"/>\n       <path id=\"DejaVuSans-3a9\" d=\"M 4647 556 \nL 4647 0 \nL 2772 0 \nL 2772 556 \nQ 3325 859 3634 1378 \nQ 3944 1897 3944 2528 \nQ 3944 3278 3531 3731 \nQ 3119 4184 2444 4184 \nQ 1769 4184 1355 3729 \nQ 941 3275 941 2528 \nQ 941 1897 1250 1378 \nQ 1563 859 2119 556 \nL 2119 0 \nL 244 0 \nL 244 556 \nL 1241 556 \nQ 747 991 519 1456 \nQ 294 1922 294 2497 \nQ 294 3491 894 4106 \nQ 1491 4722 2444 4722 \nQ 3391 4722 3994 4106 \nQ 4594 3494 4594 2528 \nQ 4594 1922 4372 1459 \nQ 4150 997 3647 556 \nL 4647 556 \nz\n\" transform=\"scale(0.015625)\"/>\n      </defs>\n      <use xlink:href=\"#DejaVuSans-31\" transform=\"translate(0 0.015625)\"/>\n      <use xlink:href=\"#DejaVuSans-30\" transform=\"translate(63.623047 0.015625)\"/>\n      <use xlink:href=\"#DejaVuSans-6b\" transform=\"translate(127.246094 0.015625)\"/>\n      <use xlink:href=\"#DejaVuSans-3a9\" transform=\"translate(185.15625 0.015625)\"/>\n     </g>\n    </g>\n   </g>\n   <g id=\"text_2\">\n    <g clip-path=\"url(#p279e9f42df)\">\n     <!-- 100nF -->\n     <g transform=\"translate(52.379297 92.079219) scale(0.125 -0.125)\">\n      <defs>\n       <path id=\"DejaVuSans-6e\" d=\"M 3513 2113 \nL 3513 0 \nL 2938 0 \nL 2938 2094 \nQ 2938 2591 2744 2837 \nQ 2550 3084 2163 3084 \nQ 1697 3084 1428 2787 \nQ 1159 2491 1159 1978 \nL 1159 0 \nL 581 0 \nL 581 3500 \nL 1159 3500 \nL 1159 2956 \nQ 1366 3272 1645 3428 \nQ 1925 3584 2291 3584 \nQ 2894 3584 3203 3211 \nQ 3513 2838 3513 2113 \nz\n\" transform=\"scale(0.015625)\"/>\n       <path id=\"DejaVuSans-46\" d=\"M 628 4666 \nL 3309 4666 \nL 3309 4134 \nL 1259 4134 \nL 1259 2759 \nL 3109 2759 \nL 3109 2228 \nL 1259 2228 \nL 1259 0 \nL 628 0 \nL 628 4666 \nz\n\" transform=\"scale(0.015625)\"/>\n      </defs>\n      <use xlink:href=\"#DejaVuSans-31\"/>\n      <use xlink:href=\"#DejaVuSans-30\" x=\"63.623047\"/>\n      <use xlink:href=\"#DejaVuSans-30\" x=\"127.246094\"/>\n      <use xlink:href=\"#DejaVuSans-6e\" x=\"190.869141\"/>\n      <use xlink:href=\"#DejaVuSans-46\" x=\"254.248047\"/>\n     </g>\n    </g>\n   </g>\n  </g>\n </g>\n <defs>\n  <clipPath id=\"p279e9f42df\">\n   <rect x=\"7.2\" y=\"7.2\" width=\"105.57\" height=\"149.974\"/>\n  </clipPath>\n </defs>\n</svg>\n",
      "text/plain": [
       "<schemdraw.backends.mpl.Figure object at 0x00000252D59561D0>"
      ]
     },
     "execution_count": 6,
     "metadata": {},
     "output_type": "execute_result"
    }
   ],
   "source": [
    "d = schemdraw.Drawing()  # Create a new drawing\n",
    "d.add(elm.Resistor, d='right', label='10k$\\Omega$')  # Add a resistor\n",
    "d.add(elm.Capacitor, d='down', label='100nF')  # Add a capacitor\n",
    "d.add(elm.Ground)  # Add a ground symbol\n",
    "d.draw()  # Render the drawing"
   ]
  },
  {
   "cell_type": "code",
   "execution_count": null,
   "metadata": {},
   "outputs": [],
   "source": []
  }
 ],
 "metadata": {
  "kernelspec": {
   "display_name": ".venv",
   "language": "python",
   "name": "python3"
  },
  "language_info": {
   "codemirror_mode": {
    "name": "ipython",
    "version": 3
   },
   "file_extension": ".py",
   "mimetype": "text/x-python",
   "name": "python",
   "nbconvert_exporter": "python",
   "pygments_lexer": "ipython3",
   "version": "3.11.1"
  },
  "orig_nbformat": 4,
  "vscode": {
   "interpreter": {
    "hash": "737c9a5836bbe7b2abec811c26850db8cf74062e418130141d6ed9ff3fba030b"
   }
  }
 },
 "nbformat": 4,
 "nbformat_minor": 2
}
