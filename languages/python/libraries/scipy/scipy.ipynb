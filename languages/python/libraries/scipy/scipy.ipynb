{
 "cells": [
  {
   "attachments": {},
   "cell_type": "markdown",
   "metadata": {},
   "source": [
    "# [SciPy](http://www.scipy.org/)\n",
    "\n",
    "Is a collection of mathematical algorithms and convenience functions built on the [NumPy](http://www.numpy.org/) extension of [Python](http://www.python.org/). It provides:"
   ]
  },
  {
   "cell_type": "code",
   "execution_count": 2,
   "metadata": {},
   "outputs": [],
   "source": [
    "import scipy"
   ]
  }
 ],
 "metadata": {
  "kernelspec": {
   "display_name": "Python 3",
   "language": "python",
   "name": "python3"
  },
  "language_info": {
   "codemirror_mode": {
    "name": "ipython",
    "version": 3
   },
   "file_extension": ".py",
   "mimetype": "text/x-python",
   "name": "python",
   "nbconvert_exporter": "python",
   "pygments_lexer": "ipython3",
   "version": "3.11.1 (tags/v3.11.1:a7a450f, Dec  6 2022, 19:58:39) [MSC v.1934 64 bit (AMD64)]"
  },
  "orig_nbformat": 4,
  "vscode": {
   "interpreter": {
    "hash": "1bbba381326e6b0f8b33bafca923bd106b97453bcb5e84edec24c0a8cb9538a0"
   }
  }
 },
 "nbformat": 4,
 "nbformat_minor": 2
}
