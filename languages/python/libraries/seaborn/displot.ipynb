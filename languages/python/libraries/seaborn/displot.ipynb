{
 "cells": [
  {
   "attachments": {},
   "cell_type": "markdown",
   "metadata": {},
   "source": [
    "# [Distribution Plot](https://seaborn.pydata.org/generated/seaborn.distplot.html)\n",
    "\n",
    "- [histogram](https://seaborn.pydata.org/generated/seaborn.histplot.html)\n",
    "- [kdeplot (kernel density estimation plot)](https://seaborn.pydata.org/generated/seaborn.kdeplot.html)\n",
    "- [ecdfplot (empirical cumulative distribution function plot)](https://seaborn.pydata.org/generated/seaborn.ecdfplot.html)\n",
    "- [rugplot](https://seaborn.pydata.org/generated/seaborn.rugplot.html) (rugplot is a plot of data points in an array as sticks on an axis)"
   ]
  },
  {
   "cell_type": "code",
   "execution_count": 1,
   "metadata": {},
   "outputs": [],
   "source": [
    "import seaborn as sns\n",
    "import matplotlib.pyplot as plt"
   ]
  }
 ],
 "metadata": {
  "kernelspec": {
   "display_name": ".venv",
   "language": "python",
   "name": "python3"
  },
  "language_info": {
   "codemirror_mode": {
    "name": "ipython",
    "version": 3
   },
   "file_extension": ".py",
   "mimetype": "text/x-python",
   "name": "python",
   "nbconvert_exporter": "python",
   "pygments_lexer": "ipython3",
   "version": "3.11.1"
  },
  "orig_nbformat": 4,
  "vscode": {
   "interpreter": {
    "hash": "90e9cecf0ab6516382938111031b3a23db288579fe2d09bae4330be5540f9898"
   }
  }
 },
 "nbformat": 4,
 "nbformat_minor": 2
}
