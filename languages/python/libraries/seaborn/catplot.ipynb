{
 "cells": [
  {
   "attachments": {},
   "cell_type": "markdown",
   "metadata": {},
   "source": [
    "# [Categorical Plot](https://seaborn.pydata.org/generated/seaborn.catplot.html#seaborn.catplot)\n",
    "\n",
    "- Scatterplots\n",
    "    - [stripplot](https://seaborn.pydata.org/generated/seaborn.stripplot.html#seaborn.stripplot)\n",
    "    - [swarmplot](https://seaborn.pydata.org/generated/seaborn.swarmplot.html#seaborn.swarmplot)\n",
    "- Distribution plots\n",
    "    - [boxplot](https://seaborn.pydata.org/generated/seaborn.boxplot.html#seaborn.boxplot)\n",
    "    - [violinplot](https://seaborn.pydata.org/generated/seaborn.violinplot.html#seaborn.violinplot)\n",
    "    - [boxenplot](https://seaborn.pydata.org/generated/seaborn.boxenplot.html#seaborn.boxenplot)\n",
    "- Estimator plots\n",
    "    - [pointplot](https://seaborn.pydata.org/generated/seaborn.pointplot.html#seaborn.pointplot)\n",
    "    - [barplot](https://seaborn.pydata.org/generated/seaborn.barplot.html#seaborn.barplot)\n",
    "    - [countplot](https://seaborn.pydata.org/generated/seaborn.countplot.html#seaborn.countplot)"
   ]
  },
  {
   "cell_type": "code",
   "execution_count": 2,
   "metadata": {},
   "outputs": [],
   "source": [
    "import seaborn as sns\n",
    "sns.set(style=\"ticks\", color_codes=True)  # Set aesthetic parameters in one step.\n",
    "tips = sns.load_dataset(\"tips\")  # Load the example tips dataset"
   ]
  }
 ],
 "metadata": {
  "kernelspec": {
   "display_name": ".venv",
   "language": "python",
   "name": "python3"
  },
  "language_info": {
   "codemirror_mode": {
    "name": "ipython",
    "version": 3
   },
   "file_extension": ".py",
   "mimetype": "text/x-python",
   "name": "python",
   "nbconvert_exporter": "python",
   "pygments_lexer": "ipython3",
   "version": "3.11.1"
  },
  "orig_nbformat": 4,
  "vscode": {
   "interpreter": {
    "hash": "90e9cecf0ab6516382938111031b3a23db288579fe2d09bae4330be5540f9898"
   }
  }
 },
 "nbformat": 4,
 "nbformat_minor": 2
}
