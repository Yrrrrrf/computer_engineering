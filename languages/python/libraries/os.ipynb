{
 "cells": [
  {
   "attachments": {},
   "cell_type": "markdown",
   "metadata": {},
   "source": [
    "# [os](https://docs.python.org/3/library/os.html)\n",
    "\n",
    "Provides a portable way of using operating system dependent functionality"
   ]
  },
  {
   "cell_type": "code",
   "execution_count": 1,
   "metadata": {},
   "outputs": [],
   "source": [
    "import os"
   ]
  },
  {
   "attachments": {},
   "cell_type": "markdown",
   "metadata": {},
   "source": [
    "### Directories"
   ]
  },
  {
   "cell_type": "code",
   "execution_count": 2,
   "metadata": {},
   "outputs": [
    {
     "data": {
      "text/plain": [
       "'c:\\\\Users\\\\OutwardFire\\\\Documents\\\\computer_engineering\\\\programmation\\\\python\\\\libraries'"
      ]
     },
     "execution_count": 2,
     "metadata": {},
     "output_type": "execute_result"
    }
   ],
   "source": [
    "os.getcwd()  # Get current working directory\n",
    "# os.chdir('concepts')  # this will be the same as using cd in the terminal"
   ]
  },
  {
   "cell_type": "code",
   "execution_count": 3,
   "metadata": {},
   "outputs": [],
   "source": [
    "for file in os.listdir():  # List files in current directory\n",
    "    print(file) if file.endswith('.py') else None  # Only print files ending with .py"
   ]
  },
  {
   "cell_type": "code",
   "execution_count": 4,
   "metadata": {},
   "outputs": [
    {
     "name": "stdout",
     "output_type": "stream",
     "text": [
      "c:\\Users\\OutwardFire\\Documents\\computer_engineering\\programmation\\python\\libraries\\..\n",
      "test\n"
     ]
    }
   ],
   "source": [
    "os.path.join(os.getcwd(), 'concepts')  # Join paths (indepenent of OS)\n",
    "print(os.path.join(os.getcwd(), os.pardir))  # parent directory (..)\n",
    "[os.path.join(os.getcwd(), file) for file in os.listdir(os.getcwd())] # Get all files in a directory\n",
    "\n",
    "test_path = os.path.join(os.getcwd(), '..', 'resources', 'test')\n",
    "print(os.path.basename(test_path))  # Get the last part of the path"
   ]
  },
  {
   "cell_type": "code",
   "execution_count": 5,
   "metadata": {},
   "outputs": [
    {
     "name": "stdout",
     "output_type": "stream",
     "text": [
      "[]\n"
     ]
    }
   ],
   "source": [
    "# os.mkdir(os.path.join(test_path, 'new_dir'))  # Create a new directory\n",
    "# os.rmdir(os.path.join(test_path, 'new_dir'))  # Remove a directory\n",
    "print(os.listdir(test_path))  # List all files in a directory"
   ]
  },
  {
   "attachments": {},
   "cell_type": "markdown",
   "metadata": {},
   "source": [
    "### Files"
   ]
  },
  {
   "cell_type": "code",
   "execution_count": 6,
   "metadata": {},
   "outputs": [
    {
     "name": "stdout",
     "output_type": "stream",
     "text": [
      "File does not exist\n"
     ]
    }
   ],
   "source": [
    "print('File exists' if os.path.exists(os.path.join(test_path, \"new_file.txt\")) else ('File does not exist'))  # Check if a file exists\n",
    "\n",
    "def path_data(path):\n",
    "    '''Prints the path data'''\n",
    "    if os.path.exists(path):  # Returns True if file exists, False if not\n",
    "        print('Location exist', end='')\n",
    "        if os.path.isfile(path): print(' & is a file')\n",
    "        if os.path.isdir(path): print(' & is a directory')\n",
    "    else:\n",
    "        print('File does not exist', os.listdir('concepts/test_directory/'))  # list the files in the directory ($ ls)"
   ]
  },
  {
   "cell_type": "code",
   "execution_count": 7,
   "metadata": {},
   "outputs": [],
   "source": [
    "with open(os.path.join(test_path, 'new_file.txt'), 'a') as f:\n",
    "    # r = read (default)\n",
    "    # w = write (overwrites the file if it exists)\n",
    "    # a = append (adds to the end of the file)\n",
    "    f.write('This is a new file')"
   ]
  },
  {
   "cell_type": "code",
   "execution_count": 8,
   "metadata": {},
   "outputs": [],
   "source": [
    "def read_file(path):\n",
    "    '''Reads a file'''\n",
    "    try:\n",
    "        with open(path) as file:  # Read file & close it automatically when this loop is done\n",
    "            print(file.read())\n",
    "            print('File is ' + ('closed' if file.closed else 'open'))  # Returns True if file is closed\n",
    "        print('File is ' + ('closed' if file.closed else 'open'))  # Same as above but outside the loop\n",
    "    except:\n",
    "        print('File was not found :(')"
   ]
  },
  {
   "cell_type": "code",
   "execution_count": 9,
   "metadata": {},
   "outputs": [],
   "source": [
    "# CREATE or OVERWRITE\n",
    "def overwrite_file(path, text):\n",
    "    with open(path, 'w') as file:  # w = write, r = read, a = append\n",
    "        file.write(text)"
   ]
  },
  {
   "cell_type": "code",
   "execution_count": 10,
   "metadata": {},
   "outputs": [],
   "source": [
    "# UPDATE\n",
    "def append_file(path, text):\n",
    "    with open(path, 'a', encoding='utf-8') as file:  # encoding='utf-8' paramater can be used to specify the encoding of the file\n",
    "        file.write(text)\n",
    "            # open(path, r) Read only\n",
    "            # open(path, r+) Read & write\n",
    "            # open(path, w) Only write. Sobre escribe el archivo si existe. Crea el archivo si no existe\n",
    "            # open(path, w+) Escritura y lectura. Sobre escribe el archivo si existe. Crea el archivo si no existe\n",
    "            # open(path, a) Añadido (agregar contenido). Crea el archivo si éste no existe\n",
    "            # open(path, a+) Añadido (agregar contenido) y lectura. Crea el archivo si éste no existe."
   ]
  },
  {
   "cell_type": "code",
   "execution_count": 11,
   "metadata": {},
   "outputs": [],
   "source": [
    "import shutil  # shell utilities\n",
    "# copyfile() = copies the file content\n",
    "# copy() = copies the file & its permission\n",
    "# copy2() = copies the file, its permission & metadata (edition date, creation date, etc)\n",
    "def copy_file(path, destination):\n",
    "    shutil.copy(path, destination)\n",
    "    print('File copied')"
   ]
  },
  {
   "cell_type": "code",
   "execution_count": 12,
   "metadata": {},
   "outputs": [],
   "source": [
    "def move_file(path, destination):\n",
    "    if os.path.exists(destination):\n",
    "        print('File already exists')\n",
    "    else:\n",
    "        shutil.move(path, destination)\n",
    "        print('File moved')"
   ]
  },
  {
   "cell_type": "code",
   "execution_count": 13,
   "metadata": {},
   "outputs": [],
   "source": [
    "def delete_file(path):\n",
    "    try:\n",
    "        if os.path.exists(path):  # Check if file exists\n",
    "            os.remove(path)  # Only delete files\n",
    "            # os.rmdir(path)  # Remove empty directories\n",
    "            # shutil.rmtree(path)  # Remove directories & files  # DO NOT USE THIS WITHOUT A SECOND THOUGHT\n",
    "            print('File deleted')\n",
    "        else:  # Or FileNotFoundError\n",
    "            print('File does not exist')\n",
    "    except PermissionError:\n",
    "        print('You don\\'t have the permisison to delete this file')\n",
    "    except OSError:\n",
    "        print('You can\\'t delete a directory with this function')"
   ]
  }
 ],
 "metadata": {
  "kernelspec": {
   "display_name": ".venv",
   "language": "python",
   "name": "python3"
  },
  "language_info": {
   "codemirror_mode": {
    "name": "ipython",
    "version": 3
   },
   "file_extension": ".py",
   "mimetype": "text/x-python",
   "name": "python",
   "nbconvert_exporter": "python",
   "pygments_lexer": "ipython3",
   "version": "3.11.1 (tags/v3.11.1:a7a450f, Dec  6 2022, 19:58:39) [MSC v.1934 64 bit (AMD64)]"
  },
  "orig_nbformat": 4,
  "vscode": {
   "interpreter": {
    "hash": "90e9cecf0ab6516382938111031b3a23db288579fe2d09bae4330be5540f9898"
   }
  }
 },
 "nbformat": 4,
 "nbformat_minor": 2
}
