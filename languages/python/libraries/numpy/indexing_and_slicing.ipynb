{
 "cells": [
  {
   "attachments": {},
   "cell_type": "markdown",
   "metadata": {},
   "source": [
    "### Indexing & Slicing\n",
    "Numpy offers several ways to index into arrays.\n",
    "\n",
    "**Indexing**: Can be indexed with slices, but also with boolean or integer arrays (masks). This method is called `fancy indexing`. It creates copies not views.\n",
    "\n",
    "**Slicing**: Similar to Python lists, numpy arrays can be sliced. Since arrays may be multidimensional, you must specify a slice for each dimension of the array."
   ]
  },
  {
   "cell_type": "code",
   "execution_count": 2,
   "metadata": {},
   "outputs": [],
   "source": [
    "import numpy as np"
   ]
  },
  {
   "attachments": {},
   "cell_type": "markdown",
   "metadata": {},
   "source": [
    "To access the elements of an array, we can use the square brackets for slicing along each dimension, just as we did with Python lists. However, with arrays, we can provide a slice for each dimension of the array."
   ]
  },
  {
   "cell_type": "code",
   "execution_count": 3,
   "metadata": {},
   "outputs": [
    {
     "name": "stdout",
     "output_type": "stream",
     "text": [
      "[False  True  True  True  True  True  True  True  True  True  True]\n",
      "[ 60  70  80  90 100]\n",
      "[  0  10  20  30  40  50  60  70  80  90 100]\n"
     ]
    }
   ],
   "source": [
    "# Filtering array\n",
    "arr = np.arange(0, 101, 10)\n",
    "print(np.vectorize(lambda x: x**2 if x>0.5 else False)(arr))  # returns array with elements squared if >0.5, else returns element\n",
    "print(arr[arr>50])  # returns array with elements >50\n",
    "print(arr)"
   ]
  },
  {
   "attachments": {},
   "cell_type": "markdown",
   "metadata": {},
   "source": [
    "### Multidimensional arrays"
   ]
  },
  {
   "cell_type": "code",
   "execution_count": 4,
   "metadata": {},
   "outputs": [
    {
     "name": "stdout",
     "output_type": "stream",
     "text": [
      "[[48 44 67  7  6 57 66 44 38 77]\n",
      " [79 64 30 62 31 89 80 47 53 91]]\n",
      "[[16  6  9 45 89  8 68 27 43 39]\n",
      " [10 27 35 92 97 94 17 96 90 24]]\n"
     ]
    }
   ],
   "source": [
    "arr1 = np.random.randint(0, 100, (2, 10))\n",
    "arr2 = np.random.randint(0, 100, (2, 10))\n",
    "print(arr1)\n",
    "print(arr2)"
   ]
  },
  {
   "cell_type": "code",
   "execution_count": 14,
   "metadata": {},
   "outputs": [
    {
     "name": "stdout",
     "output_type": "stream",
     "text": [
      "[48 79 44 64 67 30  7 62  6 31 57 89 66 80 44 47 38 53 77 91]\n",
      "[48 44 67  7  6 57 66 44 38 77 79 64 30 62 31 89 80 47 53 91]\n",
      "[48 44 67  7  6 57 66 44 38 77 79 64 30 62 31 89 80 47 53 91]\n"
     ]
    }
   ],
   "source": [
    "# ravel function returns flattened array. It can be used to flatten array in C or Fortran order\n",
    "print(arr1.ravel(order='F'))  # returns flattened array in Fortran order\n",
    "print(arr1.ravel(order='C'))  # returns flattened array in C order\n",
    "print(arr1.ravel())  # returns flattened array (default order is C)"
   ]
  },
  {
   "cell_type": "code",
   "execution_count": 6,
   "metadata": {},
   "outputs": [
    {
     "name": "stdout",
     "output_type": "stream",
     "text": [
      "first row: [48 44 67  7  6 57 66 44 38 77]\n",
      "first column: [48 79]\n",
      "48\n"
     ]
    }
   ],
   "source": [
    "# Multi-dimensional array slicing & indexing\n",
    "# arr[row, column]\n",
    "print(f'first row: {arr1[0]}')  # first row\n",
    "print(f'first column: {arr1[:, 0]}')  # first column\n",
    "print(arr1[0, 0])  # first element"
   ]
  },
  {
   "attachments": {},
   "cell_type": "markdown",
   "metadata": {},
   "source": [
    "### Concatenation & Splitting\n",
    "\n",
    "Concatenation, or joining of two arrays in NumPy, is primarily accomplished through the routines `concatenate`, `stack` and `hstack`.\n",
    "\n",
    "Using `split`, you can split an array into multiple sub-arrays as follows:  \n",
    "`np.split(ary, indices_or_sections, axis=0)`\n",
    "- `ary`: Array to be divided into sub-arrays.\n",
    "- `indices_or_sections`: If `indices_or_sections` is an integer, N, the array will be divided into N equal arrays along `axis`. If such a split is not possible, an error is raised. If `indices_or_sections` is a 1-D array of sorted integers, the entries indicate where along `axis` the array is split. If an index exceeds the dimension of the array along `axis`, an empty sub-array is returned correspondingly."
   ]
  },
  {
   "cell_type": "code",
   "execution_count": 7,
   "metadata": {},
   "outputs": [
    {
     "name": "stdout",
     "output_type": "stream",
     "text": [
      "[[[48 44 67  7  6 57 66 44 38 77]\n",
      "  [16  6  9 45 89  8 68 27 43 39]]\n",
      "\n",
      " [[79 64 30 62 31 89 80 47 53 91]\n",
      "  [10 27 35 92 97 94 17 96 90 24]]]\n",
      "\n",
      " [[48 44 67  7  6 57 66 44 38 77 16  6  9 45 89  8 68 27 43 39]\n",
      " [79 64 30 62 31 89 80 47 53 91 10 27 35 92 97 94 17 96 90 24]]\n",
      "\n",
      " [[48 44 67  7  6 57 66 44 38 77]\n",
      " [79 64 30 62 31 89 80 47 53 91]\n",
      " [16  6  9 45 89  8 68 27 43 39]\n",
      " [10 27 35 92 97 94 17 96 90 24]]\n"
     ]
    }
   ],
   "source": [
    "print(np.stack((arr1, arr2), axis=1))  # concatenate arrays along axis=1 (column)\n",
    "print('\\n', np.hstack((arr1, arr2)))  # concatenate arrays horizontally\n",
    "print('\\n', np.vstack((arr1, arr2)))  # concatenate arrays vertically"
   ]
  },
  {
   "cell_type": "code",
   "execution_count": 8,
   "metadata": {},
   "outputs": [
    {
     "name": "stdout",
     "output_type": "stream",
     "text": [
      "[[48 44 67  7  6 57 66 44 38 77]\n",
      " [79 64 30 62 31 89 80 47 53 91]] \n",
      "\n",
      "\n",
      " [array([[48, 44, 67,  7,  6],\n",
      "       [79, 64, 30, 62, 31]]), array([[57, 66, 44, 38, 77],\n",
      "       [89, 80, 47, 53, 91]])]\n",
      "\n",
      " [array([[48, 44, 67,  7,  6, 57, 66, 44, 38, 77]]), array([[79, 64, 30, 62, 31, 89, 80, 47, 53, 91]])]\n"
     ]
    }
   ],
   "source": [
    "print(arr1, '\\n')\n",
    "print('\\n', np.hsplit(arr1, 2))  # split array horizontally into 2 arrays\n",
    "print('\\n', np.vsplit(arr1, 2))  # split array vertically into 2 arrays"
   ]
  }
 ],
 "metadata": {
  "kernelspec": {
   "display_name": "Python 3",
   "language": "python",
   "name": "python3"
  },
  "language_info": {
   "codemirror_mode": {
    "name": "ipython",
    "version": 3
   },
   "file_extension": ".py",
   "mimetype": "text/x-python",
   "name": "python",
   "nbconvert_exporter": "python",
   "pygments_lexer": "ipython3",
   "version": "3.11.1"
  },
  "orig_nbformat": 4,
  "vscode": {
   "interpreter": {
    "hash": "1bbba381326e6b0f8b33bafca923bd106b97453bcb5e84edec24c0a8cb9538a0"
   }
  }
 },
 "nbformat": 4,
 "nbformat_minor": 2
}
