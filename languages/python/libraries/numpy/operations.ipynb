{
 "cells": [
  {
   "attachments": {},
   "cell_type": "markdown",
   "metadata": {},
   "source": [
    "### [Numpy Operations](https://docs.scipy.org/doc/numpy/reference/routines.math.html)"
   ]
  },
  {
   "cell_type": "code",
   "execution_count": 27,
   "metadata": {},
   "outputs": [
    {
     "name": "stdout",
     "output_type": "stream",
     "text": [
      "[[0 1 2]\n",
      " [3 4 5]\n",
      " [6 7 8]]\n",
      "[[ 9 10 11]\n",
      " [12 13 14]\n",
      " [15 16 17]]\n"
     ]
    }
   ],
   "source": [
    "import numpy as np\n",
    "\n",
    "arr1 = np.arange(9).reshape(3, 3)\n",
    "arr2 = np.arange(9, 18).reshape(3, 3)\n",
    "print(arr1)\n",
    "print(arr2)"
   ]
  },
  {
   "attachments": {},
   "cell_type": "markdown",
   "metadata": {},
   "source": [
    "### Lineal Algebra"
   ]
  },
  {
   "cell_type": "code",
   "execution_count": 36,
   "metadata": {},
   "outputs": [
    {
     "name": "stdout",
     "output_type": "stream",
     "text": [
      "[[0 3 6]\n",
      " [1 4 7]\n",
      " [2 5 8]]\n",
      "[[ 42  45  48]\n",
      " [150 162 174]\n",
      " [258 279 300]]\n",
      "[[-9 18 -9]\n",
      " [-9 18 -9]\n",
      " [-9 18 -9]]\n"
     ]
    }
   ],
   "source": [
    "# Some linear algebra operations\n",
    "print(arr1.T)  # Transpose\n",
    "print(np.dot(arr1, arr2))  # Matrix multiplication\n",
    "print(np.cross(arr1, arr2))  # Cross product"
   ]
  },
  {
   "cell_type": "code",
   "execution_count": 38,
   "metadata": {},
   "outputs": [
    {
     "name": "stdout",
     "output_type": "stream",
     "text": [
      "12\n",
      "0.0\n",
      "[[-1 -2 -3]\n",
      " [-4 -5 -6]\n",
      " [-7 -8 -9]]\n"
     ]
    }
   ],
   "source": [
    "print(np.trace(arr1))  # Trace: sum of diagonal elements\n",
    "print(np.linalg.det(arr1))  # Determinant\n",
    "print(np.invert(arr1))  # Inverse"
   ]
  },
  {
   "cell_type": "code",
   "execution_count": 45,
   "metadata": {},
   "outputs": [
    {
     "name": "stdout",
     "output_type": "stream",
     "text": [
      "[ 1.33484692e+01 -1.34846923e+00 -2.48477279e-16]\n"
     ]
    }
   ],
   "source": [
    "# Eigenvalues\n",
    "print(np.linalg.eigvals(arr1))  # return eigenvalues & eigenvectors"
   ]
  },
  {
   "attachments": {},
   "cell_type": "markdown",
   "metadata": {},
   "source": [
    "### System of Linear Equations"
   ]
  },
  {
   "cell_type": "code",
   "execution_count": 42,
   "metadata": {},
   "outputs": [
    {
     "name": "stdout",
     "output_type": "stream",
     "text": [
      "x:  [ 5.  3. -2.]\n"
     ]
    }
   ],
   "source": [
    "# solve a linear system\n",
    "A = np.array([[1, 1, 1], [0, 2, 5], [2, 5, -1]])\n",
    "b = np.array([6, -4, 27])\n",
    "\n",
    "print('x: ', np.linalg.solve(A, b))"
   ]
  }
 ],
 "metadata": {
  "kernelspec": {
   "display_name": "Python 3",
   "language": "python",
   "name": "python3"
  },
  "language_info": {
   "codemirror_mode": {
    "name": "ipython",
    "version": 3
   },
   "file_extension": ".py",
   "mimetype": "text/x-python",
   "name": "python",
   "nbconvert_exporter": "python",
   "pygments_lexer": "ipython3",
   "version": "3.11.1"
  },
  "orig_nbformat": 4,
  "vscode": {
   "interpreter": {
    "hash": "1bbba381326e6b0f8b33bafca923bd106b97453bcb5e84edec24c0a8cb9538a0"
   }
  }
 },
 "nbformat": 4,
 "nbformat_minor": 2
}
