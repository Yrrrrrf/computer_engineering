{
 "cells": [
  {
   "cell_type": "markdown",
   "metadata": {},
   "source": [
    "### [numpy data types](http://docs.scipy.org/doc/numpy/reference/arrays.dtypes.html)\n",
    "\n",
    "Quick overview of the data types available in **numpy**.\n",
    "\n",
    "To specify a data type (`dtype`), you can use a string, like `'f8'` or `'S10'`, or you can use the data type objects, like `np.float64` or `np.string_`."
   ]
  },
  {
   "cell_type": "code",
   "execution_count": 1,
   "metadata": {},
   "outputs": [],
   "source": [
    "import numpy as np"
   ]
  },
  {
   "cell_type": "code",
   "execution_count": 2,
   "metadata": {},
   "outputs": [
    {
     "name": "stdout",
     "output_type": "stream",
     "text": [
      "int32 [0 1 2 3 4 5 6 7 8 9]\n"
     ]
    }
   ],
   "source": [
    "int_np_array = np.array(np.arange(10))  # returns the array type ['int32'] default\n",
    "print(int_np_array.dtype, int_np_array)"
   ]
  },
  {
   "cell_type": "code",
   "execution_count": 3,
   "metadata": {},
   "outputs": [
    {
     "name": "stdout",
     "output_type": "stream",
     "text": [
      "float64 [0.79565988 0.80896193 0.01023824 0.23730426 0.80305259]\n"
     ]
    }
   ],
   "source": [
    "float_array = np.array(np.random.rand(5), dtype='float64')\n",
    "print(float_array.dtype, float_array)  # returns the array type ['float64']"
   ]
  },
  {
   "cell_type": "code",
   "execution_count": 4,
   "metadata": {},
   "outputs": [
    {
     "name": "stdout",
     "output_type": "stream",
     "text": [
      "bool [False  True  True False False]\n"
     ]
    }
   ],
   "source": [
    "# boolean_array = float_array.astype(np.bool_)  # Casting to boolean\n",
    "boolean_array = np.array(np.random.randint(0, 2, size=5), dtype=np.bool_)\n",
    "print(boolean_array.dtype, boolean_array)  # Only 0 is false"
   ]
  },
  {
   "cell_type": "code",
   "execution_count": 5,
   "metadata": {},
   "outputs": [
    {
     "name": "stdout",
     "output_type": "stream",
     "text": [
      "|S11 [b'0' b'0' b'1' b'0' b'0']\n"
     ]
    }
   ],
   "source": [
    "string_array = np.array(np.random.randint(0, 2, size=5), np.string_)\n",
    "print(string_array.dtype, string_array)  # returns the array type ['|S11']"
   ]
  },
  {
   "cell_type": "markdown",
   "metadata": {},
   "source": [
    "To change the data type of an array, use the `astype` method."
   ]
  },
  {
   "cell_type": "code",
   "execution_count": 6,
   "metadata": {},
   "outputs": [
    {
     "name": "stdout",
     "output_type": "stream",
     "text": [
      "|S11 [b'0' b'1' b'2' b'3' b'4' b'5' b'6' b'7' b'8' b'9']\n"
     ]
    }
   ],
   "source": [
    "new_arr = int_np_array.astype(np.string_)\n",
    "print(new_arr.dtype, new_arr)  # returns the array type ['|S11']"
   ]
  }
 ],
 "metadata": {
  "kernelspec": {
   "display_name": "Python 3 (ipykernel)",
   "language": "python",
   "name": "python3"
  },
  "language_info": {
   "codemirror_mode": {
    "name": "ipython",
    "version": 3
   },
   "file_extension": ".py",
   "mimetype": "text/x-python",
   "name": "python",
   "nbconvert_exporter": "python",
   "pygments_lexer": "ipython3",
   "version": "3.9.13"
  },
  "vscode": {
   "interpreter": {
    "hash": "1bbba381326e6b0f8b33bafca923bd106b97453bcb5e84edec24c0a8cb9538a0"
   }
  }
 },
 "nbformat": 4,
 "nbformat_minor": 2
}
