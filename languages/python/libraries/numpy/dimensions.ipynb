{
 "cells": [
  {
   "attachments": {},
   "cell_type": "markdown",
   "metadata": {},
   "source": [
    "### [numpy array dimensions](https://docs.scipy.org/doc/numpy/reference/generated/numpy.ndarray.ndim.html)"
   ]
  },
  {
   "cell_type": "code",
   "execution_count": 12,
   "metadata": {},
   "outputs": [],
   "source": [
    "import numpy as np"
   ]
  },
  {
   "cell_type": "code",
   "execution_count": 13,
   "metadata": {},
   "outputs": [
    {
     "name": "stdout",
     "output_type": "stream",
     "text": [
      "[1 2 3] 1\n"
     ]
    }
   ],
   "source": [
    "# To change or get the dimensions of an array, use the ndim attribute\n",
    "a = np.array([1, 2, 3], ndmin=10)  # 10 dimensions\n",
    "np.expand_dims(a, axis=0)  # add a dimension to the array\n",
    "a = np.squeeze(a)  # remove single-dimensional entries from the shape of an array\n",
    "print(a, a.ndim)\n"
   ]
  },
  {
   "attachments": {},
   "cell_type": "markdown",
   "metadata": {},
   "source": [
    "##### Scalar"
   ]
  },
  {
   "cell_type": "code",
   "execution_count": 14,
   "metadata": {},
   "outputs": [
    {
     "name": "stdout",
     "output_type": "stream",
     "text": [
      "\n",
      "0-dim Scalar:\n",
      "42\n"
     ]
    }
   ],
   "source": [
    "scalar = np.array(42)\n",
    "print(f'\\n{scalar.ndim}-dim Scalar:\\n{scalar}')"
   ]
  },
  {
   "attachments": {},
   "cell_type": "markdown",
   "metadata": {},
   "source": [
    "##### Vector"
   ]
  },
  {
   "cell_type": "code",
   "execution_count": 15,
   "metadata": {},
   "outputs": [
    {
     "name": "stdout",
     "output_type": "stream",
     "text": [
      "\n",
      "1-dim Vector:\n",
      "[1 2 3 4 5]\n"
     ]
    }
   ],
   "source": [
    "vector = np.array([1, 2, 3, 4, 5])\n",
    "print(f'\\n{vector.ndim}-dim Vector:\\n{vector}')"
   ]
  },
  {
   "attachments": {},
   "cell_type": "markdown",
   "metadata": {},
   "source": [
    "##### Matrix"
   ]
  },
  {
   "cell_type": "code",
   "execution_count": 16,
   "metadata": {},
   "outputs": [
    {
     "name": "stdout",
     "output_type": "stream",
     "text": [
      "\n",
      "2-dim Matrix:\n",
      "[[1 2 3]\n",
      " [4 5 6]\n",
      " [7 8 9]]\n"
     ]
    }
   ],
   "source": [
    "matrix = np.array([[1, 2, 3], [4, 5, 6], [7, 8, 9]])\n",
    "print(f'\\n{matrix.ndim}-dim Matrix:\\n{matrix}')"
   ]
  },
  {
   "attachments": {},
   "cell_type": "markdown",
   "metadata": {},
   "source": [
    "##### Tensor\n",
    "\n",
    "Most of the time, we will be working with tensors. A tensor is a generalization of vectors and matrices and is easily represented as an array. In fact, you can think of a matrix as a 2-dimensional array and a vector as a 1-dimensional array."
   ]
  },
  {
   "cell_type": "code",
   "execution_count": 17,
   "metadata": {},
   "outputs": [
    {
     "name": "stdout",
     "output_type": "stream",
     "text": [
      "\n",
      "3-dim Tensor:\n",
      "[[[1 2 3]\n",
      "  [4 5 6]\n",
      "  [7 8 9]]\n",
      "\n",
      " [[1 2 3]\n",
      "  [4 5 6]\n",
      "  [7 8 9]]]\n"
     ]
    }
   ],
   "source": [
    "tensor = np.array([[[1, 2, 3], [4, 5, 6], [7, 8, 9]], [[1, 2, 3], [4, 5, 6], [7, 8, 9]]])\n",
    "print(f'\\n{tensor.ndim}-dim Tensor:\\n{tensor}')"
   ]
  },
  {
   "attachments": {},
   "cell_type": "markdown",
   "metadata": {},
   "source": [
    "### [numpy array shape](https://docs.scipy.org/doc/numpy/reference/generated/numpy.ndarray.shape.html)\n",
    "\n",
    "The shape of an array is the number of elements in each dimension.\n",
    "\n",
    "`np_array.shape` returns a tuple of integers indicating the size of the array in each dimension. For a matrix with n rows and m columns, shape will be (n,m). The length of the shape tuple is therefore the number of dimensions, ndim."
   ]
  },
  {
   "cell_type": "code",
   "execution_count": 18,
   "metadata": {},
   "outputs": [
    {
     "name": "stdout",
     "output_type": "stream",
     "text": [
      "[ 2  3  4  5  6  7  8  9 10] (9,) 1\n",
      "\n",
      " [[ 2  3  4]\n",
      " [ 5  6  7]\n",
      " [ 8  9 10]]\n"
     ]
    }
   ],
   "source": [
    "x = np.arange(2, 11)\n",
    "print(x, x.shape, x.ndim)\n",
    "# To reshape an array it MUST HAVE the same number of elements as the original array\n",
    "print('\\n',x.reshape(3, 3))  # reshape() returns a new array with the specified shape   # 3 rows, 3 columns"
   ]
  },
  {
   "cell_type": "code",
   "execution_count": 23,
   "metadata": {},
   "outputs": [
    {
     "name": "stdout",
     "output_type": "stream",
     "text": [
      "Fortran order:\n",
      " [[ 2  5  8]\n",
      " [ 3  6  9]\n",
      " [ 4  7 10]]\n",
      "C order:\n",
      " [[ 2  3  4]\n",
      " [ 5  6  7]\n",
      " [ 8  9 10]]\n"
     ]
    }
   ],
   "source": [
    "# Reshape \n",
    "print('Fortran order:\\n', x.reshape(3, 3, order='F'))  # Fortran order\n",
    "print('C order:\\n', x.reshape(3, 3, order='C'))  # C order (default)\n",
    "# Using 'A' will automatically choose the best order according to the array"
   ]
  }
 ],
 "metadata": {
  "kernelspec": {
   "display_name": "Python 3",
   "language": "python",
   "name": "python3"
  },
  "language_info": {
   "codemirror_mode": {
    "name": "ipython",
    "version": 3
   },
   "file_extension": ".py",
   "mimetype": "text/x-python",
   "name": "python",
   "nbconvert_exporter": "python",
   "pygments_lexer": "ipython3",
   "version": "3.11.1"
  },
  "orig_nbformat": 4,
  "vscode": {
   "interpreter": {
    "hash": "1bbba381326e6b0f8b33bafca923bd106b97453bcb5e84edec24c0a8cb9538a0"
   }
  }
 },
 "nbformat": 4,
 "nbformat_minor": 2
}
