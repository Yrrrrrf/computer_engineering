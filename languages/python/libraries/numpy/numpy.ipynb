{
 "cells": [
  {
   "attachments": {},
   "cell_type": "markdown",
   "metadata": {},
   "source": [
    "# [Numpy](https://numpy.org/)\n",
    "Is a python library for scientific computing. It provides a high-performance multidimensional array object, and tools for working with these arrays.\n",
    "It's optimized for speed and memory usage. It's also the foundation of many other libraries, such as `pandas`, `scikit-learn`, and `matplotlib`..."
   ]
  },
  {
   "cell_type": "code",
   "execution_count": 1,
   "metadata": {},
   "outputs": [
    {
     "data": {
      "text/plain": [
       "'1.23.5'"
      ]
     },
     "execution_count": 1,
     "metadata": {},
     "output_type": "execute_result"
    }
   ],
   "source": [
    "import numpy as np\n",
    "np.__version__"
   ]
  },
  {
   "attachments": {},
   "cell_type": "markdown",
   "metadata": {},
   "source": [
    "### Arrays\n",
    "The main object in numpy is the `ndarray`. It's a table of elements (usually numbers), all of the same type, indexed by a tuple of positive integers. In numpy dimensions are called `axes`. The number of axes is `rank`."
   ]
  },
  {
   "cell_type": "code",
   "execution_count": 2,
   "metadata": {},
   "outputs": [
    {
     "name": "stdout",
     "output_type": "stream",
     "text": [
      "[0. 0.]\n",
      "[[1. 1. 1.]\n",
      " [1. 1. 1.]]\n",
      "[[7 7 7]\n",
      " [7 7 7]]\n",
      "[[1. 0. 0.]\n",
      " [0. 1. 0.]\n",
      " [0. 0. 1.]]\n"
     ]
    }
   ],
   "source": [
    "np.array([1, 2, 3, 4, 5])  # 1D array\n",
    "print(np.zeros((2)))  # 2x1 array of zeros\n",
    "print(np.ones((2, 3)))  # 2x3 array of ones\n",
    "print(np.full((2, 3), 7))  # 2x3 array of 7s\n",
    "print(np.eye(3))  # 3x3 identity matrix"
   ]
  },
  {
   "cell_type": "code",
   "execution_count": 3,
   "metadata": {},
   "outputs": [
    {
     "name": "stdout",
     "output_type": "stream",
     "text": [
      "[  0.          11.11111111  22.22222222  33.33333333  44.44444444\n",
      "  55.55555556  66.66666667  77.77777778  88.88888889 100.        ]\n",
      "[ 0.  12.5 25.  37.5 50.  62.5 75.  87.5]\n"
     ]
    }
   ],
   "source": [
    "# np.linspace(start, stop, num=50, endpoint=True, retstep=False, dtype=None)\n",
    "print(np.linspace(0, 100, 10))  # 10 numbers from 0 to 100 with equal step\n",
    "print(np.arange(0, 100, 12.5))  # 10 numbers from 0 to 100 with step 12.5"
   ]
  },
  {
   "cell_type": "code",
   "execution_count": 69,
   "metadata": {},
   "outputs": [
    {
     "name": "stdout",
     "output_type": "stream",
     "text": [
      "[[0.42991056 0.06762108 0.09405458]\n",
      " [0.01581186 0.75776522 0.05153866]]\n",
      "Shape: (2, 3)\n",
      "Dimension: 2\n",
      "n Elements: 6\n",
      "dType: float64\n"
     ]
    }
   ],
   "source": [
    "arr = np.random.random((2, 3))  # 2x3 array of random numbers\n",
    "# arr = np.random.randn(10)  # 10 random numbers from NORMAL DISTRIBUTION\n",
    "# arr = np.random.rand(10)  # 10 random numbers from UNIFORM DISTRIBUTION\n",
    "# arr = np.random.binomial(10, 0.5, 10)  # 10 random numbers from BINOMIAL DISTRIBUTION\n",
    "# arr = np.random.choice([1, 2, 3, 4, 5], size=(2, 3), replace=False)  # 2x3 array of random numbers from [1, 2, 3, 4, 5]\n",
    "print(arr)\n",
    "\n",
    "# Array Attributes\n",
    "print(f'Shape: {arr.shape}')  # shape of array\n",
    "print(f'Dimension: {arr.ndim}')  # number of dimensions\n",
    "print(f'n Elements: {arr.size}')  # number of elements\n",
    "print(f'dType: {arr.dtype}')  # data type of array"
   ]
  },
  {
   "attachments": {},
   "cell_type": "markdown",
   "metadata": {},
   "source": [
    "### Main Functions"
   ]
  },
  {
   "cell_type": "code",
   "execution_count": 102,
   "metadata": {},
   "outputs": [
    {
     "name": "stdout",
     "output_type": "stream",
     "text": [
      "[[0.42991056 0.06762108 0.09405458]\n",
      " [0.01581186 0.75776522 0.05153866]]\n",
      "[[0. 0. 0.]\n",
      " [0. 0. 0.]]\n"
     ]
    }
   ],
   "source": [
    "# Copy\n",
    "arr2 = arr.copy()  # Coping an array allows us to change the copy without changing the original array\n",
    "arr2[:] = 0\n",
    "print(arr)\n",
    "print(arr2)"
   ]
  },
  {
   "cell_type": "code",
   "execution_count": 100,
   "metadata": {},
   "outputs": [
    {
     "name": "stdout",
     "output_type": "stream",
     "text": [
      "[[0.01581186 0.06762108 0.05153866]\n",
      " [0.42991056 0.75776522 0.09405458]]\n",
      ".argsort():\n",
      "[[1 2 0]\n",
      " [0 2 1]]\n"
     ]
    }
   ],
   "source": [
    "# Sort\n",
    "print(np.sort(arr, axis=0))  # sort along axis 0\n",
    "print(f'.argsort():\\n{arr.argsort()}')  # indices of sorted array"
   ]
  },
  {
   "cell_type": "code",
   "execution_count": 96,
   "metadata": {},
   "outputs": [
    {
     "name": "stdout",
     "output_type": "stream",
     "text": [
      ".max():       0.7577652196228198\n",
      ".min():     0.015811859744539913\n",
      ".sum():       1.4167019608946885\n",
      ".ptp():       0.7419533598782799\n",
      ".argmax():    4\n",
      ".argmin():    3\n",
      ".argsort():\n",
      "[[1 2 0]\n",
      " [0 2 1]]\n"
     ]
    }
   ],
   "source": [
    "print(f'.max(): {arr.max():>24}')  # max value in array\n",
    "print(f'.min(): {arr.min():>24}')  # min value in array\n",
    "print(f'.sum(): {arr.sum():>24}')  # sum of all values in array\n",
    "# ptp = peak to peak\n",
    "print(f'.ptp(): {arr.ptp():>24}')  # difference between max and min values in array\n",
    "\n",
    "# Array Indexing\n",
    "print(f'.argmax(): {arr.argmax():>4}')  # index of max value in array\n",
    "print(f'.argmin(): {arr.argmin():>4}')  # index of min value in array"
   ]
  },
  {
   "attachments": {},
   "cell_type": "markdown",
   "metadata": {},
   "source": [
    "### Statistics"
   ]
  },
  {
   "cell_type": "code",
   "execution_count": 103,
   "metadata": {},
   "outputs": [
    {
     "name": "stdout",
     "output_type": "stream",
     "text": [
      ".mean():0.23611699348244808\n",
      ".std(): 0.271062395225125\n",
      ".var(): 0.07347482210518187\n",
      ".median(): 0.08083783207189005\n",
      ".percentile(50): 0.08083783207189005\n"
     ]
    }
   ],
   "source": [
    "print(f'.mean():{arr.mean()}')  # mean value in array\n",
    "print(f'.std(): {arr.std()}')  # standard deviation of array\n",
    "print(f'.var(): {arr.var()}')  # variance of array\n",
    "print(f'.median(): {np.median(arr)}')  # median of array\n",
    "\n",
    "# Percentiles\n",
    "print(f'.percentile(50): {np.percentile(arr, 50):>}')  # 50th percentile"
   ]
  }
 ],
 "metadata": {
  "kernelspec": {
   "display_name": "Python 3",
   "language": "python",
   "name": "python3"
  },
  "language_info": {
   "codemirror_mode": {
    "name": "ipython",
    "version": 3
   },
   "file_extension": ".py",
   "mimetype": "text/x-python",
   "name": "python",
   "nbconvert_exporter": "python",
   "pygments_lexer": "ipython3",
   "version": "3.11.1"
  },
  "orig_nbformat": 4,
  "vscode": {
   "interpreter": {
    "hash": "1bbba381326e6b0f8b33bafca923bd106b97453bcb5e84edec24c0a8cb9538a0"
   }
  }
 },
 "nbformat": 4,
 "nbformat_minor": 2
}
