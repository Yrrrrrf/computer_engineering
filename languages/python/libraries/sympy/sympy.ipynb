{
 "cells": [
  {
   "attachments": {},
   "cell_type": "markdown",
   "metadata": {},
   "source": [
    "# [Sympy]()\n",
    "\n",
    "Is a [Python](/languages/python/python.md) library for symbolic mathematics. It is a full-featured computer algebra system (CAS) that can be used to solve algebraic equations symbolically and to manipulate mathematical expressions.\n",
    "\n",
    "It can also be used to perform calculus, algebra, and other mathematical operations on symbolic expressions."
   ]
  },
  {
   "cell_type": "code",
   "execution_count": 1,
   "metadata": {},
   "outputs": [],
   "source": [
    "import sympy as sp\n",
    "\n",
    "sp.init_printing(use_latex='mathjax')  # Use LaTeX to display the results"
   ]
  },
  {
   "cell_type": "code",
   "execution_count": 2,
   "metadata": {},
   "outputs": [],
   "source": [
    "from sympy.abc import x, y, z  # Import the variables x, y, z\n",
    "# this also can be defined as: x = sp.Symbol('x')"
   ]
  },
  {
   "cell_type": "code",
   "execution_count": 3,
   "metadata": {},
   "outputs": [
    {
     "data": {
      "text/latex": [
       "$\\displaystyle \\sin{\\left(x \\right)} + \\cos{\\left(y \\right)}$"
      ],
      "text/plain": [
       "sin(x) + cos(y)"
      ]
     },
     "execution_count": 3,
     "metadata": {},
     "output_type": "execute_result"
    }
   ],
   "source": [
    "f = sp.sin(x) + sp.cos(y)  # Define a function\n",
    "f"
   ]
  },
  {
   "cell_type": "code",
   "execution_count": 4,
   "metadata": {},
   "outputs": [
    {
     "data": {
      "text/latex": [
       "$\\displaystyle x^{2} + y^{2}$"
      ],
      "text/plain": [
       " 2    2\n",
       "x  + y "
      ]
     },
     "execution_count": 4,
     "metadata": {},
     "output_type": "execute_result"
    }
   ],
   "source": [
    "g = x**2 + y**2  # Define another function\n",
    "g"
   ]
  },
  {
   "attachments": {},
   "cell_type": "markdown",
   "metadata": {},
   "source": [
    "Sympy allow us to make symbolic calculations, that is, calculations that involve variables and expressions, not just numbers.\n",
    "\n",
    "Is also possible to use Sympy to perform **arithmetical**, **algebraic**, and other mathematical operations on **symbolic expressions**."
   ]
  },
  {
   "cell_type": "code",
   "execution_count": 5,
   "metadata": {},
   "outputs": [
    {
     "data": {
      "text/latex": [
       "$\\displaystyle \\left(x^{2} + y^{2}\\right) \\left(\\sin{\\left(x \\right)} + \\cos{\\left(y \\right)}\\right)$"
      ],
      "text/plain": [
       "⎛ 2    2⎞                  \n",
       "⎝x  + y ⎠⋅(sin(x) + cos(y))"
      ]
     },
     "execution_count": 5,
     "metadata": {},
     "output_type": "execute_result"
    }
   ],
   "source": [
    "new_f = sp.expand(f * g)  # Expand the product of the two functions\n",
    "new_f\n",
    "# sp.sqrt(g)  # Take the square root of the second function\n",
    "sp.factor(new_f)  # Factor the expanded function"
   ]
  },
  {
   "cell_type": "code",
   "execution_count": 6,
   "metadata": {},
   "outputs": [
    {
     "data": {
      "text/latex": [
       "$\\displaystyle - x$"
      ],
      "text/plain": [
       "-x"
      ]
     },
     "execution_count": 6,
     "metadata": {},
     "output_type": "execute_result"
    }
   ],
   "source": [
    "sp.simplify(x**2 + x + 1 - (x + 1)**2)"
   ]
  },
  {
   "attachments": {},
   "cell_type": "markdown",
   "metadata": {},
   "source": [
    "### Functions\n",
    "\n",
    "- `sympify()`: Converts a lambda expression to a SymPy expression.\n",
    "- `lambdify()`: Converts a SymPy expression to a lambda expression. (It can also be used to convert a SymPy expression to a TensorFlow and numpy expression.) "
   ]
  },
  {
   "cell_type": "code",
   "execution_count": 7,
   "metadata": {},
   "outputs": [],
   "source": [
    "f = sp.Function('f')  # Define a function"
   ]
  },
  {
   "cell_type": "code",
   "execution_count": 8,
   "metadata": {},
   "outputs": [
    {
     "name": "stdout",
     "output_type": "stream",
     "text": [
      "<class 'sympy.core.add.Add'>\n"
     ]
    },
    {
     "data": {
      "text/latex": [
       "$\\displaystyle x^{2} + y^{2} + 1$"
      ],
      "text/plain": [
       " 2    2    \n",
       "x  + y  + 1"
      ]
     },
     "execution_count": 8,
     "metadata": {},
     "output_type": "execute_result"
    }
   ],
   "source": [
    "f = g + 1\n",
    "print(type(f))\n",
    "f"
   ]
  },
  {
   "cell_type": "code",
   "execution_count": 9,
   "metadata": {},
   "outputs": [
    {
     "data": {
      "text/latex": [
       "$\\displaystyle \\operatorname{Poly}{\\left( x^{2} + y^{2} + 1, x, y, domain=\\mathbb{Z} \\right)}$"
      ],
      "text/plain": [
       "Poly(x**2 + y**2 + 1, x, y, domain='ZZ')"
      ]
     },
     "execution_count": 9,
     "metadata": {},
     "output_type": "execute_result"
    }
   ],
   "source": [
    "f.as_poly()  # Show the function as a polynomial (if possible)"
   ]
  }
 ],
 "metadata": {
  "kernelspec": {
   "display_name": "base",
   "language": "python",
   "name": "python3"
  },
  "language_info": {
   "codemirror_mode": {
    "name": "ipython",
    "version": 3
   },
   "file_extension": ".py",
   "mimetype": "text/x-python",
   "name": "python",
   "nbconvert_exporter": "python",
   "pygments_lexer": "ipython3",
   "version": "3.9.13 (main, Aug 25 2022, 23:51:50) [MSC v.1916 64 bit (AMD64)]"
  },
  "orig_nbformat": 4,
  "vscode": {
   "interpreter": {
    "hash": "893dbb23253abd8f6f572044fba0b22815a56f6f81a069988e67b6ece7ac6307"
   }
  }
 },
 "nbformat": 4,
 "nbformat_minor": 2
}
