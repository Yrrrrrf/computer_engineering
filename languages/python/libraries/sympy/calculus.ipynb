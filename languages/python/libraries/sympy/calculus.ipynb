{
 "cells": [
  {
   "attachments": {},
   "cell_type": "markdown",
   "metadata": {},
   "source": [
    "### [Calculus](http://docs.sympy.org/latest/tutorial/calculus.html)"
   ]
  },
  {
   "cell_type": "code",
   "execution_count": null,
   "metadata": {},
   "outputs": [],
   "source": []
  },
  {
   "attachments": {},
   "cell_type": "markdown",
   "metadata": {},
   "source": [
    "### [Limit](https://docs.sympy.org/latest/modules/calculus/limitseq.html)"
   ]
  },
  {
   "cell_type": "code",
   "execution_count": 1,
   "metadata": {},
   "outputs": [
    {
     "ename": "NameError",
     "evalue": "name 'sympy' is not defined",
     "output_type": "error",
     "traceback": [
      "\u001b[1;31m---------------------------------------------------------------------------\u001b[0m",
      "\u001b[1;31mNameError\u001b[0m                                 Traceback (most recent call last)",
      "Cell \u001b[1;32mIn[1], line 3\u001b[0m\n\u001b[0;32m      1\u001b[0m \u001b[39m# Limit\u001b[39;00m\n\u001b[0;32m      2\u001b[0m \u001b[39m# sympy.limit(f(x), x, x0, dir='+')  # dir = '+' or '-' (direction of the limit) (default is '+')\u001b[39;00m\n\u001b[1;32m----> 3\u001b[0m sympy\u001b[39m.\u001b[39mlimit(\u001b[39m1\u001b[39m\u001b[39m/\u001b[39mx, x, \u001b[39m0\u001b[39m)  \u001b[39m# 0\u001b[39;00m\n",
      "\u001b[1;31mNameError\u001b[0m: name 'sympy' is not defined"
     ]
    }
   ],
   "source": [
    "# Limit\n",
    "# sympy.limit(f(x), x, x0, dir='+')  # dir = '+' or '-' (direction of the limit) (default is '+')\n",
    "sympy.limit(1/x, x, 0)  # 0"
   ]
  },
  {
   "attachments": {},
   "cell_type": "markdown",
   "metadata": {},
   "source": [
    "### [Integrals](https://docs.sympy.org/latest/modules/integrals/integrals.html)"
   ]
  },
  {
   "cell_type": "code",
   "execution_count": null,
   "metadata": {},
   "outputs": [
    {
     "data": {
      "text/latex": [
       "$\\displaystyle 2000$"
      ],
      "text/plain": [
       "2000"
      ]
     },
     "execution_count": 13,
     "metadata": {},
     "output_type": "execute_result"
    }
   ],
   "source": [
    "# sympy.integrate(f(x), (x, min, max))\n",
    "# sympy.integrate(f(x), (x, 0, 10))  # returns the definite integral of the function\n",
    "sympy.integrate(6*x**2, (x, 0, 10))"
   ]
  },
  {
   "cell_type": "code",
   "execution_count": null,
   "metadata": {},
   "outputs": [
    {
     "data": {
      "text/latex": [
       "$\\displaystyle - \\frac{x^{15}}{1307674368000} + \\frac{x^{13}}{6227020800} - \\frac{x^{11}}{39916800} + \\frac{x^{9}}{362880} - \\frac{x^{7}}{5040} + \\frac{x^{5}}{120} - \\frac{x^{3}}{6} + x$"
      ],
      "text/plain": [
       "-x**15/1307674368000 + x**13/6227020800 - x**11/39916800 + x**9/362880 - x**7/5040 + x**5/120 - x**3/6 + x"
      ]
     },
     "execution_count": 14,
     "metadata": {},
     "output_type": "execute_result"
    }
   ],
   "source": [
    "# series\n",
    "# sympy.series(f(x), x, x0, n)  # returns the Taylor series of the function\n",
    "# sympy.series(f(x), x, x0, n).removeO()  # returns the Taylor series of the function without the O term\n",
    "sympy.series(sin(x), x, 0, 16).removeO()"
   ]
  },
  {
   "cell_type": "code",
   "execution_count": null,
   "metadata": {},
   "outputs": [
    {
     "data": {
      "text/latex": [
       "$\\displaystyle \\frac{1}{3628800}$"
      ],
      "text/plain": [
       "1/3628800"
      ]
     },
     "execution_count": 15,
     "metadata": {},
     "output_type": "execute_result"
    }
   ],
   "source": [
    "# sums and products\n",
    "# sympy.summation(f(x), (x, min, max))\n",
    "# sympy.product(f(x), (x, min, max))\n",
    "sympy.summation(1/x, (x, 1, 10))\n",
    "sympy.product(1/x, (x, 1, 10))"
   ]
  },
  {
   "attachments": {},
   "cell_type": "markdown",
   "metadata": {},
   "source": [
    "### [Laplace Transforms](https://docs.sympy.org/latest/modules/series/series.html)"
   ]
  },
  {
   "attachments": {},
   "cell_type": "markdown",
   "metadata": {},
   "source": [
    "### [Fourier Transforms](https://docs.sympy.org/latest/modules/series/series.html)"
   ]
  },
  {
   "cell_type": "code",
   "execution_count": null,
   "metadata": {},
   "outputs": [],
   "source": [
    "# I still need to learn more about this"
   ]
  },
  {
   "attachments": {},
   "cell_type": "markdown",
   "metadata": {},
   "source": [
    "### [Solving Integral Equations](https://docs.sympy.org/latest/modules/series/series.html)"
   ]
  }
 ],
 "metadata": {
  "kernelspec": {
   "display_name": "Python 3",
   "language": "python",
   "name": "python3"
  },
  "language_info": {
   "codemirror_mode": {
    "name": "ipython",
    "version": 3
   },
   "file_extension": ".py",
   "mimetype": "text/x-python",
   "name": "python",
   "nbconvert_exporter": "python",
   "pygments_lexer": "ipython3",
   "version": "3.11.1"
  },
  "orig_nbformat": 4,
  "vscode": {
   "interpreter": {
    "hash": "1bbba381326e6b0f8b33bafca923bd106b97453bcb5e84edec24c0a8cb9538a0"
   }
  }
 },
 "nbformat": 4,
 "nbformat_minor": 2
}
