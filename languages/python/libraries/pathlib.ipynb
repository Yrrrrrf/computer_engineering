{
 "cells": [
  {
   "attachments": {},
   "cell_type": "markdown",
   "metadata": {},
   "source": [
    "# [pathlib](https://docs.python.org/3/library/pathlib.html)\n",
    "\n",
    "Offers classes representing filesystem paths with semantics appropriate **for different operating systems**.\n",
    "\n",
    "`pathlib` creates a `Path` object that represents a filesystem path that can be used to access the filesystem in a much more object-oriented way than using strings."
   ]
  },
  {
   "cell_type": "code",
   "execution_count": 1,
   "metadata": {},
   "outputs": [],
   "source": [
    "import pathlib"
   ]
  },
  {
   "attachments": {},
   "cell_type": "markdown",
   "metadata": {},
   "source": [
    "### Directories"
   ]
  },
  {
   "cell_type": "code",
   "execution_count": 2,
   "metadata": {},
   "outputs": [
    {
     "name": "stdout",
     "output_type": "stream",
     "text": [
      "C:\\Users\\Yrrrrrf\n"
     ]
    },
    {
     "data": {
      "text/plain": [
       "WindowsPath('c:/Users/Yrrrrrf/Documents/computer_engineering/programmation/python/libraries')"
      ]
     },
     "execution_count": 2,
     "metadata": {},
     "output_type": "execute_result"
    }
   ],
   "source": [
    "print(pathlib.Path().home())  # Home dir\n",
    "current_path = pathlib.Path().cwd()\n",
    "current_path"
   ]
  },
  {
   "cell_type": "code",
   "execution_count": 3,
   "metadata": {},
   "outputs": [
    {
     "name": "stdout",
     "output_type": "stream",
     "text": [
      "True\n",
      "True\n",
      "True\n",
      "False\n"
     ]
    }
   ],
   "source": [
    "print(current_path.exists())\n",
    "print(current_path.is_absolute())  # Absolute means that the path starts from the root of the filesystem\n",
    "print(current_path.is_dir())\n",
    "print(current_path.is_file())"
   ]
  },
  {
   "cell_type": "code",
   "execution_count": 4,
   "metadata": {},
   "outputs": [
    {
     "data": {
      "text/plain": [
       "[WindowsPath('c:/Users/Yrrrrrf/Documents/computer_engineering/programmation/python/libraries/os.ipynb'),\n",
       " WindowsPath('c:/Users/Yrrrrrf/Documents/computer_engineering/programmation/python/libraries/pathlib.ipynb'),\n",
       " WindowsPath('c:/Users/Yrrrrrf/Documents/computer_engineering/programmation/python/libraries/subprocess.ipynb')]"
      ]
     },
     "execution_count": 4,
     "metadata": {},
     "output_type": "execute_result"
    }
   ],
   "source": [
    "list(current_path.iterdir())  # list all files in the current directory\n",
    "list(current_path.glob('*.ipynb'))  # list all files with .ipynb extension"
   ]
  },
  {
   "attachments": {},
   "cell_type": "markdown",
   "metadata": {},
   "source": [
    "### Path relative to a project"
   ]
  },
  {
   "cell_type": "code",
   "execution_count": 5,
   "metadata": {},
   "outputs": [
    {
     "name": "stdout",
     "output_type": "stream",
     "text": [
      "[WindowsPath('python/libraries'), WindowsPath('python/notebook'), WindowsPath('python/python.md')]\n"
     ]
    }
   ],
   "source": [
    "project_path = pathlib.Path().cwd().parent\n",
    "\n",
    "print([path.relative_to(pathlib.Path().cwd().parent.parent) for path in project_path.iterdir()])  # list all files in the project directory\n"
   ]
  }
 ],
 "metadata": {
  "kernelspec": {
   "display_name": ".venv",
   "language": "python",
   "name": "python3"
  },
  "language_info": {
   "codemirror_mode": {
    "name": "ipython",
    "version": 3
   },
   "file_extension": ".py",
   "mimetype": "text/x-python",
   "name": "python",
   "nbconvert_exporter": "python",
   "pygments_lexer": "ipython3",
   "version": "3.11.1 (tags/v3.11.1:a7a450f, Dec  6 2022, 19:58:39) [MSC v.1934 64 bit (AMD64)]"
  },
  "orig_nbformat": 4,
  "vscode": {
   "interpreter": {
    "hash": "90e9cecf0ab6516382938111031b3a23db288579fe2d09bae4330be5540f9898"
   }
  }
 },
 "nbformat": 4,
 "nbformat_minor": 2
}
