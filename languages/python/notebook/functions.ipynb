{
 "cells": [
  {
   "attachments": {},
   "cell_type": "markdown",
   "metadata": {},
   "source": [
    "# Functions\n",
    "A function is a block of code which only runs when it is called. You can pass data, known as parameters, into a function. A function can return data as a result.\n",
    "To create a function, use the def keyword:"
   ]
  },
  {
   "cell_type": "code",
   "execution_count": 3,
   "metadata": {},
   "outputs": [],
   "source": [
    "# import math\n",
    "def my_function():\n",
    "  print(\"Hello from a function\")"
   ]
  },
  {
   "cell_type": "code",
   "execution_count": 2,
   "metadata": {},
   "outputs": [
    {
     "name": "stdout",
     "output_type": "stream",
     "text": [
      "Hello from a function\n"
     ]
    }
   ],
   "source": [
    "my_function()  # To call a function, use the function name followed by parenthesis:"
   ]
  },
  {
   "attachments": {},
   "cell_type": "markdown",
   "metadata": {},
   "source": [
    "### Parameters or Arguments\n",
    "Information can be passed into functions as parameters."
   ]
  },
  {
   "cell_type": "code",
   "execution_count": 7,
   "metadata": {},
   "outputs": [
    {
     "name": "stdout",
     "output_type": "stream",
     "text": [
      "Emil Refsnes\n",
      "Fernando Reza, age: 23 years\n"
     ]
    }
   ],
   "source": [
    "def my_function(fname: str = \"John\", lname: str = \"Doe\"):   # default values\n",
    "    print(fname + \" Refsnes\")\n",
    "my_function(\"Emil\")\n",
    "\n",
    "def hello(name, surname, age):  # type: ignore\n",
    "    return name + \" \" + surname + \", age: \" + str(age) + \" years\"\n",
    "\n",
    "print(hello(age=23, surname=\"Reza\", name=\"Fernando\"))\n"
   ]
  },
  {
   "attachments": {},
   "cell_type": "markdown",
   "metadata": {},
   "source": [
    "### Return Values\n",
    "A function can return data as a result. The return statement is used to exit a function and return a value."
   ]
  },
  {
   "cell_type": "code",
   "execution_count": 4,
   "metadata": {},
   "outputs": [
    {
     "name": "stdout",
     "output_type": "stream",
     "text": [
      "15\n"
     ]
    }
   ],
   "source": [
    "def my_function(x: int) -> int:  # The return type is int\n",
    "    return 5 * x  # The return statement stops the execution of a function, and returns a value from the function\n",
    "\n",
    "print(my_function(3))  # 15"
   ]
  },
  {
   "attachments": {},
   "cell_type": "markdown",
   "metadata": {},
   "source": [
    "### [*args](https://docs.python.org/3/tutorial/controlflow.html#arbitrary-argument-lists)\n",
    "If you do not know how many arguments that will be passed into your function, add a * before the parameter name in the function definition.\n",
    "\n",
    "Parameter that'll pack all the arguments into a [Tuple](https://docs.python.org/3/library/stdtypes.html#tuple).\n",
    "Useful so that a function can accept a varying amount of arguments\n"
   ]
  },
  {
   "cell_type": "code",
   "execution_count": 9,
   "metadata": {},
   "outputs": [
    {
     "name": "stdout",
     "output_type": "stream",
     "text": [
      "6720\n",
      "3628800\n"
     ]
    }
   ],
   "source": [
    "def multiply(*args):\n",
    "    result = args[0]\n",
    "    for i in args[1:]:  # Iterate over the list starting from the second element\n",
    "        result *= i\n",
    "    return result\n",
    "\n",
    "print(multiply(4, 5, 6, 7, 8))\n",
    "print(multiply(1, 2, 3, 4, 5, 6, 7, 8, 9, 10))"
   ]
  },
  {
   "attachments": {},
   "cell_type": "markdown",
   "metadata": {},
   "source": [
    "#  [**kwargs](https://docs.python.org/3/tutorial/controlflow.html#keyword-arguments)\n",
    "If you do not know how many keyword arguments that will be passed into your function, add two asterisk: ** before the parameter name in the function definition.\n",
    "\n",
    "Parameter that'll pack all the arguments into a [dictionary](https://docs.python.org/3/library/stdtypes.html#dict).\n",
    "Useful so that a function can accept a varying amount of keyword arguments\n"
   ]
  },
  {
   "cell_type": "code",
   "execution_count": 10,
   "metadata": {},
   "outputs": [
    {
     "name": "stdout",
     "output_type": "stream",
     "text": [
      "Hello Mr. Fernando Reza "
     ]
    }
   ],
   "source": [
    "def hello(**kwargs):\n",
    "    print(\"Hello\", end=\" \")\n",
    "    for key, value in kwargs.items():\n",
    "        print(value, end=\" \")\n",
    "\n",
    "hello(title=\"Mr.\", name=\"Fernando\", surname=\"Reza\")"
   ]
  },
  {
   "attachments": {},
   "cell_type": "markdown",
   "metadata": {},
   "source": [
    "### Decorators\n",
    "A decorator takes in a function, adds some functionality and returns it."
   ]
  },
  {
   "cell_type": "code",
   "execution_count": 3,
   "metadata": {},
   "outputs": [],
   "source": [
    "def my_decorator(func):  # Here we define the decorator\n",
    "    def wrap_func(*args, **kwargs):\n",
    "        print('**********')\n",
    "        func(*args, **kwargs)\n",
    "        print('**********')\n",
    "    return wrap_func"
   ]
  },
  {
   "cell_type": "code",
   "execution_count": 4,
   "metadata": {},
   "outputs": [],
   "source": [
    "@my_decorator  # Here we apply the decorator\n",
    "def hello(greeting, emoji=':('): \n",
    "    print(greeting, emoji)"
   ]
  },
  {
   "cell_type": "code",
   "execution_count": 6,
   "metadata": {},
   "outputs": [
    {
     "name": "stdout",
     "output_type": "stream",
     "text": [
      "**********\n",
      "n00b :(\n",
      "**********\n"
     ]
    }
   ],
   "source": [
    "hello('n00b')  # As you can see, the decorator is applied to the function"
   ]
  }
 ],
 "metadata": {
  "kernelspec": {
   "display_name": "Python 3",
   "language": "python",
   "name": "python3"
  },
  "language_info": {
   "codemirror_mode": {
    "name": "ipython",
    "version": 3
   },
   "file_extension": ".py",
   "mimetype": "text/x-python",
   "name": "python",
   "nbconvert_exporter": "python",
   "pygments_lexer": "ipython3",
   "version": "3.11.1 (tags/v3.11.1:a7a450f, Dec  6 2022, 19:58:39) [MSC v.1934 64 bit (AMD64)]"
  },
  "orig_nbformat": 4,
  "vscode": {
   "interpreter": {
    "hash": "1bbba381326e6b0f8b33bafca923bd106b97453bcb5e84edec24c0a8cb9538a0"
   }
  }
 },
 "nbformat": 4,
 "nbformat_minor": 2
}
