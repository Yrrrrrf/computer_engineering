{
 "cells": [
  {
   "attachments": {},
   "cell_type": "markdown",
   "metadata": {},
   "source": [
    "# File Management\n",
    "\n",
    "Python provide a number of built-in functions to create, read, update, and delete files. You can do this by using the built-in `open()` function."
   ]
  },
  {
   "cell_type": "code",
   "execution_count": 25,
   "metadata": {},
   "outputs": [],
   "source": [
    "import pathlib"
   ]
  },
  {
   "cell_type": "code",
   "execution_count": 53,
   "metadata": {},
   "outputs": [
    {
     "name": "stdout",
     "output_type": "stream",
     "text": [
      "c:\\Users\\OutwardFire\\Documents\\computer_engineering\\programmation\\python\n",
      "c:\\Users\\OutwardFire\\Documents\\computer_engineering\\programmation\\python\\resources\\test\n"
     ]
    }
   ],
   "source": [
    "project_path = pathlib.Path().cwd().parent\n",
    "print(project_path)\n",
    "\n",
    "test_path = project_path / 'resources' / 'test'\n",
    "print(test_path)"
   ]
  },
  {
   "attachments": {},
   "cell_type": "markdown",
   "metadata": {},
   "source": [
    "##### Create & Delete"
   ]
  },
  {
   "cell_type": "code",
   "execution_count": 67,
   "metadata": {},
   "outputs": [],
   "source": [
    "test_path.joinpath('new_file.txt').touch()  # create a new file\n",
    "# test_path.joinpath('new_file.txt').unlink()  # delete the file"
   ]
  },
  {
   "cell_type": "code",
   "execution_count": 69,
   "metadata": {},
   "outputs": [
    {
     "name": "stdout",
     "output_type": "stream",
     "text": [
      "Location exist & is a directory\n"
     ]
    }
   ],
   "source": [
    "def path_data(path: pathlib.Path):\n",
    "    '''Prints the path and if it is a file or directory'''\n",
    "    if path.exists():  # Returns True if file exists, False if not\n",
    "        print('Location exist', end='')\n",
    "        if path.is_file(): print(' & is a file')\n",
    "        if path.is_dir(): print(' & is a directory')\n",
    "    else:\n",
    "        print('File does not exist', path.iterdir())  # list the files in the directory ($ ls)\n",
    "\n",
    "\n",
    "path_data(project_path)"
   ]
  },
  {
   "attachments": {},
   "cell_type": "markdown",
   "metadata": {},
   "source": [
    "##### Open File"
   ]
  },
  {
   "cell_type": "code",
   "execution_count": 76,
   "metadata": {},
   "outputs": [],
   "source": [
    "with open(test_path / 'new_file.txt', 'a') as f:\n",
    "# with open(pathlib.Path.joinpath(test_path, 'new_file.txt'), 'a') as f:  # the same as above\n",
    "    # r = read (default)\n",
    "    # w = write (overwrites the file if it exists)\n",
    "    # a = append (adds to the end of the file)\n",
    "    f.write('This is a new file\\n')"
   ]
  },
  {
   "cell_type": "code",
   "execution_count": 102,
   "metadata": {},
   "outputs": [
    {
     "name": "stdout",
     "output_type": "stream",
     "text": [
      "HolisHolisHolisHolis\n",
      "File is open\n",
      "File is closed\n"
     ]
    }
   ],
   "source": [
    "def read_file(path):\n",
    "    '''Reads a file'''\n",
    "    try:\n",
    "        with open(path) as file:  # Read file & close it automatically when this loop is done\n",
    "            print(file.read())\n",
    "            print('File is ' + ('closed' if file.closed else 'open'))  # Returns True if file is closed\n",
    "        print('File is ' + ('closed' if file.closed else 'open'))  # Same as above but outside the loop\n",
    "    except:\n",
    "        print('File was not found :(')\n",
    "\n",
    "\n",
    "read_file(test_path / 'new_file.txt')"
   ]
  },
  {
   "cell_type": "code",
   "execution_count": 106,
   "metadata": {},
   "outputs": [
    {
     "name": "stdout",
     "output_type": "stream",
     "text": [
      "HolisHolisHolisHolisHolisHolisHolisHolis\n",
      "File is open\n",
      "File is closed\n"
     ]
    }
   ],
   "source": [
    "# CREATE or OVERWRITE\n",
    "def overwrite_file(path, text):\n",
    "    '''Replace, Add or Create the content of a file'''\n",
    "    with open(path, 'a') as file:  # w = write, r = read, a = append\n",
    "        file.write(text)\n",
    "\n",
    "\n",
    "overwrite_file(test_path / 'new_file.txt', 'Holis')\n",
    "read_file(test_path / 'new_file.txt')  # chek if it worked"
   ]
  },
  {
   "cell_type": "code",
   "execution_count": 108,
   "metadata": {},
   "outputs": [],
   "source": [
    "import shutil  # shell utilities\n",
    "# copyfile() = copies the file content\n",
    "# copy() = copies the file & its permission\n",
    "# copy2() = copies the file, its permission & metadata (edition date, creation date, etc)\n",
    "def copy_file(path, destination):\n",
    "    shutil.copy(path, destination)\n",
    "    print('File copied')"
   ]
  },
  {
   "cell_type": "code",
   "execution_count": 111,
   "metadata": {},
   "outputs": [
    {
     "name": "stdout",
     "output_type": "stream",
     "text": [
      "File moved\n"
     ]
    }
   ],
   "source": [
    "def move_file(path: pathlib.Path, destination: pathlib.Path):\n",
    "    if destination.exists() and destination.is_file():\n",
    "        print('File already exists')\n",
    "    else:\n",
    "        shutil.move(path, destination)  # move the file to the destination\n",
    "        print('File moved')\n",
    "\n",
    "\n",
    "move_file(test_path / 'new_file.txt', test_path / 'new_file2.txt')\n",
    "# move_file(test_path / 'new_file2.txt', test_path / 'new_file.txt')"
   ]
  },
  {
   "cell_type": "code",
   "execution_count": 94,
   "metadata": {},
   "outputs": [
    {
     "name": "stdout",
     "output_type": "stream",
     "text": [
      "File does not exist\n"
     ]
    }
   ],
   "source": [
    "def delete_file(path: pathlib.Path):\n",
    "    '''Deletes a file'''\n",
    "    try:\n",
    "        if path.exists():  # Check if file exists\n",
    "            path.unlink()  # Only delete files\n",
    "            # os.rmdir(path)  # Remove empty directories\n",
    "            # shutil.rmtree(path)  # Remove directories & files  # DO NOT USE THIS WITHOUT A SECOND THOUGHT\n",
    "            print('File deleted')\n",
    "        else:  # Or FileNotFoundError\n",
    "            print('File does not exist')\n",
    "    except PermissionError:\n",
    "        print('You don\\'t have the permisison to delete this file')\n",
    "    except OSError:\n",
    "        print('You can\\'t delete a directory with this function')\n",
    "\n",
    "\n",
    "delete_file(test_path / 'new_file.txt')"
   ]
  }
 ],
 "metadata": {
  "kernelspec": {
   "display_name": ".venv",
   "language": "python",
   "name": "python3"
  },
  "language_info": {
   "codemirror_mode": {
    "name": "ipython",
    "version": 3
   },
   "file_extension": ".py",
   "mimetype": "text/x-python",
   "name": "python",
   "nbconvert_exporter": "python",
   "pygments_lexer": "ipython3",
   "version": "3.11.1 (tags/v3.11.1:a7a450f, Dec  6 2022, 19:58:39) [MSC v.1934 64 bit (AMD64)]"
  },
  "orig_nbformat": 4,
  "vscode": {
   "interpreter": {
    "hash": "90e9cecf0ab6516382938111031b3a23db288579fe2d09bae4330be5540f9898"
   }
  }
 },
 "nbformat": 4,
 "nbformat_minor": 2
}
