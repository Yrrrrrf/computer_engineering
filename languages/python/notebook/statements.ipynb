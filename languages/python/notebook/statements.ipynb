{
 "cells": [
  {
   "attachments": {},
   "cell_type": "markdown",
   "metadata": {},
   "source": [
    "# Statements\n",
    "Are used to execute a block of statements repeatedly\n",
    "Python provides two types of loop statements: for and while."
   ]
  },
  {
   "attachments": {},
   "cell_type": "markdown",
   "metadata": {},
   "source": [
    "### If statement\n",
    "Is used to execute a block of statements if a condition is true.\n",
    "```python\n",
    "if condition:\n",
    "    # block of statements\n",
    "```"
   ]
  },
  {
   "cell_type": "code",
   "execution_count": 1,
   "metadata": {},
   "outputs": [
    {
     "name": "stdout",
     "output_type": "stream",
     "text": [
      "adult\n"
     ]
    }
   ],
   "source": [
    "age = 20\n",
    "if age <= 10:\n",
    "    print(\"just a kid\")\n",
    "elif 10 < age and age <= 18:\n",
    "    print(\"teenager\")\n",
    "elif 18 < age and age <= 50:\n",
    "    print(\"adult\")\n",
    "else:\n",
    "    print(\"old\")"
   ]
  },
  {
   "attachments": {},
   "cell_type": "markdown",
   "metadata": {},
   "source": [
    "### For Loop\n",
    "The for loop in Python is used to iterate over a sequence (list, tuple, string) or other iterable objects. Iterating over a sequence is called traversal.   \n",
    "```python\n",
    "for val in sequence:\n",
    "    Body of for\n",
    "```"
   ]
  },
  {
   "cell_type": "code",
   "execution_count": 7,
   "metadata": {},
   "outputs": [
    {
     "name": "stdout",
     "output_type": "stream",
     "text": [
      "0 1 2 3 4 5 6 7 8 9 "
     ]
    }
   ],
   "source": [
    "for i in range(0, 10):\n",
    "    print(f'{i} ', end='')"
   ]
  },
  {
   "attachments": {},
   "cell_type": "markdown",
   "metadata": {},
   "source": [
    "### While Loop\n",
    "The while loop in Python is used to iterate over a block of code as long as the test expression (condition) is true.\n",
    "Syntax:\n",
    "```python\n",
    "while test_expression:\n",
    "    Body of while\n",
    "```"
   ]
  },
  {
   "cell_type": "code",
   "execution_count": 6,
   "metadata": {},
   "outputs": [
    {
     "name": "stdout",
     "output_type": "stream",
     "text": [
      "0 1 2 3 4 5 6 7 8 9 "
     ]
    }
   ],
   "source": [
    "i = 0\n",
    "while i < 10:\n",
    "    print(f'{i} ', end='')\n",
    "    i += 1"
   ]
  },
  {
   "attachments": {},
   "cell_type": "markdown",
   "metadata": {},
   "source": [
    "### Control Statements\n",
    "#### Break Statement\n",
    "The break statement is used to terminate the loop containing it. Control of the program flows to the statement immediately after the body of the loop. If the break statement is inside a nested loop (loop inside another loop), the break statement will terminate the innermost loop.\n",
    "```python\n",
    "for val in sequence:\n",
    "    Body of for\n",
    "    if condition:\n",
    "        break\n",
    "```\n",
    "#### Continue Statement\n",
    "The continue statement is used to skip the rest of the code inside a loop for the current iteration only. Loop does not terminate but continues on with the next iteration.\n",
    "```python\n",
    "for val in sequence:\n",
    "    if condition:\n",
    "        continue\n",
    "    Body of for\n",
    "```\n",
    "#### Pass Statement\n",
    "The pass statement is a null statement. The difference between a comment and a pass statement in Python is that while the interpreter ignores a comment entirely, pass is not ignored.\n",
    "However, nothing happens when the pass is executed. It results into no operation (NOP).\n",
    "```python\n",
    "for val in sequence:\n",
    "    pass\n",
    "```"
   ]
  },
  {
   "attachments": {},
   "cell_type": "markdown",
   "metadata": {},
   "source": [
    "##### Range Function\n",
    "The range() function returns a sequence of numbers, starting from 0 by default, and increments by 1 (by default), and ends at a specified number.\n",
    "```python"
   ]
  },
  {
   "attachments": {},
   "cell_type": "markdown",
   "metadata": {},
   "source": [
    "##### ZIP()\n",
    "Used to iterate over two or more lists at the same time & stops when the shortest iterable is exhausted\n",
    "Each tuple contains the elements in that position from all the iterables. Isn't indexable"
   ]
  },
  {
   "cell_type": "code",
   "execution_count": 1,
   "metadata": {},
   "outputs": [
    {
     "name": "stdout",
     "output_type": "stream",
     "text": [
      "<class 'zip'>\n",
      "a 1\n",
      "b 2\n",
      "c 3\n",
      "[]\n",
      "{'alpha': 1, 'beta': 2, 'gamma': 3, 'delta': 4, 'epsilon': 5}\n"
     ]
    }
   ],
   "source": [
    "zip_l = zip([\"a\", \"b\", \"c\"], [1, 2, 3])\n",
    "print(type(zip_l))  # <class 'zip'>\n",
    "for i, j in zip_l:\n",
    "    print(i, j)\n",
    "\n",
    "print(list(zip_l))  # [] because zip_l is exhausted\n",
    "\n",
    "# Example (create a dictionary from two lists)\n",
    "greek_letters = ['alpha', 'beta', 'gamma', 'delta', 'epsilon']\n",
    "values = list(range(1, 10))  # [1:9]\n",
    "greek_letters_dict = dict(zip(greek_letters, values))  # cast zip to dict\n",
    "print(greek_letters_dict)"
   ]
  }
 ],
 "metadata": {
  "kernelspec": {
   "display_name": "Python 3",
   "language": "python",
   "name": "python3"
  },
  "language_info": {
   "codemirror_mode": {
    "name": "ipython",
    "version": 3
   },
   "file_extension": ".py",
   "mimetype": "text/x-python",
   "name": "python",
   "nbconvert_exporter": "python",
   "pygments_lexer": "ipython3",
   "version": "3.11.1 (tags/v3.11.1:a7a450f, Dec  6 2022, 19:58:39) [MSC v.1934 64 bit (AMD64)]"
  },
  "orig_nbformat": 4,
  "vscode": {
   "interpreter": {
    "hash": "75eac305c8e141966161d1206bd92858a0cd7c0dd6ed8dfbbc71e20c653a40c1"
   }
  }
 },
 "nbformat": 4,
 "nbformat_minor": 2
}
