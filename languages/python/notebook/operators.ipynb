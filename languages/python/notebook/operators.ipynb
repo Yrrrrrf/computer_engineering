{
 "cells": [
  {
   "attachments": {},
   "cell_type": "markdown",
   "metadata": {},
   "source": [
    "# Operators\n",
    "They are used to perform operations on variables and values.\n",
    "\n",
    "## Arithmetic Operators\n",
    "Arithmetic operators are used with numeric values to perform common mathematical operations:\n",
    "- Addition: `+`  (also used for string concatenation)\n",
    "- Subtraction: `-`  \n",
    "- Multiplication: `*`\n",
    "- Division: `/`\n",
    "- Modulus: `%`  (remainder of division)\n",
    "- Exponentiation: `**`  (power of)\n",
    "- Floor division: `//`  (division rounded down to the nearest integer)\n",
    "\n",
    "## Logical Operators\n",
    "Logical operators are used to combine conditional statements:\n",
    "- `and`  Returns True if both statements are true\n",
    "- `or`  Returns True if one of the statements is true\n",
    "- `not`  Reverse the result, returns False if the result is true\n",
    "\n",
    "## Comparison Operators\n",
    "Comparison operators are used to compare two values:\n",
    "- `==`  Returns True if the values are equal\n",
    "- `!=`  Returns True if the values are not equal\n",
    "- `>`  Returns True if the left value is greater than the right value\n",
    "- `<`  Returns True if the left value is less than the right value\n",
    "- `>=`  Returns True if the left value is greater than or equal to the right value\n",
    "- `<=`  Returns True if the left value is less than or equal to the right value\n",
    "\n",
    "## Assignment Operators\n",
    "Assignment operators are used to assign values to variables:\n",
    "- `=`  Assigns values from the right side operands to the left side operand\n",
    "- `+=`  Add AND\n",
    "- `-=`  Subtract AND\n",
    "- `*=`  Multiply AND\n",
    "- `/=`  Divide AND\n",
    "- `%=`  Modulus AND\n",
    "- `**=`  Exponent AND\n",
    "- `//=`  Floor Division\n",
    "\n",
    "## Identity Operators\n",
    "Identity operators are used to compare the objects, not if they are equal, but if they are actually the same object, with the same memory location:\n",
    "- `is`  Returns True if both variables are the same object\n",
    "- `is not`  Returns True if both variables are not the same object\n",
    "\n",
    "## Membership Operators\n",
    "Membership operators are used to test if a sequence is presented in an object:\n",
    "- `in`  Returns True if a sequence with the specified value is present in the object\n",
    "- `not in`  Returns True if a sequence with the specified value is not present in the object\n",
    "\n",
    "## Bitwise Operators\n",
    "Bitwise operators are used to compare (binary) numbers:\n",
    "- `&`  AND\n",
    "- `|`  OR\n",
    "- `^`  XOR\n",
    "- `~`  NOT\n",
    "- `<<`  Zero fill left shift\n",
    "- `>>`  Signed right shift\n",
    "\n"
   ]
  }
 ],
 "metadata": {
  "kernelspec": {
   "display_name": ".venv",
   "language": "python",
   "name": "python3"
  },
  "language_info": {
   "name": "python",
   "version": "3.11.1 (tags/v3.11.1:a7a450f, Dec  6 2022, 19:58:39) [MSC v.1934 64 bit (AMD64)]"
  },
  "orig_nbformat": 4,
  "vscode": {
   "interpreter": {
    "hash": "90e9cecf0ab6516382938111031b3a23db288579fe2d09bae4330be5540f9898"
   }
  }
 },
 "nbformat": 4,
 "nbformat_minor": 2
}
