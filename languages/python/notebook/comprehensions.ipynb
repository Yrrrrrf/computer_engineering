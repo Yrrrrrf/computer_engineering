{
 "cells": [
  {
   "attachments": {},
   "cell_type": "markdown",
   "metadata": {},
   "source": [
    "# Comprehensions\n",
    "Comprehensions are a way to apply a function to every element in a list, and return a list of the results. They are a concise way to create lists, and are often used in place of `map` and `filter`. They are also a way to create dictionaries and sets."
   ]
  },
  {
   "attachments": {},
   "cell_type": "markdown",
   "metadata": {},
   "source": [
    "### List Comprehensions"
   ]
  },
  {
   "cell_type": "code",
   "execution_count": 1,
   "metadata": {},
   "outputs": [
    {
     "name": "stdout",
     "output_type": "stream",
     "text": [
      "[0, 1, 2, 3, 4, 5, 6, 7, 8, 9]\n",
      "[0, 2, 4, 6, 8]\n",
      "[1, 3, 5, 7, 9]\n",
      "<generator object <genexpr> at 0x000001D8084A6DC0>\n",
      "[1, 9, 25, 49, 81]\n",
      "[1, 27, 125, 343, 729]\n"
     ]
    }
   ],
   "source": [
    "import random\n",
    "# List Comprehension  [expression for item in list if condition]\n",
    "print([x for x in range(10)])  # List of numbers from 0 to 9\n",
    "print([x for x in range(10) if x % 2 == 0])  # List of even numbers from 0 to 9\n",
    "\n",
    "odd = [i for i in range(1, 10) if i % 2 != 0]\n",
    "print(odd)\n",
    "print(n^2 for n in odd)\n",
    "print([i**2 for i in range(1, 10) if i % 2 != 0])  # Odd numbers squared\n",
    "print([i**3 for i in range(1, 10) if i % 2 != 0])  # Odd numbers cubed"
   ]
  },
  {
   "attachments": {},
   "cell_type": "markdown",
   "metadata": {},
   "source": [
    "### Dictionary Comprehension"
   ]
  },
  {
   "cell_type": "code",
   "execution_count": 3,
   "metadata": {},
   "outputs": [
    {
     "name": "stdout",
     "output_type": "stream",
     "text": [
      "{1: 1, 2: 4, 3: 9, 4: 16, 5: 25, 6: 36, 7: 49, 8: 64, 9: 81}\n",
      "{'x': [63, 45, 96, 10, 95, 89, 81, 26, 92, 75, 52, 44, 22, 61, 49, 48, 61, 71, 67], 'y': [30, 54, 60, 8, 78, 7, 84, 8, 33, 36, 3, 95, 1, 18, 79, 72, 71, 66, 36]}\n"
     ]
    }
   ],
   "source": [
    "my_dict = {}\n",
    "for i in range(1, 10):\n",
    "    my_dict[i] = i**2\n",
    "print(my_dict)\n",
    "n = 20  # Where n is the number of elements in the dictionary\n",
    "data = {}  # Create an empty dictionary\n",
    "for i in range(1, 10):\n",
    "    data['x'] ,data['y'] = [random.randint(1, 100) for i in range(1, n)], [random.randint(1, 100) for i in range(1, n)]\n",
    "print(data)"
   ]
  },
  {
   "cell_type": "code",
   "execution_count": 2,
   "metadata": {},
   "outputs": [
    {
     "name": "stdout",
     "output_type": "stream",
     "text": [
      "a is the  1st letter of the alphabet\n",
      "b is the  2nd letter of the alphabet\n",
      "c is the  3rd letter of the alphabet\n",
      "d is the  4th letter of the alphabet\n",
      "e is the  5th letter of the alphabet\n",
      "f is the  6th letter of the alphabet\n",
      "g is the  7th letter of the alphabet\n",
      "h is the  8th letter of the alphabet\n",
      "i is the  9th letter of the alphabet\n",
      "j is the 10th letter of the alphabet\n",
      "k is the 11th letter of the alphabet\n",
      "l is the 12th letter of the alphabet\n",
      "m is the 13th letter of the alphabet\n",
      "n is the 14th letter of the alphabet\n",
      "o is the 15th letter of the alphabet\n",
      "p is the 16th letter of the alphabet\n",
      "q is the 17th letter of the alphabet\n",
      "r is the 18th letter of the alphabet\n",
      "s is the 19th letter of the alphabet\n",
      "t is the 20th letter of the alphabet\n",
      "u is the 21st letter of the alphabet\n",
      "v is the 22nd letter of the alphabet\n",
      "w is the 23rd letter of the alphabet\n",
      "x is the 24th letter of the alphabet\n",
      "y is the 25th letter of the alphabet\n",
      "z is the 26th letter of the alphabet\n"
     ]
    }
   ],
   "source": [
    "import string\n",
    "alphabet = string.ascii_lowercase  # Get the alphabet\n",
    "suffix = 'st nd rd th'.split()  # Get the suffixes\n",
    "for i in range(len(alphabet)):\n",
    "    print(f'{alphabet[i]} is the {i+1:>2}{suffix[i%20 if i%20<3 else 3]} letter of the alphabet')\n"
   ]
  }
 ],
 "metadata": {
  "kernelspec": {
   "display_name": ".venv",
   "language": "python",
   "name": "python3"
  },
  "language_info": {
   "codemirror_mode": {
    "name": "ipython",
    "version": 3
   },
   "file_extension": ".py",
   "mimetype": "text/x-python",
   "name": "python",
   "nbconvert_exporter": "python",
   "pygments_lexer": "ipython3",
   "version": "3.11.1 (tags/v3.11.1:a7a450f, Dec  6 2022, 19:58:39) [MSC v.1934 64 bit (AMD64)]"
  },
  "orig_nbformat": 4,
  "vscode": {
   "interpreter": {
    "hash": "90e9cecf0ab6516382938111031b3a23db288579fe2d09bae4330be5540f9898"
   }
  }
 },
 "nbformat": 4,
 "nbformat_minor": 2
}
