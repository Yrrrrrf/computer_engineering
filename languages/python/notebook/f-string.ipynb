{
 "cells": [
  {
   "attachments": {},
   "cell_type": "markdown",
   "metadata": {},
   "source": [
    "# [f-string](https://docs.python.org/3/reference/lexical_analysis.html#f-strings)\n",
    "An f-string is a string literal that is prefixed with 'f' or 'F'. These strings may contain replacement fields, which are expressions delimited by curly braces {}. While other string literals always have a constant value, f-strings are expressions evaluated at run time. The expressions are evaluated using the globals and locals dictionaries passed to the method. If a field expression contains a backslash (\\), it must be doubled (\\\\) to escape the backslash. This is because the backslash is used to escape the curly braces surrounding the field expression. For example, to include a literal backslash in the string, you would use '\\\\\\\\' as the field expression. "
   ]
  },
  {
   "cell_type": "code",
   "execution_count": null,
   "metadata": {},
   "outputs": [
    {
     "name": "stdout",
     "output_type": "stream",
     "text": [
      "I am 25 years old\n",
      "I am 25 years old and I am 180 cm tall\n",
      "I am 25 years old and I am 180 cm tall\n",
      "I am 25 years old and I am 180 cm tall\n",
      "1 + 1 = 2\n",
      "1 + 1 = 2\n",
      "1 + 1 = 2\n"
     ]
    }
   ],
   "source": [
    "# Format string examples sing f-strings\n",
    "print(f'I am {25} years old')  # I am 25 years old\n",
    "# Using format method\n",
    "print('I am {0} years old and I am {1} cm tall'.format(25, 180))  # I am 25 years old and I am 180 cm tall\n",
    "print('I am {age} years old and I am {height} cm tall'.format(height=180, age=25))  # I am 25 years old and I am 180 cm tall\n",
    "print('I am {age} years old and I am {height} cm tall'.format(**{'age': 25, 'height': 180}))  # I am 25 years old and I am 180 cm tall\n",
    "# Using some more complex expressions\n",
    "print(f'1 + 1 = {1 + 1!r}')  # \\!r is a conversion flag that calls the repr() function on the value before formatting it\n",
    "print(f'1 + 1 = {1 + 1!s}')  # \\!s is a conversion flag that calls the str() function on the value before formatting it\n",
    "print(f'1 + 1 = {1 + 1!a}')  # \\!a is a conversion flag that calls the ascii() function on the value before formatting it"
   ]
  },
  {
   "cell_type": "code",
   "execution_count": 2,
   "metadata": {},
   "outputs": [
    {
     "name": "stdout",
     "output_type": "stream",
     "text": [
      "example text with spaces\n",
      "example text with spaces                \n",
      "                example text with spaces\n",
      "example text with spaces                \n",
      "        example text with spaces        \n",
      "********example text with spaces********\n"
     ]
    }
   ],
   "source": [
    "text = 'example text with spaces'\n",
    "# Format string examples using f-strings\n",
    "print(f'{text:s}')  # As string\n",
    "print(f'{text:40s}')  # As string with 10 characters\n",
    "print(f'{text:>40s}')  # As string with 10 characters and right aligned\n",
    "print(f'{text:<40s}')  # As string with 10 characters and left aligned\n",
    "print(f'{text:^40s}')  # As string with 10 characters and centered\n",
    "print(f'{text:*^40s}')  # As string with 10 characters, centered and filled with *\n"
   ]
  },
  {
   "attachments": {},
   "cell_type": "markdown",
   "metadata": {},
   "source": [
    "### Format Numbers\n",
    "An f-string can contain a format specifier, which is used to format the value of a variable."
   ]
  },
  {
   "cell_type": "code",
   "execution_count": null,
   "metadata": {},
   "outputs": [
    {
     "name": "stdout",
     "output_type": "stream",
     "text": [
      "\n",
      "For only 49.00 dollars!\n",
      "000000000250\n",
      "         250\n",
      "250 in binary is 11111010\n",
      "This number is 2,500\n",
      "This number is 372\n",
      "This number is fa\n",
      "This number is 2.500000E+02\n"
     ]
    }
   ],
   "source": [
    "# FORMAT NUMBERS\n",
    "print(\"\\nFor only {price:.2f} dollars!\".format(price=49))  # Change the number of decimal places\n",
    "number = 250\n",
    "print(f\"{number:012}\")  # Add zeros to the left\n",
    "print(f\"{number:12}\")  # Add spaces to the left\n",
    "# Change notation\n",
    "print(f\"{number} in binary is {number:b}\")  # Display in binary\n",
    "print(f\"This number is {number*10:,}\")  # Display in thousands\n",
    "print(f\"This number is {number:o}\")  # Display as an Octal number\n",
    "print(f\"This number is {number:x}\")  # Display in Hexadecimal notation\n",
    "print(f\"This number is {number:E}\")  # Display in Scientific notation\n"
   ]
  },
  {
   "attachments": {},
   "cell_type": "markdown",
   "metadata": {},
   "source": [
    "### Colored Text\n",
    "An f-string can contain [ANSI escape sequences to color the text](https://en.wikipedia.org/wiki/ANSI_escape_code#Colors)."
   ]
  },
  {
   "cell_type": "code",
   "execution_count": 1,
   "metadata": {},
   "outputs": [
    {
     "name": "stdout",
     "output_type": "stream",
     "text": [
      "\u001b[96m Hi Bro \u001b[00m\u001b[93m this is a \u001b[00m\u001b[92m Test \u001b[00m\u001b[91m To Color \u001b[00m\u001b[92m Text\u001b[00m"
     ]
    }
   ],
   "source": [
    "prRed = lambda text: print(f'\\033[91m {text}\\033[00m', end = '')\n",
    "prGreen = lambda text: print(f'\\033[92m {text}\\033[00m', end = '')\n",
    "prYellow = lambda text: print(f'\\033[93m {text}\\033[00m', end = '')\n",
    "prLightPurple = lambda text: print(f'\\033[94m {text}\\033[00m', end = '')\n",
    "prPurple = lambda text: print(f'\\033[95m {text}\\033[00m', end = '')\n",
    "prCyan = lambda text: print(f'\\033[96m {text}\\033[00m', end = '')\n",
    "prLightGray = lambda text: print(f'\\033[97m {text}\\033[00m', end = '')\n",
    "prBlack = lambda text: print(f'\\033[98m {text}\\033[00m', end = '')\n",
    "\n",
    "prCyan(\"Hi Bro \")\n",
    "prYellow(\"this is a \")\n",
    "prGreen(\"Test \")\n",
    "prRed(\"To Color \")\n",
    "prGreen(\"Text\")"
   ]
  }
 ],
 "metadata": {
  "kernelspec": {
   "display_name": ".venv",
   "language": "python",
   "name": "python3"
  },
  "language_info": {
   "codemirror_mode": {
    "name": "ipython",
    "version": 3
   },
   "file_extension": ".py",
   "mimetype": "text/x-python",
   "name": "python",
   "nbconvert_exporter": "python",
   "pygments_lexer": "ipython3",
   "version": "3.11.1 (tags/v3.11.1:a7a450f, Dec  6 2022, 19:58:39) [MSC v.1934 64 bit (AMD64)]"
  },
  "orig_nbformat": 4,
  "vscode": {
   "interpreter": {
    "hash": "90e9cecf0ab6516382938111031b3a23db288579fe2d09bae4330be5540f9898"
   }
  }
 },
 "nbformat": 4,
 "nbformat_minor": 2
}
