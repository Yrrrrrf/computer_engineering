{
 "cells": [
  {
   "attachments": {},
   "cell_type": "markdown",
   "metadata": {},
   "source": [
    "# Structured Types (compound types)\n",
    "- Structured types are types that can contain other types. They are also called compound types."
   ]
  },
  {
   "attachments": {},
   "cell_type": "markdown",
   "metadata": {},
   "source": [
    "### [Lists](https://docs.python.org/3/tutorial/datastructures.html#more-on-lists) \n",
    "- Lists are ordered sequences of objects. They are mutable, meaning the elements inside a list can be changed!\n",
    "- Lists are constructed with brackets [] and commas separating every element in the list."
   ]
  },
  {
   "cell_type": "code",
   "execution_count": 1,
   "metadata": {},
   "outputs": [
    {
     "name": "stdout",
     "output_type": "stream",
     "text": [
      "strawberry\n",
      "watermelon\n",
      "orange\n"
     ]
    }
   ],
   "source": [
    "fruits = [\"apple\", \"orange\", \"strawberry\", \"pineapple\"]\n",
    "fruits.append(\"new_fruit\")  # Add a new item at the end of the list\n",
    "fruits.count(\"apple\")  # Count how many times does this item repeats in the list\n",
    "fruits.pop()  # Remove the last item of the list\n",
    "fruits.insert(2, \"watermelon\")  # (pos, new_item)\n",
    "fruits.reverse()  # Reverse all elements of the list\n",
    "for i in fruits[1:4]:\n",
    "   print(i)\n",
    "fruits.clear()  # Clear the list"
   ]
  },
  {
   "attachments": {},
   "cell_type": "markdown",
   "metadata": {},
   "source": [
    "### [Tuple](https://docs.python.org/3/tutorial/datastructures.html#tuples-and-sequences)\n",
    "- Tuples are very similar to lists, however, unlike lists they are **immutable** meaning they **can not be changed**.\n",
    "- Tuples are constructed with parenthesis () and commas separating every element in the list.\n",
    "\n",
    "Also lists can have multidiemensional elements, like a matrix."
   ]
  },
  {
   "cell_type": "code",
   "execution_count": 2,
   "metadata": {},
   "outputs": [
    {
     "name": "stdout",
     "output_type": "stream",
     "text": [
      "(1, 2, 3, 4, 5, 6, 7, 8, 9)\n",
      "9\n",
      "9\n",
      "1\n",
      "45\n",
      "1\n",
      "9\n"
     ]
    }
   ],
   "source": [
    "my_tuple = tuple(i for i in range(1, 10))\n",
    "print(my_tuple)\n",
    "# Usings some of the most useful built-in functions\n",
    "print(len(my_tuple))  # Get the length of the tuple\n",
    "print(max(my_tuple))  # Get the maximum value in the tuple\n",
    "print(min(my_tuple))  # Get the minimum value in the tuple\n",
    "print(sum(my_tuple))  # Get the sum of all the values in the tuple\n",
    "print(my_tuple[0])  # Get the first value in the tuple\n",
    "print(my_tuple[-1])  # Get the last value in the tuple"
   ]
  },
  {
   "attachments": {},
   "cell_type": "markdown",
   "metadata": {},
   "source": [
    "### [Set](https://docs.python.org/3/tutorial/datastructures.html#sets)\n",
    "- Sets are unordered collections of unique elements.\n",
    "- We can construct them by using the set() function."
   ]
  },
  {
   "cell_type": "code",
   "execution_count": 3,
   "metadata": {},
   "outputs": [
    {
     "name": "stdout",
     "output_type": "stream",
     "text": [
      "Colors\n",
      "{'yellow', 'white', 'blue', 'orange', 'red', 'purple'}\n",
      "{'grey', 'white', 'blue', 'red', 'yellow', 'pink', 'dark blue', 'purple'}\n",
      "{1, 2, 3, 4, 5, 6, 7, 8, 9, 10}\n",
      "Even prime numbers {2}\n",
      "Odd prime numbers {8, 10, 4, 6}\n"
     ]
    }
   ],
   "source": [
    "colors = {\"red\", \"orange\", \"blue\", \"yellow\", \"purple\", \"white\"}\n",
    "print(\"Colors\\n\" + str(colors))  # The order doesn't matter\n",
    "colors.add(\"pink\")\n",
    "colors.remove(\"orange\")\n",
    "colors.update({\"grey\", \"dark blue\"})  # Add a completely new set to the original\n",
    "print(colors)\n",
    "# Set Venn diagram operations\n",
    "even_numbers = {2, 4, 6, 8, 10}\n",
    "odd_numbers = {1, 3, 5, 7, 9}\n",
    "prime_numbers = {1, 2, 3, 5, 7, 9}\n",
    "print(even_numbers.union(odd_numbers))\n",
    "print(\"Even prime numbers \" + str(even_numbers.intersection(prime_numbers)))\n",
    "print(\"Odd prime numbers \" + str(even_numbers.difference(prime_numbers)))"
   ]
  },
  {
   "attachments": {},
   "cell_type": "markdown",
   "metadata": {},
   "source": [
    "### [dictionary](https://docs.python.org/3/tutorial/datastructures.html#dictionaries)\n",
    "- Dictionaries are unordered key:value pairs.\n",
    "- Dictionaries are constructed with curly brackets {} and colons between keys and values, and commas between each key:value pair."
   ]
  },
  {
   "cell_type": "code",
   "execution_count": 4,
   "metadata": {},
   "outputs": [
    {
     "name": "stdout",
     "output_type": "stream",
     "text": [
      "{'alpha': 1, 'beta': 2, 'gamma': 3, 'delta': 4, 'epsilon': 5}\n"
     ]
    }
   ],
   "source": [
    "# Example (create a dictionary from two lists)\n",
    "greek_letters = ['alpha', 'beta', 'gamma', 'delta', 'epsilon']\n",
    "values = list(range(1, 10))\n",
    "greek_letters_dict = dict(zip(greek_letters, values))\n",
    "print(greek_letters_dict)"
   ]
  },
  {
   "cell_type": "code",
   "execution_count": 5,
   "metadata": {},
   "outputs": [
    {
     "name": "stdout",
     "output_type": "stream",
     "text": [
      "23\n",
      "None\n",
      "False\n",
      "dict_keys(['Fer', 'Sofi', 'Alec', 'Yev', 'Lizzy'])\n",
      "dict_values([23, 20, 6, 5, 4])\n",
      "dict_items([('Fer', 23), ('Sofi', 20), ('Alec', 6), ('Yev', 5), ('Lizzy', 4)])\n",
      "\n",
      "Fer: 23\n",
      "Sofi: 20\n",
      "Alec: 6\n",
      "Yev: 5\n",
      "Lizzy: 4\n",
      "3\n",
      "6\n",
      "None\n",
      "Fer: 23\n",
      "Sofi: 20\n",
      "Alec: 6\n",
      "users: ['Fer', 23, 'Sofi', 20, {'Alec', 6}]\n",
      "colors: ['red', 'green', 'blue']\n"
     ]
    }
   ],
   "source": [
    "\n",
    "users = {'Fer': 23, 'Sofi': 20, 'Alec': 6, 'Yev': 5, 'Lizzy': 4}\n",
    "print(users['Fer'])  # Access the value associated to that key\n",
    "# print(users.get('Fer'))  # Access the value associated to that key\n",
    "print(users.get('Lleis'))  #  If there's not in the dictionary returns None == null\n",
    "print('Lleis' in users)  #  Check if a key is in the dictionary (returns True or False)\n",
    "print(users.keys())\n",
    "print(users.values())\n",
    "print(users.items())\n",
    "print()\n",
    "\n",
    "for key, value in users.items():\n",
    "    print(key + \": \" + str(value))\n",
    "\n",
    "users.update({\"Lleis\": 3})  # Add a new value:key to the dictionary\n",
    "print(users['Lleis'])\n",
    "users.update({'Lleis': 6})  # Edit a value from a certain key\n",
    "print(users['Lleis'])\n",
    "users.pop('Fer')  # Removes a specific value from the dictionary\n",
    "print(users.get('Fer'))\n",
    "\n",
    "\n",
    "dic_list = [  # LIST of dictionaries\n",
    "    {'name': 'Fer', 'age': 23},\n",
    "    {'name': 'Sofi', 'age': 20},\n",
    "    {'name': 'Alec', 'age': 6},\n",
    "]\n",
    "for value in dic_list:\n",
    "    print(value['name'] + \": \" + str(value['age']))\n",
    "\n",
    "\n",
    "lists_dict = {  # DICTIONARIES list\n",
    "    'users': [\n",
    "        'Fer', 23,\n",
    "        'Sofi', 20,\n",
    "        {'Alec', 6},],\n",
    "    'colors': ['red', 'green', 'blue']  # List\n",
    "}\n",
    "\n",
    "for key, value in lists_dict.items():\n",
    "    print(key + \": \" + str(value))\n",
    "\n",
    "\n",
    "dic = {2: 'a', \"b\": 3}\n"
   ]
  },
  {
   "attachments": {},
   "cell_type": "markdown",
   "metadata": {},
   "source": [
    "##### [Slicing](https://docs.python.org/3/tutorial/introduction.html#strings)\n",
    "- Slicing is a way to access parts of sequences such as strings, tuples, and lists. Is done by using the colon (:) operator.\n",
    "- The first number in the slicing is the starting index (inclusive), and the second number is the ending index (exclusive).\n",
    "- If the first number is not specified, it is assumed to be the beginning of the sequence. If the second number is not specified, it is assumed to be the end of the sequence."
   ]
  },
  {
   "cell_type": "code",
   "execution_count": 6,
   "metadata": {},
   "outputs": [
    {
     "name": "stdout",
     "output_type": "stream",
     "text": [
      "\n",
      "Fernando\n",
      "Even numbers = 2468\n",
      "a b c d e f g h i j k l m n o p q r s t u v w x y z\n",
      "z y x w v u t s r q p o n m l k j i h g f e d c b a\n",
      "github\n",
      "Hi bro, I'm Yrrrrrf\n"
     ]
    }
   ],
   "source": [
    "# Create a substring by extracting elements from another string\n",
    "print(\"\\n\" + \"Fernando Reza Campos\"[0:8:1])  # [start:end:step] \"End\" isn't include in the slice\n",
    "print(\"Even numbers = \" + \"123456789\"[1:9:2])\n",
    "alphabet = \"a b c d e f g h i j k l m n o p q r s t u v w x y z\"\n",
    "print(alphabet)\n",
    "print(alphabet[::-1])  # Reverses the string\n",
    "print(\"http://github.com\"[slice(7, -4, 1)])  # Negatives will count backwards\n",
    "text = 'IGNORE_THISfrrrrrY m\\'I ,orb iH IGNORE_THIS'\n",
    "print(text[11:-12][::-1])  # [start:end:step]"
   ]
  },
  {
   "attachments": {},
   "cell_type": "markdown",
   "metadata": {},
   "source": [
    "##### [Indexing](https://docs.python.org/3/tutorial/introduction.html#strings)\n",
    "Is the process of accessing a single element in a sequence. It is done by using the bracket [] notation after the sequence, and placing the index number inside the brackets."
   ]
  },
  {
   "cell_type": "code",
   "execution_count": 7,
   "metadata": {},
   "outputs": [
    {
     "name": "stdout",
     "output_type": "stream",
     "text": [
      "[1, 2, 3, 4, 5, 6, 7, 8, 9, 10]\n",
      "Maddona\n"
     ]
    }
   ],
   "source": [
    "# INDEXING\n",
    "n_list = list(range(1, 11))\n",
    "print(n_list)\n",
    "index_list = [0, 'cat', 'me', True, {4: 5, 6: 7, 'Dog': 'Maddona'}, 9]\n",
    "print(index_list[4]['Dog'])"
   ]
  }
 ],
 "metadata": {
  "kernelspec": {
   "display_name": ".venv",
   "language": "python",
   "name": "python3"
  },
  "language_info": {
   "codemirror_mode": {
    "name": "ipython",
    "version": 3
   },
   "file_extension": ".py",
   "mimetype": "text/x-python",
   "name": "python",
   "nbconvert_exporter": "python",
   "pygments_lexer": "ipython3",
   "version": "3.11.1"
  },
  "orig_nbformat": 4,
  "vscode": {
   "interpreter": {
    "hash": "90e9cecf0ab6516382938111031b3a23db288579fe2d09bae4330be5540f9898"
   }
  }
 },
 "nbformat": 4,
 "nbformat_minor": 2
}
