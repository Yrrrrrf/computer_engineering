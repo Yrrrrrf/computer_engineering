{
 "cells": [
  {
   "attachments": {},
   "cell_type": "markdown",
   "metadata": {},
   "source": [
    "# Algorithms\n",
    "An algorithm is a set of instructions that can be executed by a computer. Algorithms are used to solve problems. In this notebook, we will look at some of the most common algorithms used in data science."
   ]
  },
  {
   "attachments": {},
   "cell_type": "markdown",
   "metadata": {},
   "source": [
    "### Complexity\n",
    "Is a measure of how much time an algorithm takes to run.The time it takes to run an algorithm is measured in terms of the number of operations it takes to run.\n",
    "\n",
    "##### Big O Notation\n",
    "The Big O Notation is used to **describe the complexity of an algorithm**. It is used to **describe the worst case** scenario. The Big O Notation is represented by the letter O and is followed by a mathematical expression. The mathematical expression is used to describe the complexity of the algorithm. The mathematical expression is usually represented by the letter n. The letter n represents the number of operations that the algorithm takes to run. The mathematical expression is usually represented by the letter n. The letter n represents the number of operations that the algorithm takes to run.\n",
    "\n",
    "- **O(1)** - Constant\n",
    "- **O(n)** - Linear\n",
    "- **O(log n)** - Logarithmic\n",
    "- **O(n log n)** - Log Linear\n",
    "- **O(n^2)** - Quadratic (Polynomial)\n",
    "- **O(2^n)** - Exponential (Slowest)\n",
    "- **O(n!)** - Factorial (even worst than exponential)"
   ]
  },
  {
   "cell_type": "code",
   "execution_count": 1,
   "metadata": {},
   "outputs": [],
   "source": [
    "def function(x):  # O(x)\n",
    "    return x**2\n",
    "\n",
    "def function2(x):  #\n",
    "    for _ in range(1000):  # 1000\n",
    "        x += 1\n",
    "    for _ in range(x):  # x\n",
    "        x += 1\n",
    "    for i in range(x):\n",
    "        for j in range(x):  # 2*(x^2)\n",
    "            x += 1  # x^2\n",
    "            x -= 1  # x^2\n",
    "    return x  # So, this function have a complexity of O(1000 + x + x^2)\n",
    "    # So, this function have a complexity of O(x^2), this is because when we have an asintotic function"
   ]
  }
 ],
 "metadata": {
  "kernelspec": {
   "display_name": "Python 3",
   "language": "python",
   "name": "python3"
  },
  "language_info": {
   "codemirror_mode": {
    "name": "ipython",
    "version": 3
   },
   "file_extension": ".py",
   "mimetype": "text/x-python",
   "name": "python",
   "nbconvert_exporter": "python",
   "pygments_lexer": "ipython3",
   "version": "3.11.1 (tags/v3.11.1:a7a450f, Dec  6 2022, 19:58:39) [MSC v.1934 64 bit (AMD64)]"
  },
  "orig_nbformat": 4,
  "vscode": {
   "interpreter": {
    "hash": "1bbba381326e6b0f8b33bafca923bd106b97453bcb5e84edec24c0a8cb9538a0"
   }
  }
 },
 "nbformat": 4,
 "nbformat_minor": 2
}
