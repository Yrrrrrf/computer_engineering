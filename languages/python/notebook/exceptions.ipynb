{
 "cells": [
  {
   "attachments": {},
   "cell_type": "markdown",
   "metadata": {},
   "source": [
    "# [Exceptions](http://docs.python.org/3/tutorial/errors.html)\n",
    "Python allow you to handle errors in a very flexible way. This is very useful when you want to write robust code that can handle unexpected errors. In this notebook, we will see how to handle errors in Python."
   ]
  },
  {
   "attachments": {},
   "cell_type": "markdown",
   "metadata": {},
   "source": [
    "In exception handling, you can use the `try` statement to test a block of code for errors. The `except` statement allows you to handle the error. The `finally` statement lets you execute code, regardless of the result of the try- and except blocks."
   ]
  },
  {
   "cell_type": "code",
   "execution_count": 6,
   "metadata": {},
   "outputs": [],
   "source": [
    "def divide_numbers():\n",
    "    try:\n",
    "        # numerator = int(input(\"Enter a number to divide: \"))\n",
    "        # denominator = int(input(\"Enter a number to divide by: \"))\n",
    "        numerator = 4\n",
    "        denominator = -13\n",
    "        result = numerator / denominator\n",
    "    except ZeroDivisionError as e:\n",
    "        print(\"Divide by 0 is indeterminate\\n\" + str(e))\n",
    "    except ValueError as e:\n",
    "        print(\"Can use only numbers\\n\" + str(e))\n",
    "    except BaseException as e:\n",
    "        print(\"SOMETHING WENT WRONG\\n\" + str(e))\n",
    "    else:\n",
    "        print(f'{numerator}/{denominator} result = {result:.2f}')\n",
    "    finally:  # This code bloc will be executed every time, no matter what\n",
    "        print(\"\\nHi bro\")"
   ]
  },
  {
   "attachments": {},
   "cell_type": "markdown",
   "metadata": {},
   "source": [
    "Raise an exception with the `raise` statement. You can define what kind of error to raise, and the text to print to the user.\n",
    "When a function had a `return` statement, the `finally` block will be executed before actually returning.\n"
   ]
  },
  {
   "cell_type": "code",
   "execution_count": 1,
   "metadata": {},
   "outputs": [
    {
     "name": "stdout",
     "output_type": "stream",
     "text": [
      "Note: Converted to int\n"
     ]
    },
    {
     "data": {
      "text/plain": [
       "0"
      ]
     },
     "execution_count": 1,
     "metadata": {},
     "output_type": "execute_result"
    }
   ],
   "source": [
    "def chech_data(data):\n",
    "    # isinstance() function returns True if the specified object is of the specified type, otherwise False\n",
    "    if not isinstance(data, (int, float)):\n",
    "        # isnumeric() method returns True if all characters in the string are numeric\n",
    "        if isinstance(data, str) and data.isnumeric():\n",
    "            print('Note: Converted to int')\n",
    "            return int(data)\n",
    "        else:\n",
    "            raise Exception(\"Must be a number\")  # Raise an exception\n",
    "            # raise ValueError(\"Data can't be 0\")  # Raise an exception\n",
    "    else: \n",
    "        return data\n",
    "\n",
    "chech_data(4)\n",
    "chech_data('0')"
   ]
  },
  {
   "attachments": {},
   "cell_type": "markdown",
   "metadata": {},
   "source": [
    "### Assertions\n",
    "An assertion is a sanity-check that you can turn on or turn off when you are done with your testing of the program. An `assert` statement consists of the following:\n",
    "* The `assert` keyword\n",
    "* A condition (that is, an expression that evaluates to `True` or `False`)\n",
    "* A comma\n",
    "* A string to display when the condition is `False`"
   ]
  },
  {
   "cell_type": "code",
   "execution_count": 13,
   "metadata": {},
   "outputs": [
    {
     "ename": "AssertionError",
     "evalue": "1 is not equal to 2",
     "output_type": "error",
     "traceback": [
      "\u001b[1;31m---------------------------------------------------------------------------\u001b[0m",
      "\u001b[1;31mAssertionError\u001b[0m                            Traceback (most recent call last)",
      "Cell \u001b[1;32mIn[13], line 3\u001b[0m\n\u001b[0;32m      1\u001b[0m \u001b[39m# Asser examples\u001b[39;00m\n\u001b[0;32m      2\u001b[0m \u001b[39massert\u001b[39;00m \u001b[39m1\u001b[39m \u001b[39m==\u001b[39m \u001b[39m1\u001b[39m, \u001b[39m\"\u001b[39m\u001b[39m1 is not equal to 1\u001b[39m\u001b[39m\"\u001b[39m\n\u001b[1;32m----> 3\u001b[0m \u001b[39massert\u001b[39;00m \u001b[39m1\u001b[39m \u001b[39m==\u001b[39m \u001b[39m2\u001b[39m, \u001b[39m\"\u001b[39m\u001b[39m1 is not equal to 2\u001b[39m\u001b[39m\"\u001b[39m\n",
      "\u001b[1;31mAssertionError\u001b[0m: 1 is not equal to 2"
     ]
    }
   ],
   "source": [
    "# Asser examples\n",
    "assert 1 == 1, \"1 is not equal to 1\"\n",
    "assert 1 == 2, \"1 is not equal to 2\""
   ]
  }
 ],
 "metadata": {
  "kernelspec": {
   "display_name": "Python 3",
   "language": "python",
   "name": "python3"
  },
  "language_info": {
   "codemirror_mode": {
    "name": "ipython",
    "version": 3
   },
   "file_extension": ".py",
   "mimetype": "text/x-python",
   "name": "python",
   "nbconvert_exporter": "python",
   "pygments_lexer": "ipython3",
   "version": "3.11.1 (tags/v3.11.1:a7a450f, Dec  6 2022, 19:58:39) [MSC v.1934 64 bit (AMD64)]"
  },
  "orig_nbformat": 4,
  "vscode": {
   "interpreter": {
    "hash": "1bbba381326e6b0f8b33bafca923bd106b97453bcb5e84edec24c0a8cb9538a0"
   }
  }
 },
 "nbformat": 4,
 "nbformat_minor": 2
}
