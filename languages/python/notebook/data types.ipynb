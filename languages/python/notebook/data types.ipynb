{
 "cells": [
  {
   "attachments": {},
   "cell_type": "markdown",
   "metadata": {},
   "source": [
    "# Data Types (Primitive)\n",
    "Primitive data types are the most basic data types in Python.  They are the building blocks of more complex data types. There are 5 primitive data types in Python: `int`, `float`, `bool`, `str`, and `NoneType`.\n",
    "These are the basic data types in Python.  You can use the `type()` function to find out what type a variable is."
   ]
  },
  {
   "cell_type": "code",
   "execution_count": null,
   "metadata": {},
   "outputs": [
    {
     "name": "stdout",
     "output_type": "stream",
     "text": [
      "<class 'int'>\n",
      "<class 'float'>\n",
      "<class 'float'>\n",
      "<class 'str'>\n",
      "<class 'bool'>\n",
      "<class 'NoneType'>\n",
      "<class 'list'>\n",
      "<class 'tuple'>\n",
      "<class 'set'>\n",
      "<class 'dict'>\n"
     ]
    }
   ],
   "source": [
    "# some examples of data types\n",
    "print(type(1))  # <class 'int'>\n",
    "print(type(1.0))  # <class 'float'>\n",
    "print(type(1 + 1.0))  # <class 'float'>\n",
    "print(type('1'))  # <class 'str'>\n",
    "print(type(True))  # <class 'bool'>\n",
    "print(type(None))  # <class 'NoneType'>\n",
    "# Structured data types (contains other values)\n",
    "print(type([1, 2, 3]))  # <class 'list'>\n",
    "print(type((1, 2, 3)))  # <class 'tuple'>\n",
    "print(type({1, 2, 3}))  # <class 'set'>\n",
    "print(type({'a': 1, 'b': 2}))  # <class 'dict'>"
   ]
  },
  {
   "attachments": {},
   "cell_type": "markdown",
   "metadata": {},
   "source": [
    "### String (str)\n",
    "A string is a sequence of characters.  You can use single or double quotes to define a string."
   ]
  },
  {
   "cell_type": "code",
   "execution_count": 1,
   "metadata": {},
   "outputs": [
    {
     "name": "stdout",
     "output_type": "stream",
     "text": [
      "Some text12\n",
      "1\n",
      "Test example\n",
      "TEST EXAMPLE\n",
      "test example\n",
      "False\n",
      "False\n",
      "3\n",
      "tist ixampli\n",
      "test exampletest exampletest example\n"
     ]
    }
   ],
   "source": [
    "text = 'test example'\n",
    "\n",
    "print(\"Some text\", end=\"\")  # Specifies that this print will end with a \"\" instead of a \"\\n\"\n",
    "\n",
    "print(len(text))  # count the characters in the text\n",
    "print(text.find(\"e\"))  # Found the position of a char in the string\n",
    "print(text.capitalize())  # Makes the first letter of the string to a capital letter\n",
    "print(text.upper())  # Capitalize all the letters of the string\n",
    "print(text.lower())  # Makes all the letters of the string into lowercase\n",
    "print(text.isdecimal())  # Returns a boolean that specifies if the text is only from numbers\n",
    "print(text.isalpha())  # Returns a boolean that specifies if the string contains only letters\n",
    "# _ blank space doesn't count as a letter\n",
    "print(text.count(\"e\"))  # Count the number of characters of one kind does the string have\n",
    "print(text.replace(\"e\", \"i\"))  # Replace all of a char type to another\n",
    "print(text * 3)  # Print the str as many times as specified with the integer\n"
   ]
  },
  {
   "attachments": {},
   "cell_type": "markdown",
   "metadata": {},
   "source": [
    "### Integer (int)\n",
    "An integer is a whole number.  You can use the `+`, `-`, `*`, and `/` operators on integers.\n",
    "\n",
    "The division operator `/` always returns a floating point number. So if you want to perform integer division, you have to use the `//` operator."
   ]
  },
  {
   "cell_type": "code",
   "execution_count": null,
   "metadata": {},
   "outputs": [
    {
     "name": "stdout",
     "output_type": "stream",
     "text": [
      "1000\n",
      "1000.000000\n",
      "1,000\n"
     ]
    }
   ],
   "source": [
    "# Format integer examples using f-strings\n",
    "print(f'{1000:d}')  # As integer\n",
    "print(f'{1000:f}')  # As float \n",
    "print(f'{1000:,}')  # As float with comma separator"
   ]
  },
  {
   "attachments": {},
   "cell_type": "markdown",
   "metadata": {},
   "source": [
    "### Float (float)\n",
    "A float is a number with a decimal point."
   ]
  },
  {
   "cell_type": "code",
   "execution_count": null,
   "metadata": {},
   "outputs": [
    {
     "name": "stdout",
     "output_type": "stream",
     "text": [
      "1000000.123457\n",
      "1000000.12\n",
      "1,000,000.12\n"
     ]
    }
   ],
   "source": [
    "# Format float examples usinf f-strings\n",
    "print(f'{1000000.123456789:f}')  # As float\n",
    "print(f'{1000000.123456789:.2f}')  # As float with 2 decimal places\n",
    "print(f'{1000000.123456789:,.2f}')  # As float with 2 decimal places and comma separator"
   ]
  },
  {
   "attachments": {},
   "cell_type": "markdown",
   "metadata": {},
   "source": [
    "### Boolean (bool)\n",
    "A boolean is either `True` or `False`."
   ]
  },
  {
   "cell_type": "code",
   "execution_count": null,
   "metadata": {},
   "outputs": [
    {
     "name": "stdout",
     "output_type": "stream",
     "text": [
      "1\n",
      "1.000000\n"
     ]
    }
   ],
   "source": [
    "# Boolean examples\n",
    "print(f'{True:d}')  # 1\n",
    "print(f'{True:f}')  # 0"
   ]
  }
 ],
 "metadata": {
  "kernelspec": {
   "display_name": "Python 3",
   "language": "python",
   "name": "python3"
  },
  "language_info": {
   "codemirror_mode": {
    "name": "ipython",
    "version": 3
   },
   "file_extension": ".py",
   "mimetype": "text/x-python",
   "name": "python",
   "nbconvert_exporter": "python",
   "pygments_lexer": "ipython3",
   "version": "3.11.1 (tags/v3.11.1:a7a450f, Dec  6 2022, 19:58:39) [MSC v.1934 64 bit (AMD64)]"
  },
  "orig_nbformat": 4,
  "vscode": {
   "interpreter": {
    "hash": "1bbba381326e6b0f8b33bafca923bd106b97453bcb5e84edec24c0a8cb9538a0"
   }
  }
 },
 "nbformat": 4,
 "nbformat_minor": 2
}
