{
 "cells": [
  {
   "attachments": {},
   "cell_type": "markdown",
   "metadata": {},
   "source": [
    "# [Search Algorithms](./algorithms.md#search-algorithms)"
   ]
  },
  {
   "attachments": {},
   "cell_type": "markdown",
   "metadata": {},
   "source": [
    "##### Linear Search"
   ]
  },
  {
   "cell_type": "code",
   "execution_count": 1,
   "metadata": {},
   "outputs": [],
   "source": [
    "def lineal_search(arr, target) -> bool:\n",
    "    '''\n",
    "    Lineal Search\n",
    "    Time Complexity: O(n)\n",
    "    Space Complexity: O(1)\n",
    "    '''\n",
    "    for i in range(len(arr)):  # iterate over the array\n",
    "        if arr[i] == target:  # if the element is in the array\n",
    "            print(f'The element {target} is in the position {i}')\n",
    "            return True\n",
    "    return False"
   ]
  },
  {
   "attachments": {},
   "cell_type": "markdown",
   "metadata": {},
   "source": [
    "##### Binary Search\n",
    "\n",
    "This method is really similar to the [fixed point algorithm](/math/numerical_analysis/numerical%20analysis.md#fixed-point-algorithm), but it is more efficient. The idea is to divide the search space in half at each iteration."
   ]
  },
  {
   "cell_type": "code",
   "execution_count": null,
   "metadata": {},
   "outputs": [],
   "source": [
    "# Divide and Conquer Algorithms\n",
    "def binary_search(arr, target) -> bool:\n",
    "    '''\n",
    "    Binary Search\n",
    "    To execute this algorithm the array must be sorted. So we need to sort the array first.\n",
    "    Time Complexity: O(log n)\n",
    "    Space Complexity: O(n)\n",
    "    '''\n",
    "    left = 0  # left index\n",
    "    right = len(arr) - 1  # right index\n",
    "    if left > right:  return False  # if the left index is greater than the right index, the element is not in the array\n",
    "\n",
    "    while left <= right:  # while the left index is less or equal to the right index\n",
    "        # print(f'[{left}, {right}]')  # print the current range\n",
    "        mid = (left + right) // 2  # middle index\n",
    "        if arr[mid] == target:  # if the middle element is the target\n",
    "            print(f'The element {target} is in the position {mid}')\n",
    "            return True\n",
    "        elif arr[mid] < target:  # if the middle element is less than the target\n",
    "            left = mid + 1  # move the left index to the right\n",
    "        else:\n",
    "            right = mid - 1  # move the right index to the left\n",
    "    return False  # if the element is not in the array"
   ]
  }
 ],
 "metadata": {
  "kernelspec": {
   "display_name": ".venv",
   "language": "python",
   "name": "python3"
  },
  "language_info": {
   "codemirror_mode": {
    "name": "ipython",
    "version": 3
   },
   "file_extension": ".py",
   "mimetype": "text/x-python",
   "name": "python",
   "nbconvert_exporter": "python",
   "pygments_lexer": "ipython3",
   "version": "3.11.1"
  },
  "orig_nbformat": 4,
  "vscode": {
   "interpreter": {
    "hash": "90e9cecf0ab6516382938111031b3a23db288579fe2d09bae4330be5540f9898"
   }
  }
 },
 "nbformat": 4,
 "nbformat_minor": 2
}
