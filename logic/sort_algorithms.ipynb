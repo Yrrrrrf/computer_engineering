{
 "cells": [
  {
   "attachments": {},
   "cell_type": "markdown",
   "metadata": {},
   "source": [
    "# [Sort Algorithms](/logic/algorithms.md#sort-algorithms)\n",
    "\n",
    "Sorting is a basic building block that many other [algorithms](/logic/algorithms.md) are built upon. It’s related to several exciting ideas that you’ll see throughout your [programming career](/Computer%20Engineering.md)."
   ]
  },
  {
   "attachments": {},
   "cell_type": "markdown",
   "metadata": {},
   "source": [
    "##### [Bubble Sort](https://www.youtube.com/watch?v=xli_FI7CuzA)"
   ]
  },
  {
   "cell_type": "code",
   "execution_count": null,
   "metadata": {},
   "outputs": [],
   "source": [
    "def bubble_sort(arr):\n",
    "    '''\n",
    "    Bubble Sort\n",
    "    Time Complexity: O(n^2)\n",
    "    Space Complexity: O(1)\n",
    "    '''\n",
    "    for _ in range(len(arr)):  # compare n times\n",
    "        for j in range(len(arr) - 1):  # iterate over the array\n",
    "            # if the element is greater than the next element, swap them\n",
    "            if arr[j] > arr[j + 1]: arr[j], arr[j + 1] = arr[j + 1], arr[j]\n",
    "    return arr"
   ]
  },
  {
   "attachments": {},
   "cell_type": "markdown",
   "metadata": {},
   "source": [
    "##### [Selection Sort](https://www.youtube.com/watch?v=g-PGLbMth_g)"
   ]
  },
  {
   "cell_type": "code",
   "execution_count": null,
   "metadata": {},
   "outputs": [],
   "source": [
    "def selection_sort(arr):\n",
    "    '''\n",
    "    Selection Sort\n",
    "    Time Complexity: O(n^2)\n",
    "    Space Complexity: O(1)\n",
    "    '''\n",
    "    for i in range(len(arr)):  # iterate over the array\n",
    "        min_index = i  # set the minimum index to the current index\n",
    "        for j in range(i + 1, len(arr)):  # [lowest_sorted_index, arr_length]\n",
    "            # if the element is smaller than the current minimum element, set the minimum index to the current index\n",
    "            if arr[j] < arr[min_index]: min_index = j\n",
    "        # swap the minimum element with the current element\n",
    "        arr[i], arr[min_index] = arr[min_index], arr[i]\n",
    "    return arr"
   ]
  },
  {
   "attachments": {},
   "cell_type": "markdown",
   "metadata": {},
   "source": [
    "##### [Insertion Sort](https://www.youtube.com/watch?v=JU767SDMDvA&ab_channel=MichaelSambol)"
   ]
  },
  {
   "cell_type": "code",
   "execution_count": null,
   "metadata": {},
   "outputs": [],
   "source": [
    "def insertion_sort(arr):\n",
    "    '''\n",
    "    Insertion Sort\n",
    "    Time Complexity: O(n^2)\n",
    "    Space Complexity: O(1)\n",
    "    '''\n",
    "    for i in range(1, len(arr)):  # iterate over the array\n",
    "        current = arr[i]  # set the current element to the current index\n",
    "        j = i - 1  # set the previous index\n",
    "        while j >= 0 and arr[j] > current:  # while the previous index is greater than or equal to 0 and the previous element is greater than the current element\n",
    "            arr[j + 1] = arr[j]  # set the next element to the previous element\n",
    "            j -= 1  # decrement the previous index\n",
    "        arr[j + 1] = current  # set the next element to the current element\n",
    "    return arr"
   ]
  },
  {
   "attachments": {},
   "cell_type": "markdown",
   "metadata": {},
   "source": [
    "### Divide and Conquer [Algorithms](./algorithms.md)"
   ]
  },
  {
   "attachments": {},
   "cell_type": "markdown",
   "metadata": {},
   "source": [
    "##### [Merge Sort](https://www.youtube.com/watch?v=4VqmGXwpLqc)"
   ]
  },
  {
   "cell_type": "code",
   "execution_count": null,
   "metadata": {},
   "outputs": [],
   "source": [
    "# @performance\n",
    "def merge_sort(arr):\n",
    "    '''\n",
    "    Merge Sort\n",
    "    Time Complexity: O(n log n)\n",
    "    Space Complexity: O(n)\n",
    "    '''\n",
    "    if len(arr) > 1:  # base case\n",
    "        mid = len(arr) // 2  # find the middle of the array\n",
    "        left = arr[:mid]  # divide the array elements into 2 halves\n",
    "        right = arr[mid:]  # divide the array elements into 2 halves\n",
    "        # sort the 2 halves\n",
    "        merge_sort(left)\n",
    "        merge_sort(right)\n",
    "\n",
    "        i = j = k = 0  # iterators for the left, right and main arrays\n",
    "        while i < len(left) and j < len(right):  # while there are still elements in the left and right arrays\n",
    "            if left[i] < right[j]:  # if the left element is smaller than the right element\n",
    "                arr[k] = left[i]  # add the left element to the main array\n",
    "                i += 1  # increment the left iterator\n",
    "            else:  # if the right element is smaller than the left element\n",
    "                arr[k] = right[j]  # add the right element to the main array\n",
    "                j += 1  # increment the right iterator\n",
    "            k += 1  # increment the main array iterator\n",
    "\n",
    "        while i < len(left):  # if there are still elements in the left array\n",
    "            arr[k] = left[i]  # add the left element to the main array\n",
    "            i += 1  # increment the left iterator\n",
    "            k += 1  # increment the main array iterator\n",
    "\n",
    "        while j < len(right):  # if there are still elements in the right array\n",
    "            arr[k] = right[j]  # add the right element to the main array\n",
    "            j += 1  # increment the right iterator\n",
    "            k += 1  # increment the main array iterator\n",
    "\n",
    "    return arr  # return the sorted array\n"
   ]
  },
  {
   "attachments": {},
   "cell_type": "markdown",
   "metadata": {},
   "source": [
    "##### [Quick Sort](https://www.youtube.com/watch?v=Hoixgm4-P4M)"
   ]
  },
  {
   "cell_type": "code",
   "execution_count": null,
   "metadata": {},
   "outputs": [],
   "source": [
    "def quick_sort(arr):\n",
    "    '''\n",
    "    Quick Sort\n",
    "    Time Complexity: O(n log n)\n",
    "    Space Complexity: O(log n)\n",
    "    '''\n",
    "    if len(arr) > 1:  # base case\n",
    "        pivot = arr[0]  # set the pivot to the first element\n",
    "        left = []  # list for the elements smaller than the pivot\n",
    "        right = []  # list for the elements greater than the pivot\n",
    "        for i in range(1, len(arr)):  # iterate over the array\n",
    "            if arr[i] < pivot:  # if the element is smaller than the pivot\n",
    "                left.append(arr[i])  # add the element to the left list\n",
    "            else:  # if the element is greater than the pivot\n",
    "                right.append(arr[i])  # add the element to the right list\n",
    "        # sort the left and right lists\n",
    "        left = quick_sort(left)\n",
    "        right = quick_sort(right)\n",
    "        # combine the sorted left, pivot and right lists\n",
    "        arr = left + [pivot] + right\n",
    "    return arr"
   ]
  },
  {
   "attachments": {},
   "cell_type": "markdown",
   "metadata": {},
   "source": [
    "##### [Shell Sort](https://www.youtube.com/watch?v=VxNr9Vudp4Y)"
   ]
  },
  {
   "cell_type": "code",
   "execution_count": null,
   "metadata": {},
   "outputs": [],
   "source": [
    "def shell_sort(arr):\n",
    "    '''\n",
    "    Shell Sort\n",
    "    Time Complexity: O(n log n)\n",
    "    Space Complexity: O(1)\n",
    "    '''\n",
    "    gap = len(arr) // 2  # find the gap\n",
    "    while gap > 0:  # while the gap is greater than 0\n",
    "        for i in range(gap, len(arr)):  # iterate over the array\n",
    "            current = arr[i]  # set the current element to the current index\n",
    "            j = i  # set the previous index\n",
    "            while j >= gap and arr[j - gap] > current:  # while the previous index is greater than or equal to the gap and the previous element is greater than the current element\n",
    "                arr[j] = arr[j - gap]  # set the next element to the previous element\n",
    "                j -= gap  # decrement the previous index\n",
    "            arr[j] = current  # set the next element to the current element\n",
    "        gap //= 2  # decrement the gap\n",
    "    return arr"
   ]
  },
  {
   "cell_type": "code",
   "execution_count": 4,
   "metadata": {},
   "outputs": [
    {
     "name": "stdout",
     "output_type": "stream",
     "text": [
      "[42, 29, 41, 72, 95, 34, 11, 38, 18, 25, 22, 58, 9, 14, 74, 88, 5, 88, 2, 27, 98, 92, 59, 39, 39, 37, 12, 19, 21, 32, 40, 5, 17, 60, 86, 23, 12, 22, 11, 47, 10, 90, 10, 39, 48, 6, 91, 4, 42, 37, 89, 65, 7, 53, 73, 34, 0, 81, 71, 41, 65, 6, 14, 55, 43, 62, 17, 78, 34, 60, 5, 13, 37, 26, 26, 81, 79, 19, 57, 89, 72, 73, 29, 68, 31, 56, 10, 24, 73, 45, 4, 19, 37, 34, 88, 1, 77, 27, 34, 81]\n"
     ]
    }
   ],
   "source": [
    "import random\n",
    "rand_list = [random.randint(0, 100) for _ in range(100)]\n",
    "print(rand_list)"
   ]
  },
  {
   "cell_type": "code",
   "execution_count": 1,
   "metadata": {},
   "outputs": [
    {
     "ename": "NameError",
     "evalue": "name 'selection_sort' is not defined",
     "output_type": "error",
     "traceback": [
      "\u001b[1;31m---------------------------------------------------------------------------\u001b[0m",
      "\u001b[1;31mNameError\u001b[0m                                 Traceback (most recent call last)",
      "Cell \u001b[1;32mIn[1], line 2\u001b[0m\n\u001b[0;32m      1\u001b[0m \u001b[39m# print('Bubble Sort:', bubble_sort(rand_list))\u001b[39;00m\n\u001b[1;32m----> 2\u001b[0m \u001b[39mprint\u001b[39m(\u001b[39m'\u001b[39m\u001b[39mSelection Sort:\u001b[39m\u001b[39m'\u001b[39m, selection_sort(rand_list))\n\u001b[0;32m      3\u001b[0m \u001b[39m# print('Insertion Sort:', insertion_sort(rand_list))\u001b[39;00m\n\u001b[0;32m      4\u001b[0m \u001b[39m# print('Merge Sort:', merge_sort(rand_list))\u001b[39;00m\n\u001b[0;32m      5\u001b[0m \u001b[39m# print('Quick Sort:', quick_sort(rand_list))\u001b[39;00m\n\u001b[0;32m      6\u001b[0m \u001b[39m# print('Shell Sort:', shell_sort(rand_list))\u001b[39;00m\n",
      "\u001b[1;31mNameError\u001b[0m: name 'selection_sort' is not defined"
     ]
    }
   ],
   "source": [
    "# print('Bubble Sort:', bubble_sort(rand_list))\n",
    "print('Selection Sort:', selection_sort(rand_list))\n",
    "# print('Insertion Sort:', insertion_sort(rand_list))\n",
    "# print('Merge Sort:', merge_sort(rand_list))\n",
    "# print('Quick Sort:', quick_sort(rand_list))\n",
    "# print('Shell Sort:', shell_sort(rand_list))"
   ]
  }
 ],
 "metadata": {
  "kernelspec": {
   "display_name": ".venv",
   "language": "python",
   "name": "python3"
  },
  "language_info": {
   "codemirror_mode": {
    "name": "ipython",
    "version": 3
   },
   "file_extension": ".py",
   "mimetype": "text/x-python",
   "name": "python",
   "nbconvert_exporter": "python",
   "pygments_lexer": "ipython3",
   "version": "3.11.1 (tags/v3.11.1:a7a450f, Dec  6 2022, 19:58:39) [MSC v.1934 64 bit (AMD64)]"
  },
  "orig_nbformat": 4,
  "vscode": {
   "interpreter": {
    "hash": "90e9cecf0ab6516382938111031b3a23db288579fe2d09bae4330be5540f9898"
   }
  }
 },
 "nbformat": 4,
 "nbformat_minor": 2
}
