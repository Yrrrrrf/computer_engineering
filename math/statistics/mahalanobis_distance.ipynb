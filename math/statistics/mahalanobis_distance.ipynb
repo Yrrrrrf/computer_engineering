{
  "cells": [
    {
      "cell_type": "markdown",
      "metadata": {
        "id": "Xwq2gMKy2kt-"
      },
      "source": [
        "# Mahalanobis Distance\n",
        "Mahalanobis using python.\n",
        "This function return the Mahalanobis distance from a given data set in form of a dictionary.<p>\n",
        "To be sure that these method wotks properly be sure that the data set column names are the same in all the "
      ]
    },
    {
      "cell_type": "code",
      "execution_count": null,
      "metadata": {
        "id": "FBPBUuua1zKv"
      },
      "outputs": [],
      "source": [
        "import numpy as np\n",
        "import pandas as pd\n",
        "import random"
      ]
    },
    {
      "cell_type": "code",
      "execution_count": null,
      "metadata": {
        "id": "yy3ueuMn14Mp"
      },
      "outputs": [],
      "source": [
        "def calculateMahalanobis(y=None, data=None, cov=None):\n",
        "    y_mu = y - np.mean(data)\n",
        "    if not cov:\n",
        "        cov = np.cov(data.values.T)\n",
        "    inv_covmat = np.linalg.inv(cov)\n",
        "    left = np.dot(y_mu, inv_covmat)\n",
        "    mahal = np.dot(left, y_mu.T)\n",
        "    return mahal.diagonal()"
      ]
    },
    {
      "cell_type": "markdown",
      "metadata": {
        "id": "C2r4KVaY7FAQ"
      },
      "source": [
        "Here we decide what variable we want as data. The first section is the same data set as the given in the homework. The second section creates a new data set with $n$ elements (I've also consider the \"mean\" value of the original data set to be sure that the created data hace the same behavior)."
      ]
    },
    {
      "cell_type": "code",
      "execution_count": null,
      "metadata": {
        "id": "v7kuTuV-1_ZZ"
      },
      "outputs": [],
      "source": [
        "# Gived data_set\n",
        "data = {'x': [159, 172, 150, 162, 170, 153, 170, 170, 162, 170, 182, 185, 171, 176, 154, 180, 170, 170, 174, 181],\n",
        "        'y': [75,   69,  46,  59,  60,  58,  60,  65,  62,  59,  85,  87,  83,  80,  59,  82,  61,  73,  70,  85]}"
      ]
    },
    {
      "cell_type": "code",
      "execution_count": null,
      "metadata": {
        "id": "doecPvOG66br"
      },
      "outputs": [],
      "source": [
        "# Create random data_set\n",
        "n = 20  # Where n is the number of elements in the dictionary\n",
        "data['x'] ,data['y'] = [random.randint(150, 200) for i in range(0, n)], [random.randint(55, 90) for i in range(0, n)]"
      ]
    },
    {
      "cell_type": "code",
      "execution_count": null,
      "metadata": {
        "colab": {
          "base_uri": "https://localhost:8080/"
        },
        "id": "HPq5uLAI79u5",
        "outputId": "0c291fa0-7c20-4d02-e28f-002f446bb073"
      },
      "outputs": [
        {
          "name": "stdout",
          "output_type": "stream",
          "text": [
            "x: [171, 173, 162, 172, 153, 150, 192, 193, 181, 155, 163, 150, 150, 199, 170, 176, 173, 180, 197, 164]\n",
            "y: [65, 64, 75, 76, 90, 84, 62, 66, 85, 90, 78, 58, 70, 89, 62, 56, 58, 73, 88, 66]\n"
          ]
        }
      ],
      "source": [
        "print(f\"x: {data['x']}\")\n",
        "print(f\"y: {data['y']}\")"
      ]
    },
    {
      "cell_type": "code",
      "execution_count": null,
      "metadata": {
        "colab": {
          "base_uri": "https://localhost:8080/"
        },
        "id": "NoMfFju33Uur",
        "outputId": "521c1797-eedd-42a6-d1f8-21b1f8936507"
      },
      "outputs": [
        {
          "name": "stdout",
          "output_type": "stream",
          "text": [
            "      x   y  Mahalanobis Distance\n",
            "0   171  65              0.440073\n",
            "1   173  64              0.574697\n",
            "2   162  75              0.380425\n",
            "3   172  76              0.079842\n",
            "4   153  90              3.534342\n",
            "5   150  84              2.756286\n",
            "6   192  62              2.607052\n",
            "7   193  66              2.263013\n",
            "8   181  85              1.482142\n",
            "9   155  90              3.254429\n",
            "10  163  78              0.475910\n",
            "11  150  58              3.397112\n",
            "12  150  70              1.870673\n",
            "13  199  89              5.039404\n",
            "14  170  62              0.851767\n",
            "15  176  56              2.152202\n",
            "16  173  58              1.608088\n",
            "17  180  73              0.313603\n",
            "18  197  88              4.377753\n",
            "19  164  66              0.541186\n"
          ]
        }
      ],
      "source": [
        "df = pd.DataFrame(data,columns=['x', 'y'])\n",
        "# Creating a new column in the dataframe that holds the Mahalanobis distance for each row\n",
        "df['Mahalanobis Distance'] = calculateMahalanobis(y=df, data=df[['x', 'y']])\n",
        "# Display the dataframe\n",
        "print(df)"
      ]
    }
  ],
  "metadata": {
    "colab": {
      "provenance": []
    },
    "kernelspec": {
      "display_name": "base",
      "language": "python",
      "name": "python3"
    },
    "language_info": {
      "name": "python",
      "version": "3.9.13 (main, Aug 25 2022, 23:51:50) [MSC v.1916 64 bit (AMD64)]"
    },
    "vscode": {
      "interpreter": {
        "hash": "893dbb23253abd8f6f572044fba0b22815a56f6f81a069988e67b6ece7ac6307"
      }
    }
  },
  "nbformat": 4,
  "nbformat_minor": 0
}
