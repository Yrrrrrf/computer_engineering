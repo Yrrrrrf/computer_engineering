{
 "cells": [
  {
   "attachments": {},
   "cell_type": "markdown",
   "metadata": {},
   "source": [
    "# [Statistics](statistics.md)\n",
    "\n",
    "Is a branch of mathematics dealing with the collection, analysis, interpretation, and presentation of data. It also provides tools for making predictions and drawing conclusions from data."
   ]
  },
  {
   "cell_type": "code",
   "execution_count": 1,
   "metadata": {},
   "outputs": [],
   "source": [
    "import numpy as np  # numerical analysis\n",
    "import pandas as pd  # statistical data analysis\n",
    "import seaborn as sns  # statistical data visualization"
   ]
  },
  {
   "attachments": {},
   "cell_type": "markdown",
   "metadata": {},
   "source": [
    "### [Descriptive Statistics](descriptive_statistics.ipynb)\n",
    "Is a branch of **statistics** that deals with the collection, organization, summarization, and interpreting information about the data or a sample of individuals or items.\n",
    "Is used to describe the basic features of the data in a study. It provides simple summaries about the sample and the measures. It also helps to find out if the data collected represent the entire population or sample.\n",
    "\n",
    "#### Univariant Data\n",
    "- group data (frequency and interval data)\n",
    "- percentiles (percentile, quartile, decile, percentile rank)\n",
    "- asymmetry (pearson's moment coefficient of skewness and kurtosis)\n",
    "- measures of central tendency (mean, median, mode)\n",
    "\n",
    "\n",
    "#### Bivariant Data\n",
    "- Cross-tabulations, contingency tables and representation via scatterplots\n",
    "- correlation (pearson's correlation coefficient, spearman's rank correlation coefficient, kendall's tau coefficient)\n",
    "- regression (simple linear regression, multiple linear regression)\n",
    "- Quantitative measures of dependence (covariance, correlation coefficient)\n",
    "`Add Multivariant Data...`\n",
    "\n",
    "\n",
    "### [Inferential Statistics](inferential_statistics.ipynb)\n",
    "Deals with the analysis of data that is used to make inferences about a population. It is used to make decisions about the population based on the sample data.\n",
    "\n",
    "#### [Point Estimation](point_estimation.ipynb)\n",
    "- mean estimation\n",
    "- proportion estimation\n",
    "- variance and quasi-variance estimation\n",
    "- standard deviation estimation\n",
    "- moment method and maximum likelihood estimation\n",
    "\n",
    "#### [Confidence Intervals](confidence_intervals.ipynb)\n",
    "- confidence interval estimation\n",
    "    - mean estimation (poblational and sample)\n",
    "    - proportion estimation (poblational and sample)\n",
    "    - variance and quasi-variance estimation\n",
    "    - mean, variance and proportion difference estimation\n",
    "    - standard deviation estimation\n",
    "\n",
    "#### [Hypothesis Testing](hypothesis_testing.ipynb)\n",
    "- bilateral and unilateral hypothesis\n",
    "\n",
    "#### [Regression Analysis](regression_analysis.ipynb)\n",
    "This topic can be learned in a deeper way in the [regression analysis notebook](../numerical_analysis/approximation.ipynb) from the [[numerical analysis]].\n",
    "- regression analysis (linear and multiple linear regression)\n",
    "- correlation"
   ]
  }
 ],
 "metadata": {
  "kernelspec": {
   "display_name": ".venv",
   "language": "python",
   "name": "python3"
  },
  "language_info": {
   "codemirror_mode": {
    "name": "ipython",
    "version": 3
   },
   "file_extension": ".py",
   "mimetype": "text/x-python",
   "name": "python",
   "nbconvert_exporter": "python",
   "pygments_lexer": "ipython3",
   "version": "3.11.1 (tags/v3.11.1:a7a450f, Dec  6 2022, 19:58:39) [MSC v.1934 64 bit (AMD64)]"
  },
  "orig_nbformat": 4,
  "vscode": {
   "interpreter": {
    "hash": "90e9cecf0ab6516382938111031b3a23db288579fe2d09bae4330be5540f9898"
   }
  }
 },
 "nbformat": 4,
 "nbformat_minor": 2
}
