{
 "cells": [
  {
   "attachments": {},
   "cell_type": "markdown",
   "metadata": {},
   "source": [
    "# [Descriptive Statistics](statistics.md#descriptive-statistics)\n",
    "\n",
    "Is a branch of **statistics** that deals with the collection, organization, summarization, and interpreting information about the data or a sample of individuals or items. Is used to describe the basic features of the data in a study. It provides simple summaries about the sample and the measures. It also helps to find out if the data collected represent the entire population or sample.\n",
    "\n",
    "- [Univariant Data](#univariant-data)\n",
    "    - group data (frequency and interval data)\n",
    "    - percentiles (percentile, quartile, decile, percentile rank)\n",
    "    - asymmetry (pearson's moment coefficient of skewness and kurtosis)\n",
    "    - measures of central tendency (mean, median, mode)\n",
    "\n",
    "\n",
    "- [Bivariant Data](#bivariant-data)\n",
    "    - Cross-tabulations, contingency tables and representation via scatterplots\n",
    "    - correlation (pearson's correlation coefficient, spearman's rank correlation coefficient, kendall's tau coefficient)\n",
    "    - regression (simple linear regression, multiple linear regression)\n",
    "    - Quantitative measures of dependence (covariance, correlation coefficient)\n",
    "`Add Multivariant Data...`"
   ]
  },
  {
   "cell_type": "code",
   "execution_count": 1,
   "metadata": {},
   "outputs": [],
   "source": [
    "import seaborn as sns"
   ]
  },
  {
   "attachments": {},
   "cell_type": "markdown",
   "metadata": {},
   "source": [
    "### Univariant Data\n",
    "\n",
    "- group data (frequency and interval data)\n",
    "- percentiles (percentile, quartile, decile, percentile rank)\n",
    "- asymmetry (pearson's moment coefficient of skewness and kurtosis)\n",
    "- measures of central tendency (mean, median, mode)"
   ]
  },
  {
   "attachments": {},
   "cell_type": "markdown",
   "metadata": {},
   "source": [
    "##### Group Data\n",
    "\n",
    "- frequency data\n",
    "- interval data"
   ]
  },
  {
   "cell_type": "code",
   "execution_count": null,
   "metadata": {},
   "outputs": [],
   "source": []
  },
  {
   "attachments": {},
   "cell_type": "markdown",
   "metadata": {},
   "source": [
    "##### Percentiles\n",
    "\n",
    "- percentile\n",
    "- quartile\n",
    "- decile\n",
    "- percentile rank"
   ]
  },
  {
   "cell_type": "code",
   "execution_count": null,
   "metadata": {},
   "outputs": [],
   "source": []
  },
  {
   "attachments": {},
   "cell_type": "markdown",
   "metadata": {},
   "source": [
    "##### Asymmetry\n",
    "\n",
    "- pearson's moment coefficient of skewness\n",
    "- kurtosis"
   ]
  },
  {
   "cell_type": "code",
   "execution_count": null,
   "metadata": {},
   "outputs": [],
   "source": []
  },
  {
   "attachments": {},
   "cell_type": "markdown",
   "metadata": {},
   "source": [
    "##### Measures of Central Tendency\n",
    "\n",
    "- mean\n",
    "- median\n",
    "- mode"
   ]
  }
 ],
 "metadata": {
  "kernelspec": {
   "display_name": ".venv",
   "language": "python",
   "name": "python3"
  },
  "language_info": {
   "codemirror_mode": {
    "name": "ipython",
    "version": 3
   },
   "file_extension": ".py",
   "mimetype": "text/x-python",
   "name": "python",
   "nbconvert_exporter": "python",
   "pygments_lexer": "ipython3",
   "version": "3.11.1 (tags/v3.11.1:a7a450f, Dec  6 2022, 19:58:39) [MSC v.1934 64 bit (AMD64)]"
  },
  "orig_nbformat": 4,
  "vscode": {
   "interpreter": {
    "hash": "90e9cecf0ab6516382938111031b3a23db288579fe2d09bae4330be5540f9898"
   }
  }
 },
 "nbformat": 4,
 "nbformat_minor": 2
}
