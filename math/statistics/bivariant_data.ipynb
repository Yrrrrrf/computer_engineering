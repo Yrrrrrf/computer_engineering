{
 "cells": [
  {
   "attachments": {},
   "cell_type": "markdown",
   "metadata": {},
   "source": [
    "# [Bivariant Data](statistics.md#bivariant-data)\n",
    "\n",
    "Is a set of statistical processes for estimating the relationships among variables. It includes many techniques for modeling and analyzing several variables, when the focus is on the relationship between a dependent variable and one or more independent variables.\n",
    "\n",
    "- correlation (pearson's correlation coefficient, spearman's rank correlation coefficient, kendall's tau coefficient)\n",
    "- [regression analysis](../numerical_analysis/approximation.ipynb) (linear and multiple linear regression)"
   ]
  },
  {
   "cell_type": "code",
   "execution_count": 1,
   "metadata": {},
   "outputs": [],
   "source": [
    "import seaborn as sns\n",
    "\n",
    "# add an example of a bivariant data set"
   ]
  },
  {
   "attachments": {},
   "cell_type": "markdown",
   "metadata": {},
   "source": [
    "### Correlation\n",
    "\n",
    "Is a statistical measure that indicates the extent to which two or more variables fluctuate together. This measure is known as the correlation coefficient.\n",
    "\n",
    "- pearson's correlation coefficient $ r = \\frac{\\sum_{i=1}^{n} (x_i - \\bar{x})(y_i - \\bar{y})}{\\sqrt{\\sum_{i=1}^{n} (x_i - \\bar{x})^2 \\sum_{i=1}^{n} (y_i - \\bar{y})^2}} $\n",
    "- spearman's rank correlation coefficient $ \\rho = 1 - \\frac{6 \\sum_{i=1}^{n} (r_i - s_i)^2}{n(n^2 - 1)} $\n",
    "- kendall's tau coefficient $ \\tau = \\frac{C - D}{\\frac{n(n-1)}{2}} $\n",
    "- covariance $ \\sigma_{xy} = \\frac{\\sum_{i=1}^{n} (x_i - \\bar{x})(y_i - \\bar{y})}{n-1} $\n",
    "- correlation coefficient $ r = \\frac{\\sigma_{xy}}{\\sigma_x \\sigma_y} $\n"
   ]
  },
  {
   "cell_type": "code",
   "execution_count": null,
   "metadata": {},
   "outputs": [],
   "source": []
  },
  {
   "attachments": {},
   "cell_type": "markdown",
   "metadata": {},
   "source": [
    "### [Regression Analysis](../numerical_analysis/approximation.ipynb)\n",
    "\n",
    "- Linear regression\n",
    "- Multiple linear regression"
   ]
  },
  {
   "cell_type": "code",
   "execution_count": null,
   "metadata": {},
   "outputs": [],
   "source": []
  }
 ],
 "metadata": {
  "kernelspec": {
   "display_name": ".venv",
   "language": "python",
   "name": "python3"
  },
  "language_info": {
   "codemirror_mode": {
    "name": "ipython",
    "version": 3
   },
   "file_extension": ".py",
   "mimetype": "text/x-python",
   "name": "python",
   "nbconvert_exporter": "python",
   "pygments_lexer": "ipython3",
   "version": "3.11.1"
  },
  "orig_nbformat": 4,
  "vscode": {
   "interpreter": {
    "hash": "90e9cecf0ab6516382938111031b3a23db288579fe2d09bae4330be5540f9898"
   }
  }
 },
 "nbformat": 4,
 "nbformat_minor": 2
}
