{
 "cells": [
  {
   "attachments": {},
   "cell_type": "markdown",
   "metadata": {},
   "source": [
    "# [Point Estimation](statistics.md#point-estimation)\n",
    "\n",
    "Is the process of estimating a parameter of a population using a sample statistic. It is used to make decisions about the population based on the sample data.\n",
    "\n",
    "- mean estimation\n",
    "- proportion estimation\n",
    "- variance and quasi-variance estimation\n",
    "- standard deviation estimation\n",
    "- moment method and maximum likelihood estimation"
   ]
  },
  {
   "cell_type": "code",
   "execution_count": 1,
   "metadata": {},
   "outputs": [],
   "source": [
    "import seaborn as sns"
   ]
  },
  {
   "attachments": {},
   "cell_type": "markdown",
   "metadata": {},
   "source": [
    "### Mean Estimation\n",
    "\n",
    "$$\\mu = \\frac{\\sum_{i=1}^{n} x_i}{n}$$\n",
    "- $\\mu$ population mean\n",
    "- $\\bar{x}$ sample mean\n"
   ]
  },
  {
   "cell_type": "code",
   "execution_count": 2,
   "metadata": {},
   "outputs": [],
   "source": [
    "def mean(x: list) -> float:\n",
    "    return sum(x) / len(x)"
   ]
  },
  {
   "attachments": {},
   "cell_type": "markdown",
   "metadata": {},
   "source": [
    "### Proportion Estimation\n",
    "\n",
    "$$\\pi = \\frac{\\sum_{i=1}^{n} x_i}{n}$$\n",
    "\n",
    "- $\\pi$ population proportion\n",
    "- $\\hat{p}$ sample proportion"
   ]
  },
  {
   "cell_type": "code",
   "execution_count": 3,
   "metadata": {},
   "outputs": [],
   "source": [
    "def proportion(x: list, y: list) -> float:\n",
    "    return sum(x) / (sum(x) + sum(y))  # x / (x + y)"
   ]
  },
  {
   "attachments": {},
   "cell_type": "markdown",
   "metadata": {},
   "source": [
    "### Variance and Quasi-Variance Estimation\n",
    "\n",
    "$\\sigma^2 = \\frac{\\sum_{i=1}^{n} (x_i - \\mu)^2}{n}$ population\n",
    "\n",
    "$\\hat{\\sigma}^2 = \\frac{\\sum_{i=1}^{n} (x_i - \\bar{x})^2}{n-1}$ sample\n",
    "\n",
    "$\\hat{\\sigma}^2 = \\frac{\\sum_{i=1}^{n} (x_i - \\bar{x})^2}{n}$ sample quasi-variance"
   ]
  },
  {
   "cell_type": "code",
   "execution_count": 5,
   "metadata": {},
   "outputs": [],
   "source": [
    "def variance(x: list) -> float:\n",
    "    return sum([(i - mean(x)) ** 2 for i in x]) / len(x)  # (x - mean(x)) ** 2"
   ]
  },
  {
   "attachments": {},
   "cell_type": "markdown",
   "metadata": {},
   "source": [
    "### Standard Deviation Estimation\n",
    "\n",
    "$\\sigma = \\sqrt{\\frac{\\sum_{i=1}^{n} (x_i - \\mu)^2}{n}}$ population\n",
    "\n",
    "$\\hat{\\sigma} = \\sqrt{\\frac{\\sum_{i=1}^{n} (x_i - \\bar{x})^2}{n-1}}$ sample\n",
    "\n",
    "$\\hat{\\sigma} = \\sqrt{\\frac{\\sum_{i=1}^{n} (x_i - \\bar{x})^2}{n}}$ sample quasi-standard deviation"
   ]
  },
  {
   "cell_type": "code",
   "execution_count": 4,
   "metadata": {},
   "outputs": [],
   "source": [
    "def standard_deviation(x: list) -> float:\n",
    "    mu = mean(x)\n",
    "    return (sum([(i - mu) ** 2 for i in x]) / len(x)) ** 0.5  # SD (standard deviation) or sqrt(variance)\n",
    "\n",
    "\n",
    "def standard_quasi_deviation(x: list) -> float:\n",
    "    mu = mean(x)\n",
    "    return (sum([abs(i - mu) for i in x]) / len(x))  # MAD (mean absolute deviation)"
   ]
  },
  {
   "attachments": {},
   "cell_type": "markdown",
   "metadata": {},
   "source": [
    "### Moment Method and Maximum Likelihood Estimation\n",
    "\n",
    "$\\hat{\\theta} = \\underset{\\theta}{\\operatorname{argmax}} \\prod_{i=1}^{n} f(x_i|\\theta)$ maximum likelihood estimator\n",
    "\n",
    "$\\hat{\\theta} = \\underset{\\theta}{\\operatorname{argmax}} \\sum_{i=1}^{n} \\log f(x_i|\\theta)$ maximum log-likelihood estimator\n",
    "\n",
    "$\\hat{\\theta} = \\underset{\\theta}{\\operatorname{argmax}} \\sum_{i=1}^{n} \\log f(x_i|\\theta) - \\lambda \\theta^2$ maximum penalized log-likelihood estimator\n",
    "\n",
    "$\\hat{\\theta} = \\underset{\\theta}{\\operatorname{argmax}} \\sum_{i=1}^{n} \\log f(x_i|\\theta) - \\lambda \\theta^2 + \\frac{\\mu}{2}(\\theta - \\theta_0)^2$ maximum penalized log-likelihood estimator with prior\n",
    "\n",
    "$\\hat{\\theta} = \\underset{\\theta}{\\operatorname{argmax}} \\sum_{i=1}^{n} \\log f(x_i|\\theta) - \\lambda \\theta^2 + \\frac{\\mu}{2}(\\theta - \\theta_0)^2 + \\frac{\\nu}{2}(\\theta - \\theta_1)^2$ maximum penalized log-likelihood estimator with two priors\n",
    "\n",
    "$\\hat{\\theta} = \\underset{\\theta}{\\operatorname{argmax}} \\sum_{i=1}^{n} \\log f(x_i|\\theta) - \\lambda \\theta^2 + \\frac{\\mu}{2}(\\theta - \\theta_0)^2 + \\frac{\\nu}{2}(\\theta - \\theta_1)^2 + \\frac{\\rho}{2}(\\theta - \\theta_2)^2$ maximum penalized log-likelihood estimator with three priors"
   ]
  },
  {
   "cell_type": "code",
   "execution_count": null,
   "metadata": {},
   "outputs": [],
   "source": []
  }
 ],
 "metadata": {
  "kernelspec": {
   "display_name": ".venv",
   "language": "python",
   "name": "python3"
  },
  "language_info": {
   "codemirror_mode": {
    "name": "ipython",
    "version": 3
   },
   "file_extension": ".py",
   "mimetype": "text/x-python",
   "name": "python",
   "nbconvert_exporter": "python",
   "pygments_lexer": "ipython3",
   "version": "3.11.1 (tags/v3.11.1:a7a450f, Dec  6 2022, 19:58:39) [MSC v.1934 64 bit (AMD64)]"
  },
  "orig_nbformat": 4,
  "vscode": {
   "interpreter": {
    "hash": "90e9cecf0ab6516382938111031b3a23db288579fe2d09bae4330be5540f9898"
   }
  }
 },
 "nbformat": 4,
 "nbformat_minor": 2
}
