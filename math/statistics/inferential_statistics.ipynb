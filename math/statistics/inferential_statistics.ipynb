{
 "cells": [
  {
   "attachments": {},
   "cell_type": "markdown",
   "metadata": {},
   "source": [
    "# [Inferential Statistics](statistics.md#inferential-statistics)\n",
    "\n",
    "Deals with the analysis of data that is used to make inferences about a population. It is used to make decisions about the population based on the sample data."
   ]
  },
  {
   "cell_type": "code",
   "execution_count": 1,
   "metadata": {},
   "outputs": [],
   "source": [
    "import seaborn as sns"
   ]
  },
  {
   "attachments": {},
   "cell_type": "markdown",
   "metadata": {},
   "source": [
    "#### [Point Estimation](point_estimation.ipynb)\n",
    "- mean estimation\n",
    "- proportion estimation\n",
    "- variance and quasi-variance estimation\n",
    "- standard deviation estimation\n",
    "- moment method and maximum likelihood estimation\n",
    "\n",
    "#### [Confidence Intervals](confidence_intervals.ipynb)\n",
    "- mean estimation (poblational and sample)\n",
    "- proportion estimation (poblational and sample)\n",
    "- variance and quasi-variance estimation\n",
    "- mean, variance and proportion difference estimation\n",
    "- standard deviation estimation\n",
    "\n",
    "#### [Hypothesis Testing](hypothesis_testing.ipynb)\n",
    "- bilateral and unilateral hypothesis\n",
    "\n",
    "#### [Regression Analysis](regression_analysis.ipynb)\n",
    "- [regression analysis](../numerical_analysis/approximation.ipynb)\n",
    "- correlation"
   ]
  }
 ],
 "metadata": {
  "kernelspec": {
   "display_name": ".venv",
   "language": "python",
   "name": "python3"
  },
  "language_info": {
   "codemirror_mode": {
    "name": "ipython",
    "version": 3
   },
   "file_extension": ".py",
   "mimetype": "text/x-python",
   "name": "python",
   "nbconvert_exporter": "python",
   "pygments_lexer": "ipython3",
   "version": "3.11.1 (tags/v3.11.1:a7a450f, Dec  6 2022, 19:58:39) [MSC v.1934 64 bit (AMD64)]"
  },
  "orig_nbformat": 4,
  "vscode": {
   "interpreter": {
    "hash": "90e9cecf0ab6516382938111031b3a23db288579fe2d09bae4330be5540f9898"
   }
  }
 },
 "nbformat": 4,
 "nbformat_minor": 2
}
