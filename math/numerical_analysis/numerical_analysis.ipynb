{
 "cells": [
  {
   "attachments": {},
   "cell_type": "markdown",
   "metadata": {},
   "source": [
    "# [Numerical Analysis](numerical%20analysis.md)\n",
    "\n",
    "Is the study of [algorithms](./../../logic/algorithms.md) that use numerical approximation (as opposed to symbolic manipulations) for the problems of mathematical analysis (as distinguished from discrete mathematics). Numerical analysis is applied to all fields of science, engineering, and industry where quantitative problems arise. Numerical analysis is also used to design and analyze computers and computer-based systems."
   ]
  },
  {
   "cell_type": "code",
   "execution_count": 1,
   "metadata": {},
   "outputs": [],
   "source": [
    "import numpy as np"
   ]
  },
  {
   "attachments": {},
   "cell_type": "markdown",
   "metadata": {},
   "source": [
    "### [One Variable Equations](one_variable_equations.ipynb)\n",
    "- Closed methods:\n",
    "    - bisection method `(2.1)`\n",
    "    - false rule method `(2.5)`\n",
    "- Open methods:\n",
    "    - fixed point method `(2.2)`\n",
    "    - secant method `(2.4)`\n",
    "    - newton-raphson method `(2.3)`\n",
    "\n",
    "### Linear Systems of Equations\n",
    "\n",
    "#### [Iterative methods](linear_systems_iterative.ipynb)\n",
    "- Jacobi Method `(7.1)`\n",
    "- Gauss-Seidel Method `(7.2)`\n",
    "- Successive Over-Relaxation (SOR) `(7.3)`\n",
    "- Iterative Refinement `(7.4)`\n",
    "- Conjugate Gradient Method `(7.5)`\n",
    "\n",
    "##### [Direct Methods](linear_systems_direct.ipynb)\n",
    "- LU Factorization `(6.4)`\n",
    "    - Doolittle Algorithm (Linear Algebra)\n",
    "    - Choleski Method `(6.6)`\n",
    "    - Crout Algorithm `(6.7)`\n",
    "- Gaussian Elimination `(6.1)`\n",
    "- Gaussian Elimination Partial Pivoting `(6.2)`\n",
    "- Gaussian Elimination Scaled Pivoting `(6.3)`\n",
    "- LDL Factorization `(6.5)`\n",
    "\n",
    "### [Nonlinear Systems](non_linear_systems.ipynb)\n",
    "- Newton's Method `(10.1)`\n",
    "- Broyden's Method `(10.2)`\n",
    "- Steepes Descent Method `(10.3)`\n",
    "- Continuation Method `(10.4)`\n",
    "\n",
    "### [Interpolation](interpolation.ipynb)\n",
    "- Lagrange Interpolation (Lagrange Polynomial)\n",
    "- Neville's Iterative `(3.1)`\n",
    "- Newton's Divided Differences `(3.2)`\n",
    "- Hermite Interpolation `(3.3)`\n",
    "- Natural Cubic Spline `(3.4)`\n",
    "- Clamped Cubic Spline `(3.5)`\n",
    "\n",
    "### [Approximation](approximation.ipynb)\n",
    "- Linear Regression\n",
    "- Polynomial Regression (Multiple Linear Regression)\n",
    "- Exponential Regression\n",
    "- Power Regression (simple)\n",
    "\n",
    "### [Integration](integration.ipynb)\n",
    "- Closed Methods:\n",
    "    - Trapezoidal (simple & composite) (at least 2 points)\n",
    "    - Simpson 1/3 (simple & composite) (at least 3 points)\n",
    "    - Simpson 3/8 (simple & composite) (at least 4 points)\n",
    "    - Boole (simple & composite) (at least 5 points)\n",
    "- Open Methods:\n",
    "    - Midpoint (at least 2 points)\n",
    "    - Two-Point (at least 2 points)\n",
    "- Gaussian Quadrature(at least 2 points)\n",
    "\n",
    "### [Numerical Differentiation](differentiation.ipynb)\n",
    "- Forward Difference (at least 2 points)\n",
    "- Backward Difference (at least 2 points)\n",
    "- Central Difference (at least 3 points)\n",
    "- Richardson Extrapolation (at least 2 points)\n",
    "\n",
    "`These numbers are a reference to Numerical Analysis, Burden and Faires, 9th edition.`"
   ]
  }
 ],
 "metadata": {
  "kernelspec": {
   "display_name": ".venv",
   "language": "python",
   "name": "python3"
  },
  "language_info": {
   "codemirror_mode": {
    "name": "ipython",
    "version": 3
   },
   "file_extension": ".py",
   "mimetype": "text/x-python",
   "name": "python",
   "nbconvert_exporter": "python",
   "pygments_lexer": "ipython3",
   "version": "3.11.1"
  },
  "orig_nbformat": 4,
  "vscode": {
   "interpreter": {
    "hash": "90e9cecf0ab6516382938111031b3a23db288579fe2d09bae4330be5540f9898"
   }
  }
 },
 "nbformat": 4,
 "nbformat_minor": 2
}
