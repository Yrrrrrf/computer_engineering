{
 "cells": [
  {
   "attachments": {},
   "cell_type": "markdown",
   "metadata": {},
   "source": [
    "# Numerical Integration\n",
    "\n",
    "Is the process of approximating the value of a definite integral. The definite integral of a function $f(x)$ over the interval $[a,b]$ is defined as:"
   ]
  },
  {
   "cell_type": "code",
   "execution_count": 2,
   "metadata": {},
   "outputs": [],
   "source": [
    "from typing import Callable\n",
    "from sympy.abc import x\n",
    "import sympy as sp"
   ]
  },
  {
   "attachments": {},
   "cell_type": "markdown",
   "metadata": {},
   "source": [
    "### Closed Methods:\n",
    "- Trapezoidal (simple & composite) (at least 2 points)\n",
    "- Simpson 1/3 (simple & composite) (at least 3 points)\n",
    "- Simpson 3/8 (simple & composite) (at least 4 points)\n",
    "- Boole (simple & composite) (at least 5 points)"
   ]
  },
  {
   "cell_type": "code",
   "execution_count": 3,
   "metadata": {},
   "outputs": [],
   "source": [
    "def trapezoidal_rule(f: Callable[[float], float], a: float, b:float, n: int) -> float:\n",
    "    '''\n",
    "    Trapezoidal Method for Numerical Integration\n",
    "    :param f: function\n",
    "    :param a: lower bound\n",
    "    :param b: upper bound\n",
    "    :param n: number of intervals\n",
    "    '''\n",
    "    step = (b - a) / n  # interval size (step size)\n",
    "    s = 0.5 * (f(a) + f(b))  # sum of all other terms\n",
    "    s += sum(f(a + i * step) for i in range(1, n))  # sum of all other terms\n",
    "    return s * step  # multiply by interval size. So the first and last terms are multiplied by 1/2. The rest of the terms are multiplied by 1."
   ]
  },
  {
   "cell_type": "code",
   "execution_count": 4,
   "metadata": {},
   "outputs": [],
   "source": [
    "def simpson_1_3_method(f: Callable[[float], float], a: float, b:float, n: int) -> float:\n",
    "    '''\n",
    "    Simpson's 1/3 Method for Numerical Integration\n",
    "    :param f: function\n",
    "    :param a: lower bound\n",
    "    :param b: upper bound\n",
    "    :param n: number of intervals\n",
    "    '''\n",
    "    h = (b - a) / n  # interval size (step size)\n",
    "    s = f(a) + f(b)  # first and last terms\n",
    "    for i in range(1, n):\n",
    "        s += 2 * f(a + i * h) if i % 2 == 0 else 4 * f(a + i * h)  # add 2*f(x) if i is even, else add 4*f(x)\n",
    "        # if it's not even it means that is odd, so it's multiplied by 4\n",
    "    return s * h / 3  # multiply by interval size and divide by 3. So the first and last terms are multiplied by 1. The rest of the terms are multiplied by 2 or 4."
   ]
  },
  {
   "cell_type": "code",
   "execution_count": 5,
   "metadata": {},
   "outputs": [],
   "source": [
    "def simpson_3_8_method(f: Callable[[float], float], a: float, b:float, n: int) -> float:\n",
    "    '''\n",
    "    Simpson's 3/8 Method for Numerical Integration\n",
    "    :param f: function\n",
    "    :param a: lower bound\n",
    "    :param b: upper bound\n",
    "    :param n: number of intervals\n",
    "    '''\n",
    "    h = (b - a) / n  # interval size (step size)\n",
    "    s = f(a) + f(b)  # first and last terms\n",
    "    for i in range(1, n):\n",
    "        s += 2 * f(a + i * h) if i % 3 == 0 else 3 * f(a + i * h)  # add 2*f(x) if i is multiple of 3, else add 3*f(x)\n",
    "    return 3 * h * s / 8  # multiply by interval size and divide by 8. So the first and last terms are multiplied by 1. The rest of the terms are multiplied by 2 or 3."
   ]
  },
  {
   "cell_type": "code",
   "execution_count": 6,
   "metadata": {},
   "outputs": [],
   "source": [
    "def boole_method(f: Callable[[float], float], a: float, b:float, n: int) -> float:\n",
    "    '''\n",
    "    Boole's Method for Numerical Integration\n",
    "    :param f: function\n",
    "    :param a: lower bound\n",
    "    :param b: upper bound\n",
    "    :param n: number of intervals\n",
    "    '''\n",
    "    h = (b - a) / n  # interval size (step size)\n",
    "    s = 7 * (f(a) + f(b))  # first and last terms\n",
    "    s += 32 * sum(f(a + i * h) for i in range(1, n, 2))  # odd terms\n",
    "    s += 12 * sum(f(a + i * h) for i in range(2, n, 4))  # even terms that are not multiples of 4\n",
    "    s += 14 * sum(f(a + i * h) for i in range(4, n, 4))  # even terms that are multiples of 4\n",
    "    return (2 * h * s) / 45  # multiply by interval size and divide by 45. So the first and last terms are multiplied by 7. The rest of the terms are multiplied by 2 or 14."
   ]
  },
  {
   "attachments": {},
   "cell_type": "markdown",
   "metadata": {},
   "source": [
    "### Open Methods:\n",
    "- Midpoint (at least 2 points)\n",
    "- Two-Point (at least 2 points)"
   ]
  },
  {
   "cell_type": "code",
   "execution_count": 7,
   "metadata": {},
   "outputs": [],
   "source": [
    "def midpoint_method(f: Callable[[float], float], a: float, b:float, n: int) -> float:\n",
    "    '''\n",
    "    Midpoint Method for Numerical Integration\n",
    "    :param f: function\n",
    "    :param a: lower bound\n",
    "    :param b: upper bound\n",
    "    :param n: number of intervals\n",
    "    '''\n",
    "    h = (b - a) / n  # interval size (step size)\n",
    "    s = sum(f(a + (i * h) - (h / 2)) for i in range(1, n + 1))  # sum of all terms\n",
    "    return s * h  # multiply by interval size\n",
    "    # Returns s*h because the function is evaluated at the midpoint of the interval. So all terms are multiplied by 1."
   ]
  },
  {
   "cell_type": "code",
   "execution_count": 8,
   "metadata": {},
   "outputs": [],
   "source": [
    "def n_point_method(f: Callable[[float], float], a: float, b:float, n: int, k: int = 2) -> float:\n",
    "    '''\n",
    "    N-Point Method\n",
    "    :param f: function\n",
    "    :param a: lower bound\n",
    "    :param b: upper bound\n",
    "    :param n: number of intervals\n",
    "    :param k: number of points\n",
    "    '''\n",
    "    h = (b - a) / n  # interval size (step size)\n",
    "    s = 0\n",
    "    for i in range(1, n + 1):\n",
    "        for j in range(1, k + 1):\n",
    "            s += f(a + i * h - h + h * (j - 1) / (k - 1))  # sum of all terms\n",
    "    return s * h / k  # multiply by interval size and divide by k\n",
    "    # Returns s*h/k because the function is evaluated at the k points of the interval. So all terms are multiplied by 1/k."
   ]
  },
  {
   "attachments": {},
   "cell_type": "markdown",
   "metadata": {},
   "source": [
    "### Gaussian Quadrature"
   ]
  },
  {
   "cell_type": "code",
   "execution_count": 9,
   "metadata": {},
   "outputs": [],
   "source": [
    "def gaussian_quadrature(f: Callable[[float], float], x: float, n: int = 2) -> Callable[[float], float]:\n",
    "    '''\n",
    "    Use Gaussian Quadrature to create a function that approximates the integral of f(x) with respect to x\n",
    "    :param f: function\n",
    "    :param x: variable\n",
    "    :param n: number of points\n",
    "    :return: function\n",
    "    '''\n",
    "    # f = _gaussian_substitution(f)  # get the f(t) function\n",
    "    if n == 2: return lambda x: (f(x) + f(x)) / 2\n",
    "    if n == 3: return lambda x: (5 * f(x) + 8 * f(x) + 5 * f(x)) / 18\n",
    "    if n == 4: return lambda x: (19 * f(x) + 25 * f(x) + 25 * f(x) + 19 * f(x)) / 36\n",
    "    if n == 5: return lambda x: (41 * f(x) + 54 * f(x) + 59 * f(x) + 54 * f(x) + 41 * f(x)) / 90\n",
    "    if n == 6: return lambda x: (751 * f(x) + 989 * f(x) + 1091 * f(x) + 1091 * f(x) + 989 * f(x) + 751 * f(x)) / 1800\n",
    "    else: return lambda x: 0"
   ]
  },
  {
   "attachments": {},
   "cell_type": "markdown",
   "metadata": {},
   "source": [
    "# Test Integration Functions"
   ]
  },
  {
   "cell_type": "code",
   "execution_count": 11,
   "metadata": {},
   "outputs": [
    {
     "name": "stdout",
     "output_type": "stream",
     "text": [
      "Exact Value: pi/4 == 0.7853981633974483\n",
      "Trapezoidal Rule: 0.7853939967307823\n",
      "Simpson's 1/3 Method: 0.7853981633974386\n",
      "Simpson's 3/8 Method: 0.7841419238157002\n",
      "Boole's Method: 0.78539816339748\n",
      "Midpoint Method: 0.7854002467307813\n",
      "N-Point Method: 0.7853939967307827\n"
     ]
    }
   ],
   "source": [
    "f = lambda x: 1 / (1 + x ** 2)\n",
    "# f = lambda x: math.exp(x**4)\n",
    "a, b = 0, 1\n",
    "# a, b = -1, 1\n",
    "# n = 1000000  # number of intervals\n",
    "n = 100\n",
    "\n",
    "print('Exact Value:', sp.integrate(1 / (1 + x ** 2), (x, a, b)), \"==\", float(sp.integrate(1 / (1 + x ** 2), (x, a, b)).evalf()))  # type: ignore\n",
    "\n",
    "print('Trapezoidal Rule:', trapezoidal_rule(f, a, b, n))\n",
    "print('Simpson\\'s 1/3 Method:', simpson_1_3_method(f, a, b, n))\n",
    "print('Simpson\\'s 3/8 Method:', simpson_3_8_method(f, a, b, n))\n",
    "print('Boole\\'s Method:', boole_method(f, a, b, n))\n",
    "\n",
    "print('Midpoint Method:', midpoint_method(f, a, b, n))\n",
    "print('N-Point Method:', n_point_method(f, a, b, n, 2))\n",
    "\n",
    "# print('Gaussian Quadrature:', gaussian_quadrature(f, a, b, n))"
   ]
  }
 ],
 "metadata": {
  "kernelspec": {
   "display_name": ".venv",
   "language": "python",
   "name": "python3"
  },
  "language_info": {
   "codemirror_mode": {
    "name": "ipython",
    "version": 3
   },
   "file_extension": ".py",
   "mimetype": "text/x-python",
   "name": "python",
   "nbconvert_exporter": "python",
   "pygments_lexer": "ipython3",
   "version": "3.11.1 (tags/v3.11.1:a7a450f, Dec  6 2022, 19:58:39) [MSC v.1934 64 bit (AMD64)]"
  },
  "orig_nbformat": 4,
  "vscode": {
   "interpreter": {
    "hash": "90e9cecf0ab6516382938111031b3a23db288579fe2d09bae4330be5540f9898"
   }
  }
 },
 "nbformat": 4,
 "nbformat_minor": 2
}
