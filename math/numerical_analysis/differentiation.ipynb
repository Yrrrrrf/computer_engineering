{
 "cells": [
  {
   "attachments": {},
   "cell_type": "markdown",
   "metadata": {},
   "source": [
    "# Numerical Differentiation\n",
    "\n",
    "Is the process of approximating the derivative of a function using a computer. This is useful when the derivative of a function is not known or is too complicated to calculate. Numerical differentiation is also useful when the function is not differentiable at a point, such as at a discontinuity."
   ]
  },
  {
   "cell_type": "code",
   "execution_count": 5,
   "metadata": {},
   "outputs": [],
   "source": [
    "from typing import Callable\n",
    "\n",
    "import numpy as np"
   ]
  },
  {
   "attachments": {},
   "cell_type": "markdown",
   "metadata": {},
   "source": [
    "Forward, Backward and Central Difference are the most common methods to approximate the derivative of a function."
   ]
  },
  {
   "cell_type": "code",
   "execution_count": 2,
   "metadata": {},
   "outputs": [],
   "source": [
    "def forward_difference(f: Callable[[float], float], x: float, h: float) -> float:\n",
    "    '''\n",
    "    Approximates the value of the derivative of f(x) using the Forward Difference Method\n",
    "    \n",
    "    Args:\n",
    "        :param f: function\n",
    "        :param x: point\n",
    "        :param h: step size\n",
    "    '''\n",
    "    return (f(x + h) - f(x)) / h"
   ]
  },
  {
   "cell_type": "code",
   "execution_count": 3,
   "metadata": {},
   "outputs": [],
   "source": [
    "def backward_difference(f: Callable[[float], float], x: float, h: float) -> float:\n",
    "    '''\n",
    "    Approximates the value of the derivative of f(x) using the Backward Difference Method\n",
    "\n",
    "    Args:\n",
    "        :param f: function\n",
    "        :param x: point\n",
    "        :param h: step size\n",
    "    '''\n",
    "    return (f(x) - f(x - h)) / h"
   ]
  },
  {
   "cell_type": "code",
   "execution_count": 4,
   "metadata": {},
   "outputs": [],
   "source": [
    "def central_difference(f: Callable[[float], float], x: float, h: float) -> float:\n",
    "    '''\n",
    "    Approximates the value of the derivative of f(x) using the Central Difference Method\n",
    "\n",
    "    Args:\n",
    "        :param f: function\n",
    "        :param x: point\n",
    "        :param h: step size\n",
    "    '''\n",
    "    return (f(x + h) - f(x - h)) / (2 * h)"
   ]
  },
  {
   "attachments": {},
   "cell_type": "markdown",
   "metadata": {},
   "source": [
    "### Richardson Extrapolation\n",
    "\n",
    "Is a method for improving the accuracy of numerical approximations by extrapolating to a higher order of accuracy."
   ]
  },
  {
   "cell_type": "code",
   "execution_count": null,
   "metadata": {},
   "outputs": [],
   "source": [
    "def richardson_extrapolation(f: Callable[[float], float], x: float, h: float) -> float:\n",
    "    '''\n",
    "    Approximates the value of the derivative of f(x) using the Richardson Extrapolation Method\n",
    "    This method is used to improve the accuracy of the Central Difference Method\n",
    "\n",
    "    Args:\n",
    "        :param f: function\n",
    "        :param x: point\n",
    "        :param h: step size\n",
    "    '''\n",
    "    return (4 * central_difference(f, x, h / 2) - central_difference(f, x, h)) / 3"
   ]
  },
  {
   "cell_type": "code",
   "execution_count": null,
   "metadata": {},
   "outputs": [],
   "source": [
    "# f = lambda x: np.sin(x)\n",
    "f = lambda x: (x**3)*np.cos(x)\n",
    "x = 2  # point\n",
    "h = 0.2  # step size\n",
    "\n",
    "print(f'Forward Difference: {forward_difference(f, x, h)}')\n",
    "print(f'Backward Difference: {backward_difference(f, x, h)}')\n",
    "print(f'Central Difference: {central_difference(f, x, h)}')\n",
    "print(f'Richardson Extrapolation: {richardson_extrapolation(f, x, h)}')\n",
    "\n",
    "# plot the functions\n",
    "from matplotlib import pyplot as plt\n",
    "x = np.linspace(0, np.pi, 100)\n",
    "plt.plot(x, f(x))\n",
    "plt.show()"
   ]
  }
 ],
 "metadata": {
  "kernelspec": {
   "display_name": ".venv",
   "language": "python",
   "name": "python3"
  },
  "language_info": {
   "codemirror_mode": {
    "name": "ipython",
    "version": 3
   },
   "file_extension": ".py",
   "mimetype": "text/x-python",
   "name": "python",
   "nbconvert_exporter": "python",
   "pygments_lexer": "ipython3",
   "version": "3.11.1 (tags/v3.11.1:a7a450f, Dec  6 2022, 19:58:39) [MSC v.1934 64 bit (AMD64)]"
  },
  "orig_nbformat": 4,
  "vscode": {
   "interpreter": {
    "hash": "90e9cecf0ab6516382938111031b3a23db288579fe2d09bae4330be5540f9898"
   }
  }
 },
 "nbformat": 4,
 "nbformat_minor": 2
}
