{
 "cells": [
  {
   "attachments": {},
   "cell_type": "markdown",
   "metadata": {},
   "source": [
    "# [Direct Methods for Linear Systems](numerical%20analysis.md)\n",
    "\n",
    "This methods are **based on the factorization of the coefficient matrix into a product of simpler matrices**. The direct methods are **more efficient than the iterative methods**, but they are **not always applicable**.\n",
    "\n",
    "- [LU Factorization](#lu-factorization) `(6.4)`\n",
    "    - Doolittle Algorithm (Linear Algebra)\n",
    "    - Choleski Method `(6.6)`\n",
    "    - Crout Algorithm `(6.7)`\n",
    "- [Gaussian Elimination](#gaussian-elimination-61) `(6.1)`\n",
    "    - Partial Pivoting `(6.2)`\n",
    "    - Scaled Pivoting `(6.3)`\n",
    "- [LDL Factorization](#ldl-factorization-65) `(6.5)`"
   ]
  },
  {
   "cell_type": "code",
   "execution_count": 1,
   "metadata": {},
   "outputs": [],
   "source": [
    "import numpy as np\n",
    "import scipy.linalg as la  # SciPy Linear Algebra Library"
   ]
  },
  {
   "attachments": {},
   "cell_type": "markdown",
   "metadata": {},
   "source": [
    "### LU Factorization\n",
    "\n",
    "The LU factorization is a **factorization of a matrix into a product of a lower triangular matrix and an upper triangular matrix**. The LU factorization is **used to solve linear systems**.\n",
    "\n",
    "The LU factorization is **not unique**. There are **many different ways to factorize a matrix**. The **most common way** is the **Doolittle algorithm**.\n",
    "\n",
    "$$\n",
    "\\begin{aligned}\n",
    "L &= \\begin{bmatrix}\n",
    "1 & 0 & 0 & \\cdots & 0 \\\\\n",
    "l_{21} & 1 & 0 & \\cdots & 0 \\\\\n",
    "l_{31} & l_{32} & 1 & \\cdots & 0 \\\\\n",
    "\\vdots & \\vdots & \\vdots & \\ddots & \\vdots \\\\\n",
    "l_{n1} & l_{n2} & l_{n3} & \\cdots & 1\n",
    "\\end{bmatrix} \\\\\n",
    "U &= \\begin{bmatrix}\n",
    "u_{11} & u_{12} & u_{13} & \\cdots & u_{1n} \\\\\n",
    "0 & u_{22} & u_{23} & \\cdots & u_{2n} \\\\\n",
    "0 & 0 & u_{33} & \\cdots & u_{3n} \\\\\n",
    "\\vdots & \\vdots & \\vdots & \\ddots & \\vdots \\\\\n",
    "0 & 0 & 0 & \\cdots & u_{nn}\n",
    "\\end{bmatrix}\n",
    "\\end{aligned}\n",
    "$$"
   ]
  },
  {
   "attachments": {},
   "cell_type": "markdown",
   "metadata": {},
   "source": [
    "##### Doolittle Algorithm\n",
    "\n",
    "The Doolittle algorithm is a **factorization algorithm**. The Doolittle algorithm is **used to factorize a matrix into a lower triangular matrix and an upper triangular matrix**."
   ]
  },
  {
   "cell_type": "code",
   "execution_count": 2,
   "metadata": {},
   "outputs": [],
   "source": [
    "def doolittle(matrix: np.ndarray) -> np.ndarray:\n",
    "    \"\"\"Doolittle's method for LU decomposition of a square matrix.\n",
    "\n",
    "    Args:\n",
    "        matrix (np.ndarray): A square matrix.\n",
    "\n",
    "    Returns:\n",
    "        np.ndarray: The lower triangular matrix L.\n",
    "    \"\"\"\n",
    "    n = len(matrix)  # number of rows\n",
    "    L = np.zeros((n, n))  # initialize L\n",
    "    for i in range(n):  # loop over rows\n",
    "        for j in range(i + 1):  # loop over columns\n",
    "            s1 = sum(L[i][k] * L[j][k] for k in range(j))\n",
    "            L[i][j] = matrix[i][j] - s1  # L[i][j] = a_ij - sum\n",
    "        for j in range(i, n):  # loop over columns\n",
    "            s2 = sum(L[i][k] * L[j][k] for k in range(i))\n",
    "            L[j][i] = (matrix[j][i] - s2) / L[i][i]  # L[j][i] = (a_ji - sum) / a_ii\n",
    "    return L  # L is lower triangular"
   ]
  },
  {
   "attachments": {},
   "cell_type": "markdown",
   "metadata": {},
   "source": [
    "##### Choleski Method `(6.6)`\n",
    "\n",
    "The Choleski method is a **factorization algorithm**. The Choleski method is **used to factorize a matrix into a lower triangular matrix and an upper triangular matrix**."
   ]
  },
  {
   "cell_type": "code",
   "execution_count": 3,
   "metadata": {},
   "outputs": [],
   "source": [
    "def choleski(matrix: np.ndarray) -> np.ndarray:\n",
    "    \"\"\"Choleski's method for LU decomposition of a square matrix.\n",
    "\n",
    "    Args:\n",
    "        matrix (np.ndarray): A square matrix.\n",
    "\n",
    "    Returns:\n",
    "        np.ndarray: The lower triangular matrix L.\n",
    "    \"\"\"\n",
    "    n = len(matrix)  # number of rows\n",
    "    L = np.zeros((n, n))  # initialize L\n",
    "    for i in range(n):  # loop over rows\n",
    "        for j in range(i + 1):  # loop over columns\n",
    "            s1 = sum(L[i][k] * L[j][k] for k in range(j))\n",
    "            L[i][j] = np.sqrt(matrix[i][i] - s1) if i == j else (matrix[i][j] - s1) / L[j][j]\n",
    "    return L  # L is lower triangular"
   ]
  },
  {
   "attachments": {},
   "cell_type": "markdown",
   "metadata": {},
   "source": [
    "##### Crout Algorithm `(6.7)`\n",
    "\n",
    "The Crout algorithm is a **factorization algorithm**. The Crout algorithm is **used to factorize a matrix into a lower triangular matrix and an upper triangular matrix**."
   ]
  },
  {
   "cell_type": "code",
   "execution_count": 4,
   "metadata": {},
   "outputs": [],
   "source": [
    "def crout(matrix: np.ndarray) -> np.ndarray:\n",
    "    \"\"\"Crout's method for LU decomposition of a square matrix.\n",
    "\n",
    "    Args:\n",
    "        matrix (np.ndarray): A square matrix.\n",
    "\n",
    "    Returns:\n",
    "        np.ndarray: The upper triangular matrix U.\n",
    "    \"\"\"\n",
    "    return doolittle(matrix.T).T  # todo: implement\n",
    "    # n = len(matrix)  # number of rows\n",
    "    # U = np.zeros((n, n))  # initialize U\n",
    "    # for i in range(n):  # loop over rows\n",
    "    #     for j in range(i, n):  # loop over columns\n",
    "    #         s1 = sum(U[k][j] * U[k][i] for k in range(i))\n",
    "    #         U[i][j] = matrix[i][j] - s1  # U[i][j] = a_ij - sum\n",
    "    #     for j in range(i + 1, n):  # loop over columns\n",
    "    #         s2 = sum(U[k][j] * U[k][i] for k in range(i))\n",
    "    #         U[j][i] = (matrix[j][i] - s2) / U[i][i]  # U[j][i] = (a_ji - sum) / a_ii\n",
    "    # return U  # U is upper triangular"
   ]
  },
  {
   "attachments": {},
   "cell_type": "markdown",
   "metadata": {},
   "source": [
    "### Gaussian Elimination `(6.1)`\n",
    "\n",
    "The Gaussian elimination is a **method to solve linear systems**. The Gaussian elimination is **based on the elimination of variables**.\n",
    "\n",
    "The Gaussian elimination is **not unique**. There are **many different ways to solve a linear system**. The **most common way** is the **Gaussian elimination**.\n",
    "\n",
    "$$\n",
    "\n",
    "\\begin{aligned}\n",
    "\\begin{bmatrix}\n",
    "a_{11} & a_{12} & a_{13} & \\cdots & a_{1n} \\\\\n",
    "a_{21} & a_{22} & a_{23} & \\cdots & a_{2n} \\\\\n",
    "a_{31} & a_{32} & a_{33} & \\cdots & a_{3n} \\\\\n",
    "\\vdots & \\vdots & \\vdots & \\ddots & \\vdots \\\\\n",
    "a_{n1} & a_{n2} & a_{n3} & \\cdots & a_{nn}\n",
    "\\end{bmatrix}\n",
    "\\begin{bmatrix}\n",
    "x_1 \\\\\n",
    "x_2 \\\\\n",
    "x_3 \\\\\n",
    "\\vdots \\\\\n",
    "x_n\n",
    "\\end{bmatrix}\n",
    "&=\n",
    "\\begin{bmatrix}\n",
    "b_1 \\\\\n",
    "b_2 \\\\\n",
    "b_3 \\\\\n",
    "\\vdots \\\\\n",
    "b_n\n",
    "\\end{bmatrix}\n",
    "\\end{aligned}\n",
    "$$\n",
    "\n"
   ]
  },
  {
   "attachments": {},
   "cell_type": "markdown",
   "metadata": {},
   "source": [
    "##### Partial Pivoting `(6.2)`\n",
    "\n",
    "The partial pivoting is a **method to solve linear systems**. The partial pivoting is **based on the elimination of variables**."
   ]
  },
  {
   "cell_type": "code",
   "execution_count": 5,
   "metadata": {},
   "outputs": [],
   "source": [
    "def gauss_partial_pivoting(matrix: np.ndarray, vector: np.ndarray) -> np.ndarray:\n",
    "    \"\"\"Gaussian elimination with partial pivoting.\n",
    "\n",
    "    Args:\n",
    "        matrix (np.ndarray): A square matrix.\n",
    "        vector (np.ndarray): A vector.\n",
    "\n",
    "    Returns:\n",
    "        np.ndarray: The solution vector.\n",
    "    \"\"\"\n",
    "    n = len(matrix)  # number of rows\n",
    "    for i in range(n):  # loop over rows\n",
    "        # find the row with the largest pivot\n",
    "        max_row = i\n",
    "        for j in range(i + 1, n):\n",
    "            if abs(matrix[j][i]) > abs(matrix[max_row][i]):\n",
    "                max_row = j\n",
    "        # swap the rows\n",
    "        matrix[[i, max_row]] = matrix[[max_row, i]]\n",
    "        vector[[i, max_row]] = vector[[max_row, i]]\n",
    "        # eliminate the lower rows\n",
    "        for j in range(i + 1, n):\n",
    "            f = matrix[j][i] / matrix[i][i]\n",
    "            matrix[j] = matrix[j] - f * matrix[i]\n",
    "            vector[j] = vector[j] - f * vector[i]\n",
    "    # back substitution\n",
    "    x = np.zeros(n)\n",
    "    for i in range(n - 1, -1, -1):\n",
    "        x[i] = (vector[i] - np.dot(matrix[i][i + 1:], x[i + 1:])) / matrix[i][i]\n",
    "    return x"
   ]
  },
  {
   "attachments": {},
   "cell_type": "markdown",
   "metadata": {},
   "source": [
    "\n",
    "##### Scaled Pivoting `(6.3)`\n",
    "\n",
    "The scaled pivoting is a **method to solve linear systems**. The scaled pivoting is **based on the elimination of variables**."
   ]
  },
  {
   "cell_type": "code",
   "execution_count": 6,
   "metadata": {},
   "outputs": [],
   "source": [
    "def gauss_scaled_pivoting(matrix: np.ndarray, vector: np.ndarray) -> np.ndarray:\n",
    "    \"\"\"Gaussian elimination with scaled partial pivoting.\n",
    "\n",
    "    Args:\n",
    "        matrix (np.ndarray): A square matrix.\n",
    "        vector (np.ndarray): A vector.\n",
    "\n",
    "    Returns:\n",
    "        np.ndarray: The solution vector.\n",
    "    \"\"\"\n",
    "    return gauss_partial_pivoting(matrix, vector)  # todo: implement"
   ]
  },
  {
   "attachments": {},
   "cell_type": "markdown",
   "metadata": {},
   "source": [
    "### LDL Factorization `(6.5)`\n",
    "\n",
    "The LDL factorization is a **factorization of a matrix into a product of a lower triangular matrix and an upper triangular matrix**. The LDL factorization is **used to solve linear systems**.\n",
    "\n",
    "The LDL factorization is **not unique**. There are **many different ways to factorize a matrix**. The **most common way** is the **Doolittle algorithm**.\n",
    "\n",
    "$$\n",
    "\\begin{aligned}\n",
    "L &= \\begin{bmatrix}\n",
    "1 & 0 & 0 & \\cdots & 0 \\\\\n",
    "l_{21} & 1 & 0 & \\cdots & 0 \\\\\n",
    "l_{31} & l_{32} & 1 & \\cdots & 0 \\\\\n",
    "\\vdots & \\vdots & \\vdots & \\ddots & \\vdots \\\\\n",
    "l_{n1} & l_{n2} & l_{n3} & \\cdots & 1\n",
    "\\end{bmatrix} \\\\\n",
    "D &= \\begin{bmatrix}\n",
    "d_{11} & 0 & 0 & \\cdots & 0 \\\\\n",
    "0 & d_{22} & 0 & \\cdots & 0 \\\\\n",
    "0 & 0 & d_{33} & \\cdots & 0 \\\\\n",
    "\\vdots & \\vdots & \\vdots & \\ddots & \\vdots \\\\\n",
    "0 & 0 & 0 & \\cdots & d_{nn}\n",
    "\\end{bmatrix}\n",
    "\\end{aligned}\n",
    "$$"
   ]
  },
  {
   "cell_type": "code",
   "execution_count": 7,
   "metadata": {},
   "outputs": [],
   "source": [
    "def ldl_factorization(matrix: np.ndarray) -> np.ndarray:\n",
    "    \"\"\"LDL factorization of a square matrix.\n",
    "\n",
    "    Args:\n",
    "        matrix (np.ndarray): A square matrix.\n",
    "\n",
    "    Returns:\n",
    "        np.ndarray: The lower triangular matrix L.\n",
    "    \"\"\"\n",
    "    return choleski(matrix)  # todo: implement"
   ]
  }
 ],
 "metadata": {
  "kernelspec": {
   "display_name": ".venv",
   "language": "python",
   "name": "python3"
  },
  "language_info": {
   "codemirror_mode": {
    "name": "ipython",
    "version": 3
   },
   "file_extension": ".py",
   "mimetype": "text/x-python",
   "name": "python",
   "nbconvert_exporter": "python",
   "pygments_lexer": "ipython3",
   "version": "3.11.1 (tags/v3.11.1:a7a450f, Dec  6 2022, 19:58:39) [MSC v.1934 64 bit (AMD64)]"
  },
  "orig_nbformat": 4,
  "vscode": {
   "interpreter": {
    "hash": "90e9cecf0ab6516382938111031b3a23db288579fe2d09bae4330be5540f9898"
   }
  }
 },
 "nbformat": 4,
 "nbformat_minor": 2
}
