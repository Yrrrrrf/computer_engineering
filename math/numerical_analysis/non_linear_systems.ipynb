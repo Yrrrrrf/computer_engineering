{
 "cells": [
  {
   "attachments": {},
   "cell_type": "markdown",
   "metadata": {},
   "source": [
    "# [Non Linear Systems](numerical%20analysis.md)\n",
    "\n",
    "- [Newton's Method](#newtons-method-101) `(10.1)`\n",
    "- [Broyden's Method](#broydens-method-102) `(10.2)`\n",
    "- [Steepes Descent Method](#steepes-descent-method-103) `(10.3)`\n",
    "- Continuation Method `(10.4)`"
   ]
  },
  {
   "cell_type": "code",
   "execution_count": 4,
   "metadata": {},
   "outputs": [],
   "source": [
    "import numpy as np\n",
    "\n",
    "\n",
    "def jacobian(f, x):\n",
    "    n = len(x)\n",
    "    J = np.zeros((n, n))\n",
    "    for i in range(n):\n",
    "        dx = np.zeros(n)\n",
    "        dx[i] = 1e-5\n",
    "        J[:, i] = (f(x + dx) - f(x - dx)) / (2 * 1e-5)\n",
    "    return J"
   ]
  },
  {
   "attachments": {},
   "cell_type": "markdown",
   "metadata": {},
   "source": [
    "### Newton's Method `(10.1)`\n",
    "\n",
    "The Newton's method is a root finding algorithm that uses the first derivative of the function to find the roots of a function. The method is based on the Taylor series expansion of the function around the point $x_0$.\n",
    "\n",
    "$$f(x) = f(x_0) + f'(x_0)(x-x_0) + \\frac{f''(x_0)}{2!}(x-x_0)^2 + \\frac{f'''(x_0)}{3!}(x-x_0)^3 + \\cdots$$\n",
    "\n",
    "The first derivative of the function is used to find the tangent line of the function at the point $x_0$. The tangent line is used to find the root of the function. The root of the function is found by finding the intersection of the tangent line and the $x$-axis. The intersection of the tangent line and the $x$-axis is the root of the function.\n",
    "\n",
    "The tangent line of the function at the point $x_0$ is given by\n",
    "\n",
    "$$f(x) = f(x_0) + f'(x_0)(x-x_0)$$\n",
    "\n",
    "The root of the function is found by setting the tangent line equal to the $x$-axis and solving for $x$.\n",
    "\n",
    "$$f(x_0) + f'(x_0)(x-x_0) = 0$$\n",
    "\n",
    "$$x = x_0 - \\frac{f(x_0)}{f'(x_0)}$$\n",
    "\n",
    "The Newton's method is an iterative method. The method is repeated until the root of the function is found. The method is repeated by using the root of the function as the new point $x_0$.\n",
    "\n",
    "$$x_{n+1} = x_n - \\frac{f(x_n)}{f'(x_n)}$$\n",
    "\n",
    "The Newton's method is a first order method. The method is a first order method because the method uses the first derivative of the function to find the root of the function. The method is a first order method because the method uses the first derivative of the function to find the root of the function. The method is a first order method because the method uses the first derivative of the function to find the root of the function."
   ]
  },
  {
   "cell_type": "code",
   "execution_count": 14,
   "metadata": {},
   "outputs": [],
   "source": [
    "def newton(f, x0, tol=1e-5, maxiter=100):\n",
    "    # x = x0\n",
    "    # for i in range(maxiter):\n",
    "    #     fx = f(x)\n",
    "    #     if np.linalg.norm(fx) < tol:\n",
    "    #         return x\n",
    "    #     J = jacobian(f, x)\n",
    "    #     dx = np.linalg.solve(J, -fx)\n",
    "    #     x += dx\n",
    "    # raise RuntimeError(\"Did not converge\")\n",
    "    print(f'NotImplemented')"
   ]
  },
  {
   "attachments": {},
   "cell_type": "markdown",
   "metadata": {},
   "source": [
    "### Broyden's Method `(10.2)`\n",
    "\n",
    "The Broyden's method is a root finding algorithm that..."
   ]
  },
  {
   "cell_type": "code",
   "execution_count": 13,
   "metadata": {},
   "outputs": [],
   "source": [
    "def broyden(f, x0, tol=1e-5, maxiter=100):\n",
    "    # x = x0\n",
    "    # J = jacobian(f, x)\n",
    "    # for i in range(maxiter):\n",
    "    #     fx = f(x)\n",
    "    #     if np.linalg.norm(fx) < tol:\n",
    "    #         return x\n",
    "    #     dx = np.linalg.solve(J, -fx)\n",
    "    #     x += dx\n",
    "    #     J += np.outer((f(x) - fx - J @ dx), dx) / (dx @ dx)\n",
    "    # raise RuntimeError(\"Did not converge\")\n",
    "    print(f'NotImplemented')"
   ]
  },
  {
   "attachments": {},
   "cell_type": "markdown",
   "metadata": {},
   "source": [
    "### Steepes Descent Method `(10.3)`\n",
    "\n",
    "The Steepes Descent method is a root finding algorithm..."
   ]
  },
  {
   "cell_type": "code",
   "execution_count": 15,
   "metadata": {},
   "outputs": [],
   "source": [
    "def steepes_descent(f, x0, tol=1e-5, maxiter=100):\n",
    "    # x = x0\n",
    "    # for i in range(maxiter):\n",
    "    #     fx = f(x)\n",
    "    #     if np.linalg.norm(fx) < tol:\n",
    "    #         return x\n",
    "    #     J = jacobian(f, x)\n",
    "    #     dx = np.linalg.solve(J, -fx)\n",
    "    #     x += dx\n",
    "    # raise RuntimeError(\"Did not converge\")\n",
    "    print(f'NotImplemented')"
   ]
  },
  {
   "attachments": {},
   "cell_type": "markdown",
   "metadata": {},
   "source": [
    "### Levenberg-Marquardt Method `(10.4)`\n",
    "\n",
    "Levenberg-Marquardt method is a root finding algorithm that..."
   ]
  },
  {
   "cell_type": "code",
   "execution_count": 16,
   "metadata": {},
   "outputs": [],
   "source": [
    "def levenberg_marquardt(f, x0, tol=1e-5, maxiter=100):\n",
    "    # x = x0\n",
    "    # for i in range(maxiter):\n",
    "    #     fx = f(x)\n",
    "    #     if np.linalg.norm(fx) < tol:\n",
    "    #         return x\n",
    "    #     J = jacobian(f, x)\n",
    "    #     dx = np.linalg.solve(J.T @ J + 1e-5 * np.eye(len(x)), -J.T @ fx)\n",
    "    #     x += dx\n",
    "    # raise RuntimeError(\"Did not converge\")\n",
    "    print(f'NotImplemented')"
   ]
  },
  {
   "attachments": {},
   "cell_type": "markdown",
   "metadata": {},
   "source": [
    "### Continuation Method `(10.4)`\n",
    "\n",
    "The Continuation method is a root finding algorithm that...\n",
    "\n"
   ]
  },
  {
   "cell_type": "code",
   "execution_count": 17,
   "metadata": {},
   "outputs": [],
   "source": [
    "def continuation(f, x0, tol=1e-5, maxiter=100):\n",
    "    # x = x0\n",
    "    # for i in range(maxiter):\n",
    "    #     fx = f(x)\n",
    "    #     if np.linalg.norm(fx) < tol:\n",
    "    #         return x\n",
    "    #     J = jacobian(f, x)\n",
    "    #     dx = np.linalg.solve(J.T @ J, -J.T @ fx)\n",
    "    #     x += dx\n",
    "    # raise RuntimeError(\"Did not converge\")\n",
    "    print(f'NotImplemented')"
   ]
  },
  {
   "cell_type": "code",
   "execution_count": 18,
   "metadata": {},
   "outputs": [
    {
     "name": "stdout",
     "output_type": "stream",
     "text": [
      "NotImplemented\n",
      "None\n",
      "NotImplemented\n",
      "None\n",
      "NotImplemented\n",
      "None\n",
      "NotImplemented\n",
      "None\n",
      "NotImplemented\n",
      "None\n"
     ]
    }
   ],
   "source": [
    "# TEST\n",
    "\n",
    "def f(x):\n",
    "    return np.array([x[0] ** 3 - x[1], x[0] ** 2 - x[1]])\n",
    "\n",
    "\n",
    "def test():\n",
    "    f = lambda x: np.array([x[0] ** 2 + x[1] ** 2 - 1, x[0] - x[1]])\n",
    "    x0 = np.array([1, 1])\n",
    "    x = newton(f, x0)\n",
    "    print(x)\n",
    "    x = broyden(f, x0)\n",
    "    print(x)\n",
    "    x = steepes_descent(f, x0)\n",
    "    print(x)\n",
    "    x = levenberg_marquardt(f, x0)\n",
    "    print(x)\n",
    "    x = continuation(f, x0)\n",
    "    print(x)\n",
    "\n",
    "\n",
    "if __name__ == \"__main__\":\n",
    "    test()"
   ]
  }
 ],
 "metadata": {
  "kernelspec": {
   "display_name": ".venv",
   "language": "python",
   "name": "python3"
  },
  "language_info": {
   "codemirror_mode": {
    "name": "ipython",
    "version": 3
   },
   "file_extension": ".py",
   "mimetype": "text/x-python",
   "name": "python",
   "nbconvert_exporter": "python",
   "pygments_lexer": "ipython3",
   "version": "3.11.1"
  },
  "orig_nbformat": 4,
  "vscode": {
   "interpreter": {
    "hash": "90e9cecf0ab6516382938111031b3a23db288579fe2d09bae4330be5540f9898"
   }
  }
 },
 "nbformat": 4,
 "nbformat_minor": 2
}
