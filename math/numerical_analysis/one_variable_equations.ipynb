{
 "cells": [
  {
   "attachments": {},
   "cell_type": "markdown",
   "metadata": {},
   "source": [
    "# One Variable Equations\n",
    "\n",
    "In [numerical analysis](/math/numerical_analysis/numerical%20analysis.md) we will be solving equations of the form $f(x) = 0$ where $f(x)$ is a function of $x$.\n",
    "\n",
    "These are the functions that are used to solve one variable equations."
   ]
  },
  {
   "cell_type": "code",
   "execution_count": 1,
   "metadata": {},
   "outputs": [],
   "source": [
    "# autoreload modules when code is run\n",
    "%load_ext autoreload"
   ]
  },
  {
   "cell_type": "code",
   "execution_count": 2,
   "metadata": {},
   "outputs": [],
   "source": [
    "import sys  # import system modules\n",
    "sys.path.append('../..')  # computer_engineering/ directory"
   ]
  },
  {
   "cell_type": "code",
   "execution_count": 3,
   "metadata": {},
   "outputs": [],
   "source": [
    "from typing import Callable  # import python type hinting\n",
    "from sympy import Symbol, lambdify, sympify  # import sympy\n",
    "from scripts.math.util.functions import get_derivative, get_g_function  # Import own modules"
   ]
  },
  {
   "attachments": {},
   "cell_type": "markdown",
   "metadata": {},
   "source": [
    "## Closed Methods\n",
    "- Bisection Method\n",
    "- False Rule -> (secant method)"
   ]
  },
  {
   "cell_type": "code",
   "execution_count": 4,
   "metadata": {},
   "outputs": [],
   "source": [
    "def bisection_method(f: Callable[[float], float], a: float, b: float, tol=1e-6, max_iter=100) -> float:\n",
    "    \"\"\"\n",
    "    Iteratively bisect the interval [a, b] until the root is found to within the tolerance.\n",
    "\n",
    "    :param f: function\n",
    "    :param a: left bound\n",
    "    :param b: right bound\n",
    "    :param tol: tolerance\n",
    "    :param max_iter: maximum iteration\n",
    "    :return: root\n",
    "    \"\"\"\n",
    "    if f(a) * f(b) > 0: raise ValueError(f\"f(a)^f(b) must have different signs\")\n",
    "    c = (a + b) / 2  # (just for avoiding the error: UnboundLocalError: local variable 'c' referenced before assignment)\n",
    "    for _ in range(max_iter):\n",
    "        c = (a + b) / 2  # find the midpoint (bisect the interval)\n",
    "        if f(c) == 0 or (b - a) / 2 < tol: return c\n",
    "        if f(a) * f(c) < 0: b = c  # if f(a) and f(c) have different signs, then the root is in the interval [a, c]\n",
    "        else:  a = c  # otherwise, the root is in the interval [c, b]\n",
    "    return c"
   ]
  },
  {
   "cell_type": "code",
   "execution_count": 5,
   "metadata": {},
   "outputs": [],
   "source": [
    "def false_rule(f: Callable[[float], float], a:float, b:float, tol=1e-6, max_iter=100) -> float:\n",
    "# Is really similar to the secant method, but it uses the midpoint of the interval [a, b] instead of the secant line.\n",
    "    \"\"\"\n",
    "    Iteratively approximate the root using (a*f(b) - b*f(a)) / (f(b) - f(a)) until the root is found to within the tolerance.\n",
    "    This method consist in bisecting the interval [a, b] until the root is found to within the tolerance.\n",
    "    :param f: function\n",
    "    :param a: left bound\n",
    "    :param b: right bound\n",
    "    :param tol: tolerance\n",
    "    :param max_iter: maximum iteration\n",
    "    :return: root\n",
    "    \"\"\"\n",
    "    if f(a) * f(b) > 0: raise ValueError(f\"f(a)^f(b) must have different signs\")\n",
    "    c = b - ((f(b) * (b - a)) / (f(b) - f(a)))  # (just for avoiding the error: UnboundLocalError: local variable 'c' referenced before assignment)\n",
    "    for _ in range(max_iter):\n",
    "        # c = (a*f(b) - b*f(a)) / (f(b) - f(a))  is equal to c = b - ((f(b) * (b - a)) / (f(b) - f(a))) so IT'S THE SAME\n",
    "        c = b - ((f(b) * (b - a)) / (f(b) - f(a)))  # find the midpoint (approximate the root)\n",
    "        if f(c) == 0 or (b - a) / 2 < tol: return c\n",
    "        if f(a) * f(c) < 0: b = c  # if f(a) and f(c) have different signs, then the root is in the interval [a, c]\n",
    "        else:  a = c  # otherwise, the root is in the interval [c, b]\n",
    "    return c\n"
   ]
  },
  {
   "attachments": {},
   "cell_type": "markdown",
   "metadata": {},
   "source": [
    "## Open Methods\n",
    "- `Fixed Point Iteration` -> Gauss-Seidel Method\n",
    "- Secant Method <- False Rule\n",
    "- Newton-Raphson Method"
   ]
  },
  {
   "cell_type": "code",
   "execution_count": 6,
   "metadata": {},
   "outputs": [],
   "source": [
    "def secant_method(f: Callable[[float], float], x0: float, x1: float, tol=1e-6, max_iter=100) -> float:\n",
    "# Is really similar to the false rule method, but is USES THE LAST TWO APPROXIMATIONS TO FIND THE NEXT ONE.\n",
    "    \"\"\"\n",
    "    Iteraitvely evaluate f(x) to find a closer approximation of the root. \n",
    "    Use x_new = x - f(x) * (x - x_old) / (f(x) - f(x_old)) to find the next approximation.\n",
    "\n",
    "    Parameters\n",
    "    ----\n",
    "    :param f: function\n",
    "    :param x0: initial guess\n",
    "    :param x1: initial guess\n",
    "    :param tol: tolerance\n",
    "    :param max_iter: maximum iteration\n",
    "    :return: root\n",
    "    \"\"\"\n",
    "    x = x0  # initial guess\n",
    "    xnew = x1  # (just for avoiding the error: UnboundLocalError: local variable 'xnew' referenced before assignment)\n",
    "    for _ in range(max_iter):\n",
    "        xnew = x - f(x) * (x - x1) / (f(x) - f(x1))  # next iteration\n",
    "        if abs(xnew - x) < tol: return xnew  # if the difference between the two iterations is less than the tolerance, then the root is found\n",
    "        x1 = x  # update the value of x1 (the previous value of x)\n",
    "        x = xnew  # update the value of x (the current value of x)\n",
    "    return xnew"
   ]
  },
  {
   "cell_type": "code",
   "execution_count": 7,
   "metadata": {},
   "outputs": [],
   "source": [
    "def newton_raphson_method(f: Callable[[float], float], x0: float, tol=1e-6, max_iter=100) -> float:\n",
    "    \"\"\"\n",
    "    Iteratively evaluate f(x) and f'(x) to find a closer approximation of the root.\n",
    "    Use x_new = x - f(x) / f'(x) to find the next approximation.\n",
    "    :param f: function\n",
    "    :param x0: initial guess\n",
    "    :param tol: tolerance\n",
    "    :param max_iter: maximum iteration\n",
    "    :return: root\n",
    "    \"\"\"\n",
    "    x = x0  # initial guess\n",
    "    xnew = x0  # initial guess (just for avoiding the error: UnboundLocalError: local variable 'xnew' referenced before assignment)\n",
    "    diff = get_derivative(f)\n",
    "    for _ in range(max_iter):\n",
    "        xnew = x - f(x) / diff(x)  # next iteration\n",
    "        if abs(xnew - x) < tol: return float(xnew)  # if the difference between the two iterations is less than the tolerance, then the root is found\n",
    "        x = xnew  # update the value of x\n",
    "    return float(xnew)  # return the root in a float format"
   ]
  },
  {
   "cell_type": "code",
   "execution_count": 8,
   "metadata": {},
   "outputs": [
    {
     "ename": "IndexError",
     "evalue": "list index out of range",
     "output_type": "error",
     "traceback": [
      "\u001b[1;31m---------------------------------------------------------------------------\u001b[0m",
      "\u001b[1;31mIndexError\u001b[0m                                Traceback (most recent call last)",
      "Cell \u001b[1;32mIn[8], line 4\u001b[0m\n\u001b[0;32m      1\u001b[0m \u001b[39m# test newton raphson method\u001b[39;00m\n\u001b[0;32m      3\u001b[0m function \u001b[39m=\u001b[39m \u001b[39mlambda\u001b[39;00m x: x\u001b[39m*\u001b[39m\u001b[39m*\u001b[39m\u001b[39m3\u001b[39m \u001b[39m-\u001b[39m \u001b[39m2\u001b[39m\u001b[39m*\u001b[39mx \u001b[39m-\u001b[39m \u001b[39m5\u001b[39m\n\u001b[1;32m----> 4\u001b[0m root \u001b[39m=\u001b[39m newton_raphson_method(function, \u001b[39m4\u001b[39;49m)  \u001b[39m# find the root\u001b[39;00m\n\u001b[0;32m      5\u001b[0m \u001b[39mprint\u001b[39m(\u001b[39mf\u001b[39m\u001b[39m\"\u001b[39m\u001b[39mThe root of the function is \u001b[39m\u001b[39m{\u001b[39;00mroot\u001b[39m}\u001b[39;00m\u001b[39m\"\u001b[39m)  \u001b[39m# print the root\u001b[39;00m\n",
      "Cell \u001b[1;32mIn[7], line 13\u001b[0m, in \u001b[0;36mnewton_raphson_method\u001b[1;34m(f, x0, tol, max_iter)\u001b[0m\n\u001b[0;32m     11\u001b[0m x \u001b[39m=\u001b[39m x0  \u001b[39m# initial guess\u001b[39;00m\n\u001b[0;32m     12\u001b[0m xnew \u001b[39m=\u001b[39m x0  \u001b[39m# initial guess (just for avoiding the error: UnboundLocalError: local variable 'xnew' referenced before assignment)\u001b[39;00m\n\u001b[1;32m---> 13\u001b[0m diff \u001b[39m=\u001b[39m get_derivative(f)\n\u001b[0;32m     14\u001b[0m \u001b[39mfor\u001b[39;00m _ \u001b[39min\u001b[39;00m \u001b[39mrange\u001b[39m(max_iter):\n\u001b[0;32m     15\u001b[0m     xnew \u001b[39m=\u001b[39m x \u001b[39m-\u001b[39m f(x) \u001b[39m/\u001b[39m diff(x)  \u001b[39m# next iteration\u001b[39;00m\n",
      "File \u001b[1;32mc:\\Users\\Yrrrrrf\\Documents\\computer_engineering\\math\\numerical_analysis\\../..\\scripts\\math\\util\\functions.py:13\u001b[0m, in \u001b[0;36mget_derivative\u001b[1;34m(f)\u001b[0m\n\u001b[0;32m      7\u001b[0m \u001b[39m\u001b[39m\u001b[39m\"\"\"\u001b[39;00m\n\u001b[0;32m      8\u001b[0m \u001b[39mReturn the derivative of a function (lambda function) using SymPy\u001b[39;00m\n\u001b[0;32m      9\u001b[0m \u001b[39m:param f: lambda function\u001b[39;00m\n\u001b[0;32m     10\u001b[0m \u001b[39m:return: lambda function\u001b[39;00m\n\u001b[0;32m     11\u001b[0m \u001b[39m\"\"\"\u001b[39;00m\n\u001b[0;32m     12\u001b[0m \u001b[39mfrom\u001b[39;00m \u001b[39minspect\u001b[39;00m \u001b[39mimport\u001b[39;00m getsource  \u001b[39m# to get the source code of a function\u001b[39;00m\n\u001b[1;32m---> 13\u001b[0m function_str \u001b[39m=\u001b[39m getsource(f)\u001b[39m.\u001b[39;49msplit(\u001b[39m\"\u001b[39;49m\u001b[39mreturn \u001b[39;49m\u001b[39m\"\u001b[39;49m)[\u001b[39m1\u001b[39;49m]  \u001b[39m# get the \"return\" part of the function (the function itself) and convert it to a string\u001b[39;00m\n\u001b[0;32m     14\u001b[0m derivative \u001b[39m=\u001b[39m sympify(function_str)\u001b[39m.\u001b[39mdiff(Symbol(\u001b[39m'\u001b[39m\u001b[39mx\u001b[39m\u001b[39m'\u001b[39m))  \u001b[39m# get the derivative of f\u001b[39;00m\n\u001b[0;32m     15\u001b[0m diff \u001b[39m=\u001b[39m lambdify(Symbol(\u001b[39m'\u001b[39m\u001b[39mx\u001b[39m\u001b[39m'\u001b[39m), derivative, \u001b[39m'\u001b[39m\u001b[39mnumpy\u001b[39m\u001b[39m'\u001b[39m)  \u001b[39m# convert the derivative to a lambda function (to make it faster\u001b[39;00m\n",
      "\u001b[1;31mIndexError\u001b[0m: list index out of range"
     ]
    }
   ],
   "source": [
    "# test newton raphson method\n",
    "\n",
    "function = lambda x: x**3 - 2*x - 5\n",
    "root = newton_raphson_method(function, 4)  # find the root\n",
    "print(f\"The root of the function is {root}\")  # print the root"
   ]
  },
  {
   "cell_type": "code",
   "execution_count": null,
   "metadata": {},
   "outputs": [],
   "source": []
  },
  {
   "attachments": {},
   "cell_type": "markdown",
   "metadata": {},
   "source": [
    "### pending\n",
    "- Steffensen's Method\n",
    "- Halley's Method\n",
    "- Muller's Method\n",
    "- Brent's Method\n"
   ]
  }
 ],
 "metadata": {
  "kernelspec": {
   "display_name": ".venv",
   "language": "python",
   "name": "python3"
  },
  "language_info": {
   "codemirror_mode": {
    "name": "ipython",
    "version": 3
   },
   "file_extension": ".py",
   "mimetype": "text/x-python",
   "name": "python",
   "nbconvert_exporter": "python",
   "pygments_lexer": "ipython3",
   "version": "3.11.1 (tags/v3.11.1:a7a450f, Dec  6 2022, 19:58:39) [MSC v.1934 64 bit (AMD64)]"
  },
  "orig_nbformat": 4,
  "vscode": {
   "interpreter": {
    "hash": "90e9cecf0ab6516382938111031b3a23db288579fe2d09bae4330be5540f9898"
   }
  }
 },
 "nbformat": 4,
 "nbformat_minor": 2
}
