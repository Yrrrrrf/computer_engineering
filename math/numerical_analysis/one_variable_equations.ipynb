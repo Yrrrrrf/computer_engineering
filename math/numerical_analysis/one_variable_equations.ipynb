{
 "cells": [
  {
   "attachments": {},
   "cell_type": "markdown",
   "metadata": {},
   "source": [
    "# One Variable Equations\n",
    "\n",
    "In [numerical analysis](/math/numerical_analysis/numerical%20analysis.md) we will be solving equations of the form $f(x) = 0$ where $f(x)$ is a function of $x$.\n",
    "\n",
    "These are the functions that are used to solve one variable equations.\n",
    "\n",
    "```mermaid\n",
    "graph LR\n",
    "    A[a,b] --> B(\"function(a,b)\")\n",
    "    B --> D{while \\n max iterations}\n",
    "    D -->|False| B\n",
    "    D -->|True| C[final guess]\n",
    "```"
   ]
  },
  {
   "cell_type": "code",
   "execution_count": 1,
   "metadata": {},
   "outputs": [],
   "source": [
    "# autoreload modules when code is run\n",
    "%load_ext autoreload"
   ]
  },
  {
   "cell_type": "code",
   "execution_count": 2,
   "metadata": {},
   "outputs": [],
   "source": [
    "import sys  # import system modules\n",
    "sys.path.append('../..')  # computer_engineering/ directory"
   ]
  },
  {
   "cell_type": "code",
   "execution_count": 3,
   "metadata": {},
   "outputs": [],
   "source": [
    "from typing import Callable  # import python type hinting\n",
    "from sympy import Symbol, lambdify, sympify  # import sympy\n",
    "from scripts.math.util.functions import get_derivative, get_g_function  # Import own modules"
   ]
  },
  {
   "attachments": {},
   "cell_type": "markdown",
   "metadata": {},
   "source": [
    "## Closed Methods\n",
    "- Bisection Method\n",
    "- False Rule -> (secant method)"
   ]
  },
  {
   "cell_type": "code",
   "execution_count": 4,
   "metadata": {},
   "outputs": [],
   "source": [
    "def bisection_method(f: Callable[[float], float], a: float, b: float, tol=1e-6, max_iter=100) -> float:\n",
    "    \"\"\"\n",
    "    Iteratively bisect the interval [a, b] until the root is found to within the tolerance.\n",
    "\n",
    "    :param f: function\n",
    "    :param a: left bound\n",
    "    :param b: right bound\n",
    "    :param tol: tolerance\n",
    "    :param max_iter: maximum iteration\n",
    "    :return: root\n",
    "    \"\"\"\n",
    "    if f(a) * f(b) > 0: raise ValueError(f\"f(a)^f(b) must have different signs\")\n",
    "    c = (a + b) / 2  # (just for avoiding the error: UnboundLocalError: local variable 'c' referenced before assignment)\n",
    "    for _ in range(max_iter):\n",
    "        c = (a + b) / 2  # find the midpoint (bisect the interval)\n",
    "        if f(c) == 0 or (b - a) / 2 < tol: return c\n",
    "        if f(a) * f(c) < 0: b = c  # if f(a) and f(c) have different signs, then the root is in the interval [a, c]\n",
    "        else:  a = c  # otherwise, the root is in the interval [c, b]\n",
    "    return c"
   ]
  },
  {
   "cell_type": "code",
   "execution_count": 5,
   "metadata": {},
   "outputs": [],
   "source": [
    "def false_rule(f: Callable[[float], float], a:float, b:float, tol=1e-6, max_iter=100) -> float:\n",
    "# Is really similar to the secant method, but it uses the midpoint of the interval [a, b] instead of the secant line.\n",
    "    \"\"\"\n",
    "    Iteratively approximate the root using (a*f(b) - b*f(a)) / (f(b) - f(a)) until the root is found to within the tolerance.\n",
    "    This method consist in bisecting the interval [a, b] until the root is found to within the tolerance.\n",
    "    :param f: function\n",
    "    :param a: left bound\n",
    "    :param b: right bound\n",
    "    :param tol: tolerance\n",
    "    :param max_iter: maximum iteration\n",
    "    :return: root\n",
    "    \"\"\"\n",
    "    if f(a) * f(b) > 0: raise ValueError(f\"f(a)^f(b) must have different signs\")\n",
    "    c = b - ((f(b) * (b - a)) / (f(b) - f(a)))  # (just for avoiding the error: UnboundLocalError: local variable 'c' referenced before assignment)\n",
    "    for _ in range(max_iter):\n",
    "        # c = (a*f(b) - b*f(a)) / (f(b) - f(a))  is equal to c = b - ((f(b) * (b - a)) / (f(b) - f(a))) so IT'S THE SAME\n",
    "        c = b - ((f(b) * (b - a)) / (f(b) - f(a)))  # find the midpoint (approximate the root)\n",
    "        if f(c) == 0 or (b - a) / 2 < tol: return c\n",
    "        if f(a) * f(c) < 0: b = c  # if f(a) and f(c) have different signs, then the root is in the interval [a, c]\n",
    "        else:  a = c  # otherwise, the root is in the interval [c, b]\n",
    "    return c\n"
   ]
  },
  {
   "attachments": {},
   "cell_type": "markdown",
   "metadata": {},
   "source": [
    "## Open Methods\n",
    "- `Fixed Point Iteration` -> Gauss-Seidel Method\n",
    "- Secant Method <- False Rule\n",
    "- Newton-Raphson Method"
   ]
  },
  {
   "cell_type": "code",
   "execution_count": 6,
   "metadata": {},
   "outputs": [],
   "source": [
    "def secant_method(f: Callable[[float], float], x0: float, x1: float, tol=1e-6, max_iter=100) -> float:\n",
    "# Is really similar to the false rule method, but is USES THE LAST TWO APPROXIMATIONS TO FIND THE NEXT ONE.\n",
    "    \"\"\"\n",
    "    Iteraitvely evaluate f(x) to find a closer approximation of the root. \n",
    "    Use x_new = x - f(x) * (x - x_old) / (f(x) - f(x_old)) to find the next approximation.\n",
    "\n",
    "    Parameters\n",
    "    ----\n",
    "    :param f: function\n",
    "    :param x0: initial guess\n",
    "    :param x1: initial guess\n",
    "    :param tol: tolerance\n",
    "    :param max_iter: maximum iteration\n",
    "    :return: root\n",
    "    \"\"\"\n",
    "    x = x0  # initial guess\n",
    "    xnew = x1  # (just for avoiding the error: UnboundLocalError: local variable 'xnew' referenced before assignment)\n",
    "    for _ in range(max_iter):\n",
    "        xnew = x - f(x) * (x - x1) / (f(x) - f(x1))  # next iteration\n",
    "        if abs(xnew - x) < tol: return xnew  # if the difference between the two iterations is less than the tolerance, then the root is found\n",
    "        x1 = x  # update the value of x1 (the previous value of x)\n",
    "        x = xnew  # update the value of x (the current value of x)\n",
    "    return xnew"
   ]
  },
  {
   "cell_type": "code",
   "execution_count": 7,
   "metadata": {},
   "outputs": [],
   "source": [
    "def newton_raphson_method(f: Callable[[float], float], x0: float, tol=1e-6, max_iter=100) -> float:\n",
    "    \"\"\"\n",
    "    Iteratively evaluate f(x) and f'(x) to find a closer approximation of the root.\n",
    "    Use x_new = x - f(x) / f'(x) to find the next approximation.\n",
    "    :param f: function\n",
    "    :param x0: initial guess\n",
    "    :param tol: tolerance\n",
    "    :param max_iter: maximum iteration\n",
    "    :return: root\n",
    "    \"\"\"\n",
    "    x = x0  # initial guess\n",
    "    xnew = x0  # initial guess (just for avoiding the error: UnboundLocalError: local variable 'xnew' referenced before assignment)\n",
    "    diff = get_derivative(f)\n",
    "    for _ in range(max_iter):\n",
    "        xnew = x - f(x) / diff(x)  # next iteration\n",
    "        if abs(xnew - x) < tol: return float(xnew)  # if the difference between the two iterations is less than the tolerance, then the root is found\n",
    "        x = xnew  # update the value of x\n",
    "    return float(xnew)  # return the root in a float format"
   ]
  },
  {
   "cell_type": "code",
   "execution_count": 8,
   "metadata": {},
   "outputs": [
    {
     "name": "stdout",
     "output_type": "stream",
     "text": [
      "Bisection method: 2.094550848007202\n",
      "False rule method: 2.094551481542326\n",
      "Secant method: 2.0945514815415383\n",
      "f(x) = x**3 - 2*x - 5\n",
      "f'(x) = 3*x**2 - 2\n",
      "Newton-Raphson method: 2.0945514815423265\n"
     ]
    }
   ],
   "source": [
    "x = Symbol('x', real=True)\n",
    "f = x**3 - 2*x - 5\n",
    "# f = x**2 - 2\n",
    "# f = x**2 + 4\n",
    "f = lambdify(x, f, 'numpy')  # Convert the sympy expression to a numpy function -> f(x) = x**3 - 2*x - 5\n",
    "\n",
    "a, b = 1, 4  # interval\n",
    "\n",
    "# ? open methods\n",
    "print(f'Bisection method: {bisection_method(f, a, b)}')\n",
    "print(f'False rule method: {false_rule(f, a, b)}')\n",
    "# ? closed methods\n",
    "print(f'Secant method: {secant_method(f, a, b)}')   \n",
    "print(f'Newton-Raphson method: {newton_raphson_method(f, 2)}')\n",
    "# ! test\n",
    "# print(f'Fixed-point method: {fixed_point_method(f, a)}')\n"
   ]
  }
 ],
 "metadata": {
  "kernelspec": {
   "display_name": ".venv",
   "language": "python",
   "name": "python3"
  },
  "language_info": {
   "codemirror_mode": {
    "name": "ipython",
    "version": 3
   },
   "file_extension": ".py",
   "mimetype": "text/x-python",
   "name": "python",
   "nbconvert_exporter": "python",
   "pygments_lexer": "ipython3",
   "version": "3.11.1 (tags/v3.11.1:a7a450f, Dec  6 2022, 19:58:39) [MSC v.1934 64 bit (AMD64)]"
  },
  "orig_nbformat": 4,
  "vscode": {
   "interpreter": {
    "hash": "90e9cecf0ab6516382938111031b3a23db288579fe2d09bae4330be5540f9898"
   }
  }
 },
 "nbformat": 4,
 "nbformat_minor": 2
}
