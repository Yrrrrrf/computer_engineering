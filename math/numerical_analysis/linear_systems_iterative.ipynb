{
 "cells": [
  {
   "attachments": {},
   "cell_type": "markdown",
   "metadata": {},
   "source": [
    "# [Iterative Methods for Linear Systems](numerical%20analysis.md)\n",
    "\n",
    "In this section we will discuss iterative methods for solving linear systems of equations. These methods are based on the idea of iteratively improving an initial guess for the solution.\n",
    "\n",
    "- Jacobi Method `(7.1)`\n",
    "- Gauss-Seidel Method `(7.2)`\n",
    "- Successive Over-Relaxation (SOR) `(7.3)`\n",
    "- Iterative Refinement `(7.4)`\n",
    "- Conjugate Gradient Method `(7.5)`"
   ]
  },
  {
   "cell_type": "code",
   "execution_count": 1,
   "metadata": {},
   "outputs": [],
   "source": [
    "import numpy as np"
   ]
  },
  {
   "attachments": {},
   "cell_type": "markdown",
   "metadata": {},
   "source": [
    "### Jacobi Method `(7.1)`\n",
    "\n",
    "The Jacobi method is an iterative method for solving a linear system of equations. It is named after the German mathematician [Pierre Simon de Laplace](https://en.wikipedia.org/wiki/Pierre-Simon_Laplace) (1749-1827) who used it to solve the problem of finding the orbit of the moon around the earth. The method is also known as the method of successive averages.\n",
    "\n",
    "The Jacobi method is based on the idea of iteratively improving an initial guess for the solution. The method is based on the following equation:\n",
    "\n",
    "$$\\begin{align} x^{(k+1)} &= D^{-1} \\left( b - (L + U) x^{(k)} \\right) \\\\ &= D^{-1} \\left( b - A x^{(k)} \\right) \\end{align}$$\n",
    "\n",
    "where $D$ is the diagonal matrix of the coefficients of the linear system, $L$ is the lower triangular matrix of the coefficients of the linear system, $U$ is the upper triangular matrix of the coefficients of the linear system, $A$ is the coefficient matrix of the linear system, $b$ is the vector of constants of the linear system, and $x^{(k)}$ is the current guess for the solution."
   ]
  },
  {
   "cell_type": "code",
   "execution_count": 5,
   "metadata": {},
   "outputs": [],
   "source": [
    "def jacobi(A: np.ndarray, b: np.ndarray, x0: np.ndarray, tol=1e-5, maxiter=100) -> np.ndarray:\n",
    "    \"\"\"Jacobi method for solving linear systems of equations Ax = b\"\"\"\n",
    "    A = np.asarray(A)\n",
    "    b = np.asarray(b)\n",
    "    x0 = np.asarray(x0)\n",
    "    n = len(b)\n",
    "    x = np.zeros_like(b)\n",
    "    for i in range(maxiter):\n",
    "        for j in range(n):\n",
    "            s = np.dot(A[j,:], x)\n",
    "            s -= A[j,j] * x[j]\n",
    "            x[j] = (b[j] - s) / A[j,j]\n",
    "        if np.allclose(x, x0, atol=tol):\n",
    "            break\n",
    "        x0 = x.copy()\n",
    "    return x"
   ]
  },
  {
   "attachments": {},
   "cell_type": "markdown",
   "metadata": {},
   "source": [
    "### Gauss Seidel Method `(7.2)`\n",
    "\n",
    "The Gauss-Seidel method is an iterative method for solving a linear system of equations. It is named after the German mathematician [Carl Friedrich Gauss](https://en.wikipedia.org/wiki/Carl_Friedrich_Gauss) (1777-1855) and the French mathematician [Jean le Rond d'Alembert](https://en.wikipedia.org/wiki/Jean_le_Rond_d%27Alembert) (1717-1783) who used it to solve the problem of finding the orbit of the moon around the earth. The method is also known as the method of successive over-relaxation.\n",
    "\n",
    "The Gauss-Seidel method is based on the idea of iteratively improving an initial guess for the solution. The method is based on the following equation:\n",
    "\n",
    "$$\\begin{align} x^{(k+1)} &= D^{-1} \\left( b - (L + U) x^{(k+1)} \\right) \\\\ &= D^{-1} \\left( b - A x^{(k+1)} \\right) \\end{align}$$\n",
    "\n",
    "where $D$ is the diagonal matrix of the coefficients of the linear system, $L$ is the lower triangular matrix of the coefficients of the linear system, $U$ is the upper triangular matrix of the coefficients of the linear system, $A$ is the coefficient matrix of the linear system, $b$ is the vector of constants of the linear system, and $x^{(k)}$ is the current guess for the solution."
   ]
  },
  {
   "cell_type": "code",
   "execution_count": 4,
   "metadata": {},
   "outputs": [],
   "source": [
    "def gauss_seidel(A: np.ndarray, b: np.ndarray, x0: np.ndarray, tol=1e-5, maxiter=100) -> np.ndarray:\n",
    "    \"\"\"Gauss-Seidel method for solving linear systems of equations Ax = b\"\"\"\n",
    "    return None  # type: ignore"
   ]
  },
  {
   "attachments": {},
   "cell_type": "markdown",
   "metadata": {},
   "source": [
    "### Successive Over-Relaxation (SOR) `(7.3)`\n",
    "\n",
    "The successive over-relaxation (SOR) method is an iterative method for solving a linear system of equations. It is named after the German mathematician [Pierre Simon de Laplace](https://en.wikipedia.org/wiki/Pierre-Simon_Laplace) (1749-1827) who used it to solve the problem of finding the orbit of the moon around the earth. The method is also known as the method of successive over-relaxation."
   ]
  },
  {
   "cell_type": "code",
   "execution_count": null,
   "metadata": {},
   "outputs": [],
   "source": [
    "def successive_over_relaxation(A: np.ndarray, b: np.ndarray, x0: np.ndarray, w: float, tol=1e-5, maxiter=100) -> np.ndarray:\n",
    "    \"\"\"Successive over-relaxation method for solving linear systems of equations Ax = b\"\"\"\n",
    "    return None  # type: ignore"
   ]
  },
  {
   "attachments": {},
   "cell_type": "markdown",
   "metadata": {},
   "source": [
    "### Iterative Refinement `(7.4)`\n",
    "\n",
    "The iterative refinement method is an iterative method for solving a linear system of equations. It is named after the German mathematician [Pierre Simon de Laplace](https://en.wikipedia.org/wiki/Pierre-Simon_Laplace) (1749-1827) who used it to solve the problem of finding the orbit of the moon around the earth. The method is also known as the method of successive over-relaxation."
   ]
  },
  {
   "cell_type": "code",
   "execution_count": 6,
   "metadata": {},
   "outputs": [],
   "source": [
    "def iterative_refinement(A: np.ndarray, b: np.ndarray, x0: np.ndarray, tol=1e-5, maxiter=100) -> np.ndarray:\n",
    "    \"\"\"Iterative refinement method for solving linear systems of equations Ax = b\"\"\"\n",
    "    return None  # type: ignore"
   ]
  },
  {
   "attachments": {},
   "cell_type": "markdown",
   "metadata": {},
   "source": [
    "### Conjugate Gradient Method `(7.5)`\n",
    "\n",
    "The conjugate gradient method is an iterative method for solving a linear system of equations. It is named after the American mathematician [Hermann Weyl](https://en.wikipedia.org/wiki/Hermann_Weyl) (1885-1955) who used it to solve the problem of finding the orbit of the moon around the earth. The method is also known as the method of successive over-relaxation."
   ]
  },
  {
   "cell_type": "code",
   "execution_count": 7,
   "metadata": {},
   "outputs": [],
   "source": [
    "def conjugate_gradient(A: np.ndarray, b: np.ndarray, x0: np.ndarray, tol=1e-5, maxiter=100) -> np.ndarray:\n",
    "    \"\"\"Conjugate gradient method for solving linear systems of equations Ax = b\"\"\"\n",
    "    return None  # type: ignore"
   ]
  }
 ],
 "metadata": {
  "kernelspec": {
   "display_name": ".venv",
   "language": "python",
   "name": "python3"
  },
  "language_info": {
   "codemirror_mode": {
    "name": "ipython",
    "version": 3
   },
   "file_extension": ".py",
   "mimetype": "text/x-python",
   "name": "python",
   "nbconvert_exporter": "python",
   "pygments_lexer": "ipython3",
   "version": "3.11.1"
  },
  "orig_nbformat": 4,
  "vscode": {
   "interpreter": {
    "hash": "90e9cecf0ab6516382938111031b3a23db288579fe2d09bae4330be5540f9898"
   }
  }
 },
 "nbformat": 4,
 "nbformat_minor": 2
}
