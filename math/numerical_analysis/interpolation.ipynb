{
 "cells": [
  {
   "attachments": {},
   "cell_type": "markdown",
   "metadata": {},
   "source": [
    "# [Interpolation](numerical%20analysis.md)\n",
    "\n",
    "In [numerical analysis](/math/numerical_analysis/numerical%20analysis.md) the term interpolation is used to describe the **process of finding a function that passes through a given set of points**. This is useful for finding the value of a function at a point that is not in the given set of points. The function that is found is called an **interpolating function**.\n",
    "\n",
    "Is similar to **extrapolation** but in this case the function is found by using the given points, while in extrapolation the function is found by using points outside the given set.\n",
    "\n",
    "- Lagrange Interpolation (Lagrange Polynomial)\n",
    "- Neville's Iterative `(3.1)`\n",
    "- Newton's Divided Differences `(3.2)`\n",
    "- Hermite Interpolation `(3.3)`\n",
    "- Natural Cubic Spline `(3.4)`\n",
    "- Clamped Cubic Spline `(3.5)`\n",
    "\n"
   ]
  },
  {
   "cell_type": "code",
   "execution_count": 4,
   "metadata": {},
   "outputs": [],
   "source": [
    "import numpy as np"
   ]
  },
  {
   "attachments": {},
   "cell_type": "markdown",
   "metadata": {},
   "source": [
    "### Lagrange Interpolation (Lagrange Polynomial)\n",
    "\n",
    "The Lagrange interpolation formula is a polynomial of degree $n$ that passes through $n+1$ points. The formula is given by:$L(x) = \\sum_{i=0}^n y_i \\ell_i(x)$\n",
    "where $\\ell_i(x)$ is the Lagrange basis polynomial given by: $\\ell_i(x) = \\prod_{j=0, j \\neq i}^n \\frac{x-x_j}{x_i-x_j}$\n",
    "\n",
    "The Lagrange interpolation formula can be used to find the value of a function at a point that is not in the given set of points. The formula is given by:$L(x) = \\sum_{i=0}^n y_i \\ell_i(x)$\n",
    "where $\\ell_i(x)$ is the Lagrange basis polynomial given by: $\\ell_i(x) = \\prod_{j=0, j \\neq i}^n \\frac{x-x_j}{x_i-x_j}$"
   ]
  },
  {
   "cell_type": "code",
   "execution_count": 5,
   "metadata": {},
   "outputs": [],
   "source": [
    "def lagrange_interpolation(x: np.ndarray, y: np.ndarray, x0: float) -> float:\n",
    "    \"\"\"\n",
    "    Lagrange interpolation\n",
    "    \"\"\"\n",
    "    # x and y coordinates of the points\n",
    "    # x = np.array([1, 2, 3, 4, 5])\n",
    "    # y = np.array([2, 4, 6, 8, 10])\n",
    "\n",
    "    n = len(x) - 1  # polynomial degree\n",
    "    x0 = 3.5 # interpolation point\n",
    "    p = 0  # initialize the polynomial\n",
    "\n",
    "    for i in range(n + 1):  # loop over the points\n",
    "        l = 1  # initialize the Lagrange basis polynomial\n",
    "        for j in range(n + 1):  # loop over the points\n",
    "            if i != j: l *= (x0 - x[j]) / (x[i] - x[j])  # update the polynomial\n",
    "        p += y[i] * l\n",
    "\n",
    "    print(f\"Interpolation point: {x0}\\nInterpolated value: {p}\")\n",
    "    return p  # return the interpolated value"
   ]
  },
  {
   "attachments": {},
   "cell_type": "markdown",
   "metadata": {},
   "source": [
    "### Neville's Iterative Method `(3.1)`\n",
    "The Neville's iterative method is a method for finding the value of a function at a point that is not in the given set of points. The method is based on the Lagrange interpolation formula.\n",
    "\n",
    "$L(x) = \\sum_{i=0}^n y_i \\ell_i(x)$ where $\\ell_i(x)$ is the Lagrange basis polynomial given by: $\\ell_i(x) = \\prod_{j=0, j \\neq i}^n \\frac{x-x_j}{x_i-x_j}$\n",
    "$$\\begin{align*}\n",
    "L_0(x) &= y_0\\\\\n",
    "L_1(x) &= y_0 + \\frac{(x-x_0)}{(x_1-x_0)}(y_1-y_0)\\\\\n",
    "L_2(x) &= y_0 + \\frac{(x-x_0)}{(x_1-x_0)}(y_1-y_0) + \\frac{(x-x_0)(x-x_1)}{(x_2-x_0)(x_2-x_1)}(y_2-y_0-y_1+y_2)\\\\\n",
    "\\vdots\\\\\n",
    "L_n(x) &= y_0 + \\frac{(x-x_0)}{(x_1-x_0)}(y_1-y_0) + \\frac{(x-x_0)(x-x_1)}{(x_2-x_0)(x_2-x_1)}(y_2-y_0-y_1+y_2) + \\cdots + \\frac{(x-x_0)(x-x_1)\\cdots(x-x_{n-1})}{(x_n-x_0)(x_n-x_1)\\cdots(x_n-x_{n-1})}(y_n-y_0-y_1+\\cdots-y_{n-1}+y_n)\n",
    "\\end{align*}$$"
   ]
  },
  {
   "cell_type": "code",
   "execution_count": 6,
   "metadata": {},
   "outputs": [],
   "source": [
    "def neville(x: np.ndarray, y: np.ndarray, z: float) -> float:\n",
    "    \"\"\"\"\n",
    "    Neville's algorithm for polynomial interpolation\n",
    "    \"\"\"\n",
    "    n = len(x)\n",
    "    q = np.zeros((n, n))\n",
    "    for i in range(n):\n",
    "        q[i, 0] = y[i]\n",
    "    for j in range(1, n):\n",
    "        for i in range(n-j):\n",
    "            q[i, j] = ((z-x[i])*q[i+1, j-1] - (z-x[i+j])*q[i, j-1])/(x[i+j]-x[i])\n",
    "    return q[0, n-1]  # return the interpolated value\n"
   ]
  },
  {
   "attachments": {},
   "cell_type": "markdown",
   "metadata": {},
   "source": [
    "\n",
    "### Newton's Divided Differences `(3.2)`\n",
    "The Newton's divided differences method is a method for finding the value of a function at a point that is not in the given set of points. The method is based on the Lagrange interpolation formula.\n",
    "\n",
    "$L(x) = \\sum_{i=0}^n y_i \\ell_i(x)$ where $\\ell_i(x)$ is the Lagrange basis polynomial given by: $\\ell_i(x) = \\prod_{j=0, j \\neq i}^n \\frac{x-x_j}{x_i-x_j}$\n",
    "$$\\begin{align}\n",
    "f[x_0] &= f(x_0) \\\\\n",
    "f[x_0, x_1] &= \\frac{f[x_1] - f[x_0]}{x_1 - x_0} \\\\\n",
    "f[x_0, x_1, x_2] &= \\frac{f[x_1, x_2] - f[x_0, x_1]}{x_2 - x_0} \\\\\n",
    "f[x_0, x_1, x_2, x_3] &= \\frac{f[x_1, x_2, x_3] - f[x_0, x_1, x_2]}{x_3 - x_0} \\\\\n",
    "\\vdots \\\\\n",
    "f[x_0, x_1, \\cdots, x_n] &= \\frac{f[x_1, x_2, \\cdots, x_n] - f[x_0, x_1, \\cdots, x_{n-1}]}{x_n - x_0}\n",
    "\\end{align}$$"
   ]
  },
  {
   "cell_type": "code",
   "execution_count": 7,
   "metadata": {},
   "outputs": [],
   "source": [
    "def newton(x, y, z):\n",
    "    n = len(x)\n",
    "    q = np.zeros((n, n))\n",
    "    for i in range(n):\n",
    "        q[i, 0] = y[i]\n",
    "    for j in range(1, n):\n",
    "        for i in range(n-j):\n",
    "            q[i, j] = (q[i+1, j-1] - q[i, j-1])/(x[i+j]-x[i])\n",
    "    p = q[0, 0]\n",
    "    for k in range(1, n):\n",
    "        t = q[0, k]\n",
    "        for i in range(k):\n",
    "            t = t*(z-x[i])\n",
    "        p = p + t\n",
    "    return p"
   ]
  },
  {
   "attachments": {},
   "cell_type": "markdown",
   "metadata": {},
   "source": [
    "### Hermite Interpolation `(3.3)`\n",
    "The Hermite interpolation method is a method for finding the value of a function at a point that is not in the given set of points. The method is based on the Lagrange interpolation formula.\n",
    "\n",
    "$$\\begin{align}\n",
    "H_0(x) &= y_0 \\\\\n",
    "H_1(x) &= y_1 + \\frac{h_0}{2} + \\frac{h_0^2}{6}(3(x-x_0) - 2h_0 - h_1) + \\frac{h_0^3}{6}(x-x_0) + \\frac{h_1^2}{6}(x-x_0) \\\\\n",
    "H_2(x) &= y_2 + \\frac{h_1}{2} + \\frac{h_1^2}{6}(3(x-x_1) - 2h_1 - h_2) + \\frac{h_1^3}{6}(x-x_1) + \\frac{h_2^2}{6}(x-x_1) \\\\\n",
    "\\vdots \\\\\n",
    "H_n(x) &= y_n + \\frac{h_{n-1}}{2} + \\frac{h_{n-1}^2}{6}(3(x-x_{n-1}) - 2h_{n-1} - h_n) + \\frac{h_{n-1}^3}{6}(x-x_{n-1}) + \\frac{h_n^2}{6}(x-x_{n-1})\n",
    "\\end{align}$$\n"
   ]
  },
  {
   "cell_type": "code",
   "execution_count": 10,
   "metadata": {},
   "outputs": [],
   "source": [
    "def hermite(x, y, yd, z):\n",
    "    n = len(x)\n",
    "    q = np.zeros((n, n))\n",
    "    for i in range(n):\n",
    "        q[i, 0] = y[i]\n",
    "    for j in range(1, n):\n",
    "        for i in range(n-j):\n",
    "            q[i, j] = (q[i+1, j-1] - q[i, j-1])/(x[i+j]-x[i])\n",
    "    p = q[0, 0]\n",
    "    for k in range(1, n):\n",
    "        t = q[0, k]\n",
    "        for i in range(k):\n",
    "            t = t*(z-x[i])\n",
    "        p = p + t\n",
    "    return p"
   ]
  },
  {
   "attachments": {},
   "cell_type": "markdown",
   "metadata": {},
   "source": [
    "### Natural Cubic Spline `(3.4)`\n",
    "The natural cubic spline method is a method for finding the value of a function at a point that is not in the given set of points. The method is based on the Lagrange interpolation formula.\n",
    "\n",
    "$$\\begin{align}\n",
    "S_0(x) &= y_0 \\\\\n",
    "S_1(x) &= y_1 + \\frac{h_0}{6}(2(x-x_0) + h_0) + \\frac{h_0^2}{6}(x-x_0) \\\\\n",
    "S_2(x) &= y_2 + \\frac{h_1}{6}(2(x-x_1) + h_1) + \\frac{h_1^2}{6}(x-x_1) \\\\\n",
    "\\vdots \\\\\n",
    "S_n(x) &= y_n + \\frac{h_{n-1}}{6}(2(x-x_{n-1}) + h_{n-1}) + \\frac{h_{n-1}^2}{6}(x-x_{n-1})\n",
    "\\end{align}$$"
   ]
  },
  {
   "cell_type": "code",
   "execution_count": 9,
   "metadata": {},
   "outputs": [],
   "source": [
    "def natural_cubic_spline(x, y, z):\n",
    "    n = len(x)\n",
    "    h = np.zeros(n-1)\n",
    "    for i in range(n-1):\n",
    "        h[i] = x[i+1] - x[i]\n",
    "    a = np.zeros(n)\n",
    "    for i in range(1, n-1):\n",
    "        a[i] = 3*(y[i+1]-y[i])/h[i] - 3*(y[i]-y[i-1])/h[i-1]\n",
    "    l = np.zeros(n)\n",
    "    u = np.zeros(n)\n",
    "    z = np.zeros(n)\n",
    "    l[0] = 1\n",
    "    u[0] = 0\n",
    "    z[0] = 0\n",
    "    for i in range(1, n-1):\n",
    "        l[i] = 2*(x[i+1]-x[i-1]) - h[i-1]*u[i-1]\n",
    "        u[i] = h[i]/l[i]\n",
    "        z[i] = (a[i] - h[i-1]*z[i-1])/l[i]\n",
    "    l[n-1] = 1\n",
    "    z[n-1] = 0\n",
    "    c = np.zeros(n)\n",
    "    b = np.zeros(n)\n",
    "    d = np.zeros(n)\n",
    "    c[n-1] = 0\n",
    "    for j in range(n-2, -1, -1):\n",
    "        c[j] = z[j] - u[j]*c[j+1]\n",
    "        b[j] = (y[j+1]-y[j])/h[j] - h[j]*(c[j+1]+2*c[j])/3\n",
    "        d[j] = (c[j+1]-c[j])/(3*h[j])\n",
    "    for i in range(n-1):\n",
    "        if x[i] <= z and z <= x[i+1]:\n",
    "            return y[i] + b[i]*(z-x[i]) + c[i]*(z-x[i])**2 + d[i]*(z-x[i])**3"
   ]
  },
  {
   "attachments": {},
   "cell_type": "markdown",
   "metadata": {},
   "source": [
    "### Clamped Cubic Spline `(3.5)`\n",
    "The clamped cubic spline method is a method for finding the value of a function at a point that is not in the given set of points. The method is based on the Lagrange interpolation formula."
   ]
  },
  {
   "cell_type": "code",
   "execution_count": 11,
   "metadata": {},
   "outputs": [],
   "source": [
    "def clamped_cubic_spline():\n",
    "    \"\"\"\"\n",
    "    Clamped Cubic Spline\n",
    "    \"\"\"\n",
    "    pass"
   ]
  }
 ],
 "metadata": {
  "kernelspec": {
   "display_name": ".venv",
   "language": "python",
   "name": "python3"
  },
  "language_info": {
   "codemirror_mode": {
    "name": "ipython",
    "version": 3
   },
   "file_extension": ".py",
   "mimetype": "text/x-python",
   "name": "python",
   "nbconvert_exporter": "python",
   "pygments_lexer": "ipython3",
   "version": "3.11.1"
  },
  "orig_nbformat": 4,
  "vscode": {
   "interpreter": {
    "hash": "90e9cecf0ab6516382938111031b3a23db288579fe2d09bae4330be5540f9898"
   }
  }
 },
 "nbformat": 4,
 "nbformat_minor": 2
}
