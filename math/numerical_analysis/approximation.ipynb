{
 "cells": [
  {
   "attachments": {},
   "cell_type": "markdown",
   "metadata": {},
   "source": [
    "# Approximation\n",
    "\n",
    "Is the process of **finding a function that is close to a given dataset**."
   ]
  },
  {
   "cell_type": "code",
   "execution_count": 1,
   "metadata": {},
   "outputs": [],
   "source": [
    "from typing import Callable\n",
    "\n",
    "import numpy as np"
   ]
  },
  {
   "attachments": {},
   "cell_type": "markdown",
   "metadata": {},
   "source": [
    "### Linear Regression\n",
    "\n",
    "Returns a linear function in the form of $y = mx + b$ that best fits the given dataset."
   ]
  },
  {
   "cell_type": "code",
   "execution_count": 2,
   "metadata": {},
   "outputs": [],
   "source": [
    "def linear_regression(x, y) -> Callable:\n",
    "    \"\"\"\n",
    "    Interpolate the data (x, y)\n",
    "\n",
    "    :param x: the x values\n",
    "    :param y: the y values\n",
    "    :return: the linear regression function in the form y = mx + b\n",
    "    \"\"\"\n",
    "    # ! return np.poly1d(np.polyfit(x, y, 1))  # but we won't use this because wi'll implement it ourselves\n",
    "    x_mean = np.mean(x)\n",
    "    y_mean = np.mean(y)\n",
    "    # cov = np.mean(x * y) - x_mean * y_mean  # covariance\n",
    "    # m = cov / np.var(x)  # slope\n",
    "    m = (np.mean(x * y) - x_mean * y_mean) / np.var(x)  # slope\n",
    "    b = y_mean - m * x_mean  # y-intercept\n",
    "    print(f'y = {m}x + {b}')\n",
    "    return lambda x: m * x + b"
   ]
  },
  {
   "attachments": {},
   "cell_type": "markdown",
   "metadata": {},
   "source": [
    "### Exponential Regression\n",
    "\n",
    "Returns an exponential function in the form of $y = a\\cdot m^x$ that best fits the given dataset.\n",
    "\n",
    "Where $a = e^b$ is the y-intercept and $m$ is the growth rate."
   ]
  },
  {
   "cell_type": "code",
   "execution_count": 3,
   "metadata": {},
   "outputs": [],
   "source": [
    "def exponential_regression(x, y) -> Callable:\n",
    "    \"\"\"\n",
    "    Interpolate the data (x, y)\n",
    "\n",
    "    :param x: the x values\n",
    "    :param y: the y values\n",
    "    :return: the exponential regression function in the form y = a * e^(bx)\n",
    "    \"\"\"\n",
    "    # ! return np.exp(np.polyfit(np.log(x), y, 1, full=True))  # but we won't use this because wi'll implement it ourselves\n",
    "    y = np.log(y)  # we need to take the log of 'y' because we want to find the slope of the log of 'y'\n",
    "    x_mean = np.mean(x)\n",
    "    y_mean = np.mean(y)\n",
    "    m = (np.mean(x * y) - x_mean * y_mean) / np.var(x)  # slope\n",
    "    b = y_mean - m * x_mean  # y-intercept\n",
    "    print(f'y = {np.exp(b)}e^{m}x')  # we need to take the exponential of 'b' because we took the log of 'y'\n",
    "    return lambda x: np.exp(m * x + b)"
   ]
  },
  {
   "attachments": {},
   "cell_type": "markdown",
   "metadata": {},
   "source": [
    "### Power Regression\n",
    "\n",
    "Returns a power function in the form of $y = ax^b$ that best fits the given dataset.\n",
    "\n",
    "Where $a = e^b$ is the y-intercept.\n"
   ]
  },
  {
   "cell_type": "code",
   "execution_count": 4,
   "metadata": {},
   "outputs": [],
   "source": [
    "def power_regression(x, y) -> Callable:\n",
    "    \"\"\"\n",
    "    Interpolate the data (x, y)\n",
    "\n",
    "    :param x: the x values\n",
    "    :param y: the y values\n",
    "    :return: the power regression function\n",
    "    \"\"\"\n",
    "    # ! return np.poly1d(np.polyfit(np.log(x), np.log(y), 1, full=True))  # but we won't use this because wi'll implement it ourselves\n",
    "    x = np.log(x)\n",
    "    y = np.log(y)\n",
    "    x_mean = np.mean(x)\n",
    "    y_mean = np.mean(y)\n",
    "    # cov = np.mean(x * y) - x_mean * y_mean  # covariance\n",
    "    # m = cov / np.var(x)  # slope\n",
    "    m = (np.mean(x * y) - x_mean * y_mean) / np.var(x)  # slope\n",
    "    b = y_mean - m * x_mean  # y-intercept\n",
    "    print(f'y = {np.exp(b)}x^{m}')  # we need to take the exponential of 'b' because we took the log of 'y'\n",
    "    return lambda x: np.exp(m * np.log(x) + b)"
   ]
  },
  {
   "attachments": {},
   "cell_type": "markdown",
   "metadata": {},
   "source": [
    "### Polynomial Regression (curve fitting process)\n",
    "\n",
    "Is a generalization of linear regression that fits a polynomial function of degree $n$ to the given dataset.\n",
    "\n",
    "It use a variation of the polynomial function in the form of $y =\\Sigma {a_nx^n} = a_0 + a_1x + a_2x^2 + ... + a_nx^n$. Where $a_0$ is the y-intercept and $a_1$ is the slope."
   ]
  },
  {
   "cell_type": "code",
   "execution_count": 5,
   "metadata": {},
   "outputs": [],
   "source": [
    "def polynomial_regression(x, y, degree: int = 2) -> Callable:\n",
    "    \"\"\"\n",
    "    Also known as Curve Fitting process\n",
    "    Interpolate the data (x, y)\n",
    "\n",
    "    :param x: the x values\n",
    "    :param y: the y values\n",
    "    :return: the polynomial regression function in the form y = ax^2 + bx + c\n",
    "    \"\"\"\n",
    "    # ! return np.poly1d(np.polyfit(x, y, degree))  # but we won't use this because wi'll implement it ourselves\n",
    "    A = np.zeros((degree + 1, degree + 1))  # degree+1 square matrix\n",
    "    for row in range(degree + 1):\n",
    "        for column in range(degree + 1): \n",
    "            A[row][column] = np.sum(x ** (row + column))\n",
    "    # print(f'A = {A}')\n",
    "    b = np.zeros(degree + 1)  # degree+1 column vector (results)\n",
    "    for row in range(degree + 1):\n",
    "        b[row] = np.sum((x ** row) * y)\n",
    "    # print(f'b = {b}')\n",
    "    x = np.linalg.solve(A, b)  # A * x = b => x = A^-1 * b\n",
    "    # print(f'x = {x}')\n",
    "    print(f'y = ', end='')\n",
    "    for i in range(degree + 1):\n",
    "        print(f'{x[i]:.4f}x^{i}', end='') if i == degree else print(f'{x[i]:.4f}x^{i} + ', end='')\n",
    "        # print(f'{x[i]:}x^{i}', end='') if i == degree else print(f'{x[i]:}x^{i} + ', end='')\n",
    "    print()  # new line\n",
    "    return lambda x: np.sum([x ** i * x[i] for i in range(degree + 1)])"
   ]
  },
  {
   "cell_type": "code",
   "execution_count": 8,
   "metadata": {},
   "outputs": [
    {
     "name": "stdout",
     "output_type": "stream",
     "text": [
      "y = -0.030561122244482538x + 9.045591182364586\n",
      "Linear Regression: <function linear_regression.<locals>.<lambda> at 0x00000168E42618A0>\n",
      "y = -25.8686x^0 + 31.6223x^1 + 5.0603x^2 + 88.0393x^3 + 24.7178x^4 + -27.7448x^5 + -27.8675x^6 + 13.4434x^7 + 46.9056x^8 + 58.6165x^9 + -33.8875x^10\n",
      "Polynomial Regression: <function polynomial_regression.<locals>.<lambda> at 0x00000168E42618A0>\n",
      "y = 9.059863993766873e^-0.003613941850115494x\n",
      "Exponential Regression: <function exponential_regression.<locals>.<lambda> at 0x00000168E42618A0>\n",
      "y = 11.120029223879337x^-0.09205819685677673\n",
      "Power Regression: <function power_regression.<locals>.<lambda> at 0x00000168E4261E40>\n"
     ]
    }
   ],
   "source": [
    "if __name__ == '__main__':\n",
    "    # Create some data.\n",
    "    # x = np.linspace(0, 10, 10)\n",
    "    # y = np.linspace(1, 21, 11)\n",
    "\n",
    "    x = np.array([ 23,  21,  23,  21,  21,  21,  21,  21,  21,  21,  23,  27,  24,  23,  25,  21,  22,  21,  21])  # age\n",
    "    y = np.array([7.9, 8.1, 8.1, 8.7, 8.6, 8.7, 8.7, 8.7, 8.8, 8.4, 7.9, 8.6, 8.3, 8.6, 8.1, 8.2, 8.6, 8.1, 7.9])  # mean\n",
    "\n",
    "    print(f'Linear Regression: {linear_regression(x, y)}')\n",
    "    print(f'Polynomial Regression: {polynomial_regression(x, y, degree=10)}')\n",
    "    print(f'Exponential Regression: {exponential_regression(x, y)}')\n",
    "    print(f'Power Regression: {power_regression(x, y)}')"
   ]
  },
  {
   "cell_type": "code",
   "execution_count": 16,
   "metadata": {},
   "outputs": [
    {
     "name": "stdout",
     "output_type": "stream",
     "text": [
      "y = -0.026011560693632824x + 0.6387283236993483\n",
      "Linear Regression: <function linear_regression.<locals>.<lambda> at 0x00000168E8673F60>\n",
      "Correlation: -0.016310344118867656\n",
      "y = -0.026011560693632824x + 0.6387283236993483\n"
     ]
    },
    {
     "data": {
      "text/plain": [
       "[<matplotlib.lines.Line2D at 0x168e8813850>]"
      ]
     },
     "execution_count": 16,
     "metadata": {},
     "output_type": "execute_result"
    },
    {
     "data": {
      "image/png": "[encoded data removed]",
      "text/plain": [
       "<Figure size 640x480 with 1 Axes>"
      ]
     },
     "metadata": {},
     "output_type": "display_data"
    }
   ],
   "source": [
    "import matplotlib.pyplot as plt\n",
    "\n",
    "\n",
    "work = np.array([1,1,1,1,0,0,0,0,0,0,0,1,1,1,0,0,1,0,0])\n",
    "\n",
    "print(f'Linear Regression: {linear_regression(y, work)}')\n",
    "print(f'Correlation: {np.corrcoef(y, work)[0][1]}')\n",
    "\n",
    "# Plot linear graph.\n",
    "plt.plot(y, work, 'o')\n",
    "plt.plot(y, linear_regression(y, work)(y))"
   ]
  },
  {
   "cell_type": "code",
   "execution_count": 13,
   "metadata": {},
   "outputs": [
    {
     "name": "stdout",
     "output_type": "stream",
     "text": [
      "Linear Correlation Coefficient: -0.16413323120398224\n",
      "y = -0.030561122244482538x + 9.045591182364586\n"
     ]
    },
    {
     "data": {
      "text/plain": [
       "[<matplotlib.lines.Line2D at 0x168e7401210>]"
      ]
     },
     "execution_count": 13,
     "metadata": {},
     "output_type": "execute_result"
    },
    {
     "data": {
      "image/png": "[encoded data removed]",
      "text/plain": [
       "<Figure size 640x480 with 1 Axes>"
      ]
     },
     "metadata": {},
     "output_type": "display_data"
    }
   ],
   "source": [
    "import matplotlib.pyplot as plt\n",
    "\n",
    "# print linear correlation coefficient\n",
    "print(f'Linear Correlation Coefficient: {np.corrcoef(x, y)[0][1]}')\n",
    "\n",
    "# Plot linear graph.\n",
    "plt.plot(x, y, 'o')\n",
    "plt.plot(x, linear_regression(x, y)(x))"
   ]
  }
 ],
 "metadata": {
  "kernelspec": {
   "display_name": ".venv",
   "language": "python",
   "name": "python3"
  },
  "language_info": {
   "codemirror_mode": {
    "name": "ipython",
    "version": 3
   },
   "file_extension": ".py",
   "mimetype": "text/x-python",
   "name": "python",
   "nbconvert_exporter": "python",
   "pygments_lexer": "ipython3",
   "version": "3.11.1"
  },
  "orig_nbformat": 4,
  "vscode": {
   "interpreter": {
    "hash": "90e9cecf0ab6516382938111031b3a23db288579fe2d09bae4330be5540f9898"
   }
  }
 },
 "nbformat": 4,
 "nbformat_minor": 2
}
