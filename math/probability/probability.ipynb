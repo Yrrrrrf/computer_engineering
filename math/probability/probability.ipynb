{
 "cells": [
  {
   "attachments": {},
   "cell_type": "markdown",
   "metadata": {},
   "source": [
    "# [Probability](probability.md)\n",
    "\n",
    "Is the branch of mathematics that deals with the **analysis of random phenomena [(statistics)](./../statistics/statistics.md)**. It is used to calculate the likelihood that an event will occur or not occur."
   ]
  },
  {
   "cell_type": "code",
   "execution_count": 2,
   "metadata": {},
   "outputs": [],
   "source": [
    "import numpy as np  # numerical analysis\n",
    "import pandas as pd  # statistical data analysis\n",
    "import seaborn as sns  # statistical data visualization"
   ]
  },
  {
   "attachments": {},
   "cell_type": "markdown",
   "metadata": {},
   "source": [
    "### [Probability](a)\n",
    "- population and sample\n",
    "- independent events\n",
    "- conditional probability\n",
    "- bayes' theorem"
   ]
  },
  {
   "cell_type": "code",
   "execution_count": null,
   "metadata": {},
   "outputs": [],
   "source": []
  },
  {
   "attachments": {},
   "cell_type": "markdown",
   "metadata": {},
   "source": [
    "#### Bayes' Theorem\n",
    "\n",
    "The probability of an event, based on prior knowledge of conditions that might be related to the event.\n",
    "\n",
    "$$P(A|B) = \\frac{P(B|A)P(A)}{P(B)}$$"
   ]
  },
  {
   "cell_type": "code",
   "execution_count": null,
   "metadata": {},
   "outputs": [],
   "source": []
  },
  {
   "attachments": {},
   "cell_type": "markdown",
   "metadata": {},
   "source": [
    "### [Probability Distributions](probability_distributions.ipynb)\n",
    "- mass and density functions\n",
    "- random variables\n",
    "    - discrete random variables\n",
    "    - continuous random variables\n",
    "\n",
    "#### [Discrete Distributions](discrete_distributions.ipynb)\n",
    "This kind of random variables can take only a finite or countable number of values. The probability of each value is the same.\n",
    "- bernoulli distribution -> binomial distribution\n",
    "- poisson distribution\n",
    "- uniform distribution\n",
    "- geometric distribution (and hypergeometric distribution)\n",
    "- negative binomial distribution\n",
    "\n",
    "#### [Continuous Distributions](continuous_distributions.ipynb)\n",
    "This kind of random variables can take any value in an interval. The probability of each value is zero.\n",
    "- uniform distribution\n",
    "- exponential distribution\n",
    "- normal distribution and standarization\n",
    "- gamma distribution\n",
    "- beta distribution\n",
    "- weibull distribution\n",
    "- chi-squared distribution\n",
    "- t-distribution\n",
    "- f-distribution\n",
    "\n",
    "#### [Joint Distributions](joint_distributions.ipynb)\n",
    "This kind of random variables can take any value in an interval. The probability of each value is zero.\n",
    "- marginal distribution\n",
    "- bivariate normal distribution\n",
    "- multivariate normal distribution"
   ]
  }
 ],
 "metadata": {
  "kernelspec": {
   "display_name": ".venv",
   "language": "python",
   "name": "python3"
  },
  "language_info": {
   "codemirror_mode": {
    "name": "ipython",
    "version": 3
   },
   "file_extension": ".py",
   "mimetype": "text/x-python",
   "name": "python",
   "nbconvert_exporter": "python",
   "pygments_lexer": "ipython3",
   "version": "3.11.1"
  },
  "orig_nbformat": 4,
  "vscode": {
   "interpreter": {
    "hash": "90e9cecf0ab6516382938111031b3a23db288579fe2d09bae4330be5540f9898"
   }
  }
 },
 "nbformat": 4,
 "nbformat_minor": 2
}
