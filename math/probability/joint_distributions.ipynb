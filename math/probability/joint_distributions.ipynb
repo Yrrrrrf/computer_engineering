{
 "cells": [
  {
   "attachments": {},
   "cell_type": "markdown",
   "metadata": {},
   "source": [
    "# [Joint Distributions](probability.md#joint-distributions)\n",
    "\n",
    "The joint distribution of two random variables $X$ and $Y$ is the probability distribution of the pair $(X, Y)$.\n",
    "\n",
    "- [Marginal distribution](#marginal-distribution)\n",
    "- [Bivariate normal distribution](#bivariate-normal-distribution)\n",
    "- [Multivariate normal distribution](#multivariate-normal-distribution)"
   ]
  },
  {
   "cell_type": "code",
   "execution_count": 1,
   "metadata": {},
   "outputs": [],
   "source": [
    "import matplotlib.pyplot as plt\n",
    "import seaborn as sns\n",
    "import pandas as pd\n",
    "import numpy as np\n",
    "from scipy import stats\n",
    "\n",
    "sns.set_style(\"whitegrid\")\n",
    "data: np.ndarray  # Data for plotting\n",
    "df: pd.DataFrame  # Dataframe for plotting"
   ]
  },
  {
   "attachments": {},
   "cell_type": "markdown",
   "metadata": {},
   "source": [
    "### Marginal Distribution\n",
    "\n",
    "The marginal distribution of a random variable $X$ is the distribution of the random variable obtained by summing over all the values of the other random variables. For example, if $X$ and $Y$ are two random variables, then the marginal distribution of $X$ is the distribution of the random variable $X$ obtained by summing over all the values of $Y$."
   ]
  },
  {
   "cell_type": "code",
   "execution_count": null,
   "metadata": {},
   "outputs": [],
   "source": []
  },
  {
   "attachments": {},
   "cell_type": "markdown",
   "metadata": {},
   "source": [
    "### Bivariate Normal Distribution\n",
    "\n",
    "The bivariate normal distribution is a generalization of the normal distribution to two random variables. The bivariate normal distribution is defined by two parameters: the mean vector $\\mu$ and the covariance matrix $\\Sigma$. The mean vector $\\mu$ is a two-dimensional vector whose components are the mean of the two random variables. The covariance matrix $\\Sigma$ is a two-dimensional matrix whose components are the covariance of the two random variables. The covariance of two random variables $X$ and $Y$ is defined as\n",
    "\n",
    "$$\\operatorname{cov}(X, Y) = \\operatorname{E}[(X - \\mu_X)(Y - \\mu_Y)]$$\n",
    "\n",
    "where $\\mu_X$ and $\\mu_Y$ are the means of $X$ and $Y$, respectively. The covariance matrix $\\Sigma$ is a two-dimensional matrix whose components are the covariances of the two random variables. The covariance matrix $\\Sigma$ is symmetric and positive definite. The bivariate normal distribution is defined by the following probability density function\n",
    "\n",
    "$$f(x, y) = \\frac{1}{2\\pi\\sqrt{\\det\\Sigma}}\\exp\\left(-\\frac{1}{2}(x, y - \\mu)^T\\Sigma^{-1}(x, y - \\mu)\\right)$$\n",
    "\n",
    "where $\\mu$ is the mean vector and $\\Sigma$ is the covariance matrix. The bivariate normal distribution is also known as the Gaussian distribution."
   ]
  },
  {
   "cell_type": "code",
   "execution_count": null,
   "metadata": {},
   "outputs": [],
   "source": []
  },
  {
   "attachments": {},
   "cell_type": "markdown",
   "metadata": {},
   "source": [
    "### Multivariate Normal Distribution\n",
    "\n",
    "The multivariate normal distribution is a generalization of the normal distribution to multiple random variables. The multivariate normal distribution is defined by two parameters: the mean vector $\\mu$ and the covariance matrix $\\Sigma$. The mean vector $\\mu$ is a $k$-dimensional vector whose components are the mean of the $k$ random variables. The covariance matrix $\\Sigma$ is a $k \\times k$ matrix whose components are the covariance of the $k$ random variables. The covariance of two random variables $X$ and $Y$ is defined as\n",
    "\n",
    "$$\\operatorname{cov}(X, Y) = \\operatorname{E}[(X - \\mu_X)(Y - \\mu_Y)]$$\n",
    "\n",
    "where $\\mu_X$ and $\\mu_Y$ are the means of $X$ and $Y$, respectively. The covariance matrix $\\Sigma$ is a $k \\times k$ matrix whose components are the covariances of the $k$ random variables. The covariance matrix $\\Sigma$ is symmetric and positive definite. The multivariate normal distribution is defined by the following probability density function\n",
    "\n",
    "$$f(x_1, \\ldots, x_k) = \\frac{1}{(2\\pi)^{k/2}\\sqrt{\\det\\Sigma}}\\exp\\left(-\\frac{1}{2}(x - \\mu)^T\\Sigma^{-1}(x - \\mu)\\right)$$\n",
    "\n",
    "where $\\mu$ is the mean vector and $\\Sigma$ is the covariance matrix. The multivariate normal distribution is also known as the Gaussian distribution."
   ]
  },
  {
   "cell_type": "code",
   "execution_count": null,
   "metadata": {},
   "outputs": [],
   "source": []
  }
 ],
 "metadata": {
  "kernelspec": {
   "display_name": ".venv",
   "language": "python",
   "name": "python3"
  },
  "language_info": {
   "codemirror_mode": {
    "name": "ipython",
    "version": 3
   },
   "file_extension": ".py",
   "mimetype": "text/x-python",
   "name": "python",
   "nbconvert_exporter": "python",
   "pygments_lexer": "ipython3",
   "version": "3.11.1 (tags/v3.11.1:a7a450f, Dec  6 2022, 19:58:39) [MSC v.1934 64 bit (AMD64)]"
  },
  "orig_nbformat": 4,
  "vscode": {
   "interpreter": {
    "hash": "90e9cecf0ab6516382938111031b3a23db288579fe2d09bae4330be5540f9898"
   }
  }
 },
 "nbformat": 4,
 "nbformat_minor": 2
}
