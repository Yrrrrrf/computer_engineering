{
 "cells": [
  {
   "attachments": {},
   "cell_type": "markdown",
   "metadata": {},
   "source": [
    "# [Discrete Distributions](probability.md#discrete-distributions)\n",
    "\n",
    "Discrete probability distributions are used to model the probability of a random variable taking on a specific value. The random variable can take on a finite number of values. The probability of a random variable taking on a specific value is called a probability mass function (pmf). The probability of a random variable taking on a specific value is called a probability density function (pdf). The probability of a random variable taking on a specific value is called a cumulative distribution function (cdf).\n",
    "\n",
    "- bernoulli distribution -> binomial distribution\n",
    "- poisson distribution\n",
    "- uniform distribution\n",
    "- geometric distribution (and hypergeometric distribution)\n",
    "- negative binomial distribution"
   ]
  },
  {
   "cell_type": "code",
   "execution_count": 1,
   "metadata": {},
   "outputs": [],
   "source": [
    "import matplotlib.pyplot as plt\n",
    "import seaborn as sns\n",
    "import pandas as pd\n",
    "import numpy as np\n",
    "from scipy import stats\n",
    "\n",
    "sns.set_style(\"whitegrid\")\n",
    "data: np.ndarray  # Data for plotting\n",
    "df: pd.DataFrame  # Dataframe for plotting"
   ]
  },
  {
   "attachments": {},
   "cell_type": "markdown",
   "metadata": {},
   "source": [
    "### Bernoulli Distribution\n",
    "\n",
    "The Bernoulli distribution is a discrete probability distribution that describes the probability of a binary event. It is a special case of the binomial distribution.\n",
    "\n",
    "$$P(X = x) = p^x(1-p)^{1-x}$$\n",
    "\n",
    "where $x \\in \\{0, 1\\}$ and $p$ is the probability of success.\n"
   ]
  },
  {
   "cell_type": "code",
   "execution_count": null,
   "metadata": {},
   "outputs": [],
   "source": []
  },
  {
   "attachments": {},
   "cell_type": "markdown",
   "metadata": {},
   "source": [
    "\n",
    "### Binomial Distribution\n",
    "\n",
    "The binomial distribution is a discrete probability distribution that describes the probability of a certain number of successes in a sequence of independent experiments. Is the sum of $n$ independent Bernoulli trials.\n",
    "\n",
    "$$\n",
    "P(X = x) = \\binom{n}{x}p^x(1-p)^{n-x}\n",
    "$$\n",
    "\n",
    "where $x \\in \\{0, 1, 2, ..., n\\}$, $n$ is the number of trials, and $p$ is the probability of success.\n"
   ]
  },
  {
   "cell_type": "code",
   "execution_count": null,
   "metadata": {},
   "outputs": [],
   "source": []
  },
  {
   "attachments": {},
   "cell_type": "markdown",
   "metadata": {},
   "source": [
    "### Poisson Distribution\n",
    "\n",
    "The Poisson distribution is a discrete probability distribution that describes the probability of a certain number of events occurring in a fixed interval of time or space if these events occur with a known constant rate and independently of the time since the last event.\n",
    "\n",
    "$$\n",
    "P(X = x) = \\frac{\\lambda^x e^{-\\lambda}}{x!}\n",
    "$$\n",
    "\n",
    "where $x \\in \\{0, 1, 2, ...\\}$, $\\lambda$ is the average number of events that occur in the given interval, and $e$ is the base of the natural logarithms."
   ]
  },
  {
   "cell_type": "code",
   "execution_count": null,
   "metadata": {},
   "outputs": [],
   "source": []
  },
  {
   "attachments": {},
   "cell_type": "markdown",
   "metadata": {},
   "source": [
    "### Uniform Distribution\n",
    "\n",
    "The uniform distribution is a discrete probability distribution that describes the probability of a certain number of events occurring in a fixed interval of time or space if these events occur with a known constant rate and independently of the time since the last event.\n",
    "\n",
    "$$\n",
    "P(X = x) = \\frac{1}{b - a + 1}\n",
    "\n",
    "$$\n",
    "\n",
    "where $x \\in \\{a, a + 1, a + 2, ..., b\\}$, $a$ is the lower bound, and $b$ is the upper bound."
   ]
  },
  {
   "cell_type": "code",
   "execution_count": null,
   "metadata": {},
   "outputs": [],
   "source": []
  },
  {
   "attachments": {},
   "cell_type": "markdown",
   "metadata": {},
   "source": [
    "### Geometric Distribution\n",
    "\n",
    "The geometric distribution is a discrete probability distribution that describes the number of Bernoulli trials needed to get one success, or the number of failures before the first success.\n",
    "\n",
    "$$\n",
    "P(X = x) = (1 - p)^{x - 1}p\n",
    "$$\n",
    "\n",
    "where $x \\in \\{1, 2, 3, ...\\}$ and $p$ is the probability of success."
   ]
  },
  {
   "cell_type": "code",
   "execution_count": null,
   "metadata": {},
   "outputs": [],
   "source": []
  },
  {
   "attachments": {},
   "cell_type": "markdown",
   "metadata": {},
   "source": [
    "### Hypergeometric Distribution\n",
    "\n",
    "The hypergeometric distribution is a discrete probability distribution that describes the probability of $k$ successes in $n$ draws, without replacement, from a finite population of size $N$ that contains exactly $K$ successful individuals.\n",
    "\n",
    "$$\n",
    "P(X = x) = \\frac{\\binom{K}{x}\\binom{N - K}{n - x}}{\\binom{N}{n}}\n",
    "$$\n",
    "\n",
    "where $x \\in \\{0, 1, 2, ..., n\\}$, $n$ is the number of draws, $K$ is the number of successes in the population, and $N$ is the size of the population."
   ]
  },
  {
   "cell_type": "code",
   "execution_count": null,
   "metadata": {},
   "outputs": [],
   "source": []
  },
  {
   "attachments": {},
   "cell_type": "markdown",
   "metadata": {},
   "source": [
    "### Negative Binomial Distribution\n",
    "\n",
    "The negative binomial distribution is a discrete probability distribution that describes the number of Bernoulli trials needed to get $r$ successes, or the number of failures before the $r$th success.\n",
    "\n",
    "$$\n",
    "P(X = x) = \\binom{x - 1}{r - 1}p^r(1 - p)^{x - r}\n",
    "$$\n",
    "\n",
    "where $x \\in \\{r, r + 1, r + 2, ...\\}$, $r$ is the number of successes, and $p$ is the probability of success."
   ]
  },
  {
   "cell_type": "code",
   "execution_count": null,
   "metadata": {},
   "outputs": [],
   "source": []
  }
 ],
 "metadata": {
  "kernelspec": {
   "display_name": ".venv",
   "language": "python",
   "name": "python3"
  },
  "language_info": {
   "codemirror_mode": {
    "name": "ipython",
    "version": 3
   },
   "file_extension": ".py",
   "mimetype": "text/x-python",
   "name": "python",
   "nbconvert_exporter": "python",
   "pygments_lexer": "ipython3",
   "version": "3.11.1"
  },
  "orig_nbformat": 4,
  "vscode": {
   "interpreter": {
    "hash": "90e9cecf0ab6516382938111031b3a23db288579fe2d09bae4330be5540f9898"
   }
  }
 },
 "nbformat": 4,
 "nbformat_minor": 2
}
