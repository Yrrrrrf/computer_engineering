{
 "cells": [
  {
   "attachments": {},
   "cell_type": "markdown",
   "metadata": {},
   "source": [
    "# [Probability Distributions](probability.md#probability-distributions)\n",
    "\n",
    "In probability theory, a probability distribution is a mathematical function that provides the probabilities of occurrence of different possible outcomes in an experiment.\n",
    "\n",
    "- mass and density functions\n",
    "- random variables\n",
    "    - discrete random variables\n",
    "    - continuous random variables"
   ]
  },
  {
   "cell_type": "code",
   "execution_count": 1,
   "metadata": {},
   "outputs": [],
   "source": [
    "import matplotlib.pyplot as plt\n",
    "import seaborn as sns\n",
    "import pandas as pd\n",
    "import numpy as np\n",
    "from scipy import stats\n",
    "\n",
    "sns.set_style(\"whitegrid\")\n",
    "data: np.ndarray  # Data for plotting\n",
    "df: pd.DataFrame  # Dataframe for plotting"
   ]
  },
  {
   "attachments": {},
   "cell_type": "markdown",
   "metadata": {},
   "source": [
    "### Mass and Density Functions\n",
    "\n",
    "A probability distribution is a function that gives the probabilities of occurrence of different possible outcomes in an experiment. The function is defined over the sample space of the experiment. The probability distribution is a function that maps each outcome to a probability. The probability distribution is also called the probability function or the probability measure.\n",
    "\n",
    "The derivative of the density function is the probability mass function.\n",
    "- **mass function** probability that a random variable is equal to a specific value.\n",
    "- **density function** probability that a random variable is within a specific range of values.\n",
    "\n",
    "$$\n",
    "\\begin{align}\n",
    "F(x) &= \\int_{-\\infty}^{x} f(x) dx \\\\\n",
    "f(x) &= \\frac{d}{dx} F(x)\n",
    "\\end{align}\n",
    "$$\n",
    "\n"
   ]
  },
  {
   "cell_type": "code",
   "execution_count": null,
   "metadata": {},
   "outputs": [],
   "source": []
  },
  {
   "attachments": {},
   "cell_type": "markdown",
   "metadata": {},
   "source": [
    "### Random Variables\n",
    "\n",
    "A random variable is a variable whose value is the outcome of a random phenomenon. A random variable can be discrete or continuous."
   ]
  },
  {
   "cell_type": "code",
   "execution_count": null,
   "metadata": {},
   "outputs": [],
   "source": []
  },
  {
   "attachments": {},
   "cell_type": "markdown",
   "metadata": {},
   "source": [
    "#### Discrete Random Variables\n",
    "\n",
    "Is a random variable that can take on a countable number of values. The probability mass function of a discrete random variable is a function that maps each possible value of the random variable to a probability. The probability mass function is also called the probability distribution function.\n",
    "\n",
    "$$\n",
    "\\begin{align}\n",
    "P(X = x) &= f(x) \\\\\n",
    "P(X \\in A) &= \\sum_{x \\in A} f(x)\n",
    "\\end{align}\n",
    "$$\n",
    "\n",
    "Discrete random variables are used in the [discrete distributions](discrete_distributions.ipynb) notebook."
   ]
  },
  {
   "cell_type": "code",
   "execution_count": null,
   "metadata": {},
   "outputs": [],
   "source": []
  },
  {
   "cell_type": "code",
   "execution_count": null,
   "metadata": {},
   "outputs": [],
   "source": []
  },
  {
   "attachments": {},
   "cell_type": "markdown",
   "metadata": {},
   "source": [
    "#### Continuous Random Variables\n",
    "\n",
    "Is a random variable that can take on an infinite number of values. The probability density function of a continuous random variable is a function that maps each possible value of the random variable to a probability. The probability density function is also called the probability distribution function.\n",
    "\n",
    "$$\n",
    "\\begin{align}\n",
    "P(X = x) &= f(x) dx \\\\\n",
    "P(X \\in A) &= \\int_{A} f(x) dx\n",
    "\\end{align}\n",
    "$$\n",
    "\n",
    "Continuous random variables are used in the [continuous distributions](continuous_distributions.ipynb) notebook."
   ]
  },
  {
   "cell_type": "code",
   "execution_count": null,
   "metadata": {},
   "outputs": [],
   "source": []
  },
  {
   "cell_type": "code",
   "execution_count": null,
   "metadata": {},
   "outputs": [],
   "source": []
  }
 ],
 "metadata": {
  "kernelspec": {
   "display_name": ".venv",
   "language": "python",
   "name": "python3"
  },
  "language_info": {
   "codemirror_mode": {
    "name": "ipython",
    "version": 3
   },
   "file_extension": ".py",
   "mimetype": "text/x-python",
   "name": "python",
   "nbconvert_exporter": "python",
   "pygments_lexer": "ipython3",
   "version": "3.11.1 (tags/v3.11.1:a7a450f, Dec  6 2022, 19:58:39) [MSC v.1934 64 bit (AMD64)]"
  },
  "orig_nbformat": 4,
  "vscode": {
   "interpreter": {
    "hash": "90e9cecf0ab6516382938111031b3a23db288579fe2d09bae4330be5540f9898"
   }
  }
 },
 "nbformat": 4,
 "nbformat_minor": 2
}
